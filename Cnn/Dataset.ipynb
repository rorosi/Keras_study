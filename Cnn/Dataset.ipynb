{
 "cells": [
  {
   "cell_type": "code",
   "execution_count": 219,
   "metadata": {},
   "outputs": [
    {
     "name": "stdout",
     "output_type": "stream",
     "text": [
      "Beagle  파일 길이 :  146\n",
      "Beagle  :  C:\\Users\\kr_student2\\Desktop\\image/Beagle\\Beagle0.jpg\n",
      "bulldog  파일 길이 :  427\n",
      "bulldog  :  C:\\Users\\kr_student2\\Desktop\\image/bulldog\\bulldog0.jpg\n",
      "corgi  파일 길이 :  415\n",
      "corgi  :  C:\\Users\\kr_student2\\Desktop\\image/corgi\\corgi0.jpg\n",
      "Greyhound  파일 길이 :  94\n",
      "Greyhound  :  C:\\Users\\kr_student2\\Desktop\\image/Greyhound\\Greyhound0.jpg\n",
      "Husky  파일 길이 :  429\n",
      "Husky  :  C:\\Users\\kr_student2\\Desktop\\image/Husky\\Husky0.jpg\n",
      "Maltese  파일 길이 :  500\n",
      "Maltese  :  C:\\Users\\kr_student2\\Desktop\\image/Maltese\\Maltese0.jpg\n",
      "Pomeranian  파일 길이 :  416\n",
      "Pomeranian  :  C:\\Users\\kr_student2\\Desktop\\image/Pomeranian\\Pomeranian0.jpg\n",
      "Toypoodle  파일 길이 :  407\n",
      "Toypoodle  :  C:\\Users\\kr_student2\\Desktop\\image/Toypoodle\\Toypoodle0.jpg\n",
      "ok 2834\n"
     ]
    }
   ],
   "source": [
    "from PIL import Image\n",
    "import os, glob, numpy as np\n",
    "from sklearn.model_selection import train_test_split\n",
    "\n",
    "caltech_dir = \"C:\\\\Users\\\\kr_student2\\\\Desktop\\\\image\"\n",
    "categories = [\"Beagle\", \"bulldog\", \"corgi\", \"Greyhound\",\"Husky\",\"Maltese\",\"Pomeranian\",\"Toypoodle\"]\n",
    "nb_classes = len(categories)\n",
    "\n",
    "image_w = 64\n",
    "image_h = 64\n",
    "\n",
    "pixels = image_h * image_w * 3\n",
    "\n",
    "X = []\n",
    "y = []\n",
    "\n",
    "for idx, cat in enumerate(categories):  #리스트가 있는 경우 순서와 리스트의 값을 전달하는 기능을 가집니다.\n",
    "    #첫시작 0번째 Beagle\n",
    "    \n",
    "    #one-hot 돌리기.\n",
    "    label = [0 for i in range(nb_classes)]\n",
    "    label[idx] = 1\n",
    "    #1 0 0 0 0 0 0 0\n",
    "    \n",
    "    image_dir = caltech_dir + \"/\" + cat   #\"C:\\\\Users\\\\kr_student2\\\\Desktop\\\\image\\\\Beagle\"\n",
    "    files = glob.glob(image_dir+\"/*.jpg\") #glob 모듈의 glob 함수는 사용자가 제시한 조건에 맞는 파일명을 리스트 형식으로 반환한다.\n",
    "    print(cat, \" 파일 길이 : \", len(files))\n",
    "    for i, f in enumerate(files):\n",
    "        img = Image.open(f)\n",
    "        img = img.convert(\"RGB\")\n",
    "        img = img.resize((image_w, image_h))\n",
    "        data = np.asarray(img)\n",
    "\n",
    "        X.append(data)\n",
    "        y.append(label)\n",
    "\n",
    "        if i % 700 == 0:\n",
    "            print(cat, \" : \", f)\n",
    "        #700번째 과정 출력\n",
    "\n",
    "X = np.array(X)\n",
    "y = np.array(y)\n",
    "#NumPy의 array라는 함수에 리스트를 넣으면 배열로 변환해 준다.\n",
    "#1 0 0 0 이면 airplanes\n",
    "#0 1 0 0 이면 buddha 이런식\n",
    "\n",
    "\n",
    "X_train, X_test, y_train, y_test = train_test_split(X, y)\n",
    "#훈련/테스트 나눔 테스트 사이즈 기본은 0.25\n",
    "xy = (X_train, X_test, y_train, y_test)\n",
    "np.save(\"C:\\\\Users\\\\kr_student2\\\\Desktop\\\\image\\\\dog_specices_image_data.npy\", xy)\n",
    "\n",
    "print(\"ok\", len(y))"
   ]
  },
  {
   "cell_type": "code",
   "execution_count": 229,
   "metadata": {},
   "outputs": [
    {
     "data": {
      "text/plain": [
       "8"
      ]
     },
     "execution_count": 229,
     "metadata": {},
     "output_type": "execute_result"
    }
   ],
   "source": [
    "nb_classes"
   ]
  },
  {
   "cell_type": "code",
   "execution_count": 220,
   "metadata": {},
   "outputs": [],
   "source": [
    "import os\n",
    "import numpy as np\n",
    "img_dir = \"C:\\\\Users\\\\kr_student2\\\\Desktop\\\\image\"\n",
    "categories = os.listdir(img_dir)\n",
    "nb_calsses = len(categories)\n",
    "X_train, x_test, y_train, y_test = np.load('C:\\\\Users\\\\kr_student2\\\\Desktop\\\\image\\\\dog_specices_image_data.npy', allow_pickle = True)"
   ]
  },
  {
   "cell_type": "code",
   "execution_count": 230,
   "metadata": {},
   "outputs": [
    {
     "name": "stdout",
     "output_type": "stream",
     "text": [
      "(2125, 64, 64, 3)\n",
      "[0 0 1 0 0 0 0 0]\n",
      "(709, 64, 64, 3)\n"
     ]
    }
   ],
   "source": [
    "print(X_train.shape)\n",
    "print(y_train[1])\n",
    "print(X_test.shape)"
   ]
  },
  {
   "cell_type": "code",
   "execution_count": 222,
   "metadata": {},
   "outputs": [],
   "source": [
    "X_train = X_train.astype(float) / 255.0\n",
    "X_test = X_test.astype(float) / 255.0"
   ]
  },
  {
   "cell_type": "code",
   "execution_count": 225,
   "metadata": {},
   "outputs": [],
   "source": [
    "from tensorflow.keras.models import Sequential\n",
    "from tensorflow.keras.layers import Conv2D, MaxPooling2D, Flatten, Dense, Dropout\n",
    "from keras.callbacks import ModelCheckpoint\n",
    "from keras.callbacks import EarlyStopping\n",
    "\n",
    "model = Sequential()\n",
    "model.add(Conv2D(32, (3,3), padding='same', activation='relu', input_shape=X_train.shape[1:]))\n",
    "#첫번째 인자 : 컨볼루션 필터의 수 입니다.\n",
    "#두번째 인자 : 컨볼루션 커널의 (행, 열) 입니다.\n",
    "#padding : 경계 처리 방법을 정의합니다.\n",
    "#‘same’ : 출력 이미지 사이즈가 입력 이미지 사이즈와 동일합니다.\n",
    "#input_shape : 샘플 수를 제외한 입력 형태를 정의 합니다. 모델에서 첫 레이어일 때만 정의하면 됩니다.\n",
    "#(행, 열, 채널 수)로 정의합니다. 흑백영상인 경우에는 채널이 1이고, 컬러(RGB)영상인 경우에는 채널을 3으로 설정합니다.\n",
    "#코를 볼 때는 코 주변만 보고, 눈을 볼 때는 눈 주변만 보면서 학습 및 인식하는 것입니다.\n",
    "model.add(MaxPooling2D(pool_size=(2,2)))\n",
    "#컨볼루션 레이어의 출력 이미지에서 주요값만 뽑아 크기가 작은 출력 영상을 만듭니다. 이것은 지역적인 사소한 변화가 영향을 미치지 않도록 합니다.\n",
    "model.add(Dropout(0.25))\n",
    "#드롭아웃이란 인공 신경망의 뉴런을 확률적으로 사용하지 않음으로써 과적합을 방지하는 기법이다.\n",
    "\n",
    "model.add(Conv2D(64, (3,3), padding = 'same', activation='relu'))\n",
    "model.add(MaxPooling2D(pool_size=(2,2)))\n",
    "model.add(Dropout(0.25))\n",
    "\n",
    "model.add(Conv2D(128, (3,3), padding = 'same', activation='relu'))\n",
    "model.add(Conv2D(128, (3,3), padding = 'same', activation='relu'))\n",
    "model.add(MaxPooling2D(pool_size=(2,2)))\n",
    "model.add(Dropout(0.25))\n",
    "\n",
    "model.add(Flatten())\n",
    "#컨볼루션 레이어나 맥스풀링 레이어는 주로 2차원 자료를 다루지만 전결합층에 전달하기 위해선 1차원 자료로 바꿔줘야 합니다. \n",
    "#이 때 사용되는 것이 플래튼 레이어입니다.\n",
    "model.add((Dense(256, activation='relu')))\n",
    "model.add(Dropout(0.25))\n",
    "model.add(Dense(nb_classes, activation='softmax'))\n",
    "model_dir = 'C:\\\\Users\\\\kr_student2\\\\Desktop\\\\image'\n",
    "    \n",
    "model_path = model_dir + '\\\\dog_model'    \n",
    "checkpoint = ModelCheckpoint(filepath=model_path , monitor='val_loss', verbose=1, save_best_only=True)\n",
    "#ModelCheckpoint 콜백 함수는 Keras에서 모델을 학습할 때마다 중간중간에 콜백 형태로 알려줍니다.\n",
    "early_stopping = EarlyStopping(monitor='val_loss', patience=6)\n",
    "#반복문을 돌면서 최고 성능의 모델을 찾아낼 때, 초반에 최고 성능의 모델이 찾아져서 그 보다 더 좋은 성능의 모델이 더 이상 발견되지 않는 경우가 있습니다. \n",
    "#이런 경우 학습을 중단하도록 하는 기능을 Keras에서는 EarlyStopping()이라는 함수로 제공하고 있습니다."
   ]
  },
  {
   "cell_type": "code",
   "execution_count": 226,
   "metadata": {},
   "outputs": [
    {
     "name": "stdout",
     "output_type": "stream",
     "text": [
      "Model: \"sequential_21\"\n",
      "_________________________________________________________________\n",
      "Layer (type)                 Output Shape              Param #   \n",
      "=================================================================\n",
      "conv2d_35 (Conv2D)           (None, 64, 64, 32)        896       \n",
      "_________________________________________________________________\n",
      "max_pooling2d_24 (MaxPooling (None, 32, 32, 32)        0         \n",
      "_________________________________________________________________\n",
      "dropout_20 (Dropout)         (None, 32, 32, 32)        0         \n",
      "_________________________________________________________________\n",
      "conv2d_36 (Conv2D)           (None, 32, 32, 64)        18496     \n",
      "_________________________________________________________________\n",
      "max_pooling2d_25 (MaxPooling (None, 16, 16, 64)        0         \n",
      "_________________________________________________________________\n",
      "dropout_21 (Dropout)         (None, 16, 16, 64)        0         \n",
      "_________________________________________________________________\n",
      "conv2d_37 (Conv2D)           (None, 16, 16, 128)       73856     \n",
      "_________________________________________________________________\n",
      "conv2d_38 (Conv2D)           (None, 16, 16, 1238)      1427414   \n",
      "_________________________________________________________________\n",
      "max_pooling2d_26 (MaxPooling (None, 8, 8, 1238)        0         \n",
      "_________________________________________________________________\n",
      "dropout_22 (Dropout)         (None, 8, 8, 1238)        0         \n",
      "_________________________________________________________________\n",
      "flatten_11 (Flatten)         (None, 79232)             0         \n",
      "_________________________________________________________________\n",
      "dense_22 (Dense)             (None, 256)               20283648  \n",
      "_________________________________________________________________\n",
      "dropout_23 (Dropout)         (None, 256)               0         \n",
      "_________________________________________________________________\n",
      "dense_23 (Dense)             (None, 8)                 2056      \n",
      "=================================================================\n",
      "Total params: 21,806,366\n",
      "Trainable params: 21,806,366\n",
      "Non-trainable params: 0\n",
      "_________________________________________________________________\n"
     ]
    }
   ],
   "source": [
    "model.summary()"
   ]
  },
  {
   "cell_type": "code",
   "execution_count": 227,
   "metadata": {},
   "outputs": [],
   "source": [
    "model.compile(loss='categorical_crossentropy', optimizer='adam', metrics=['accuracy'])"
   ]
  },
  {
   "cell_type": "code",
   "execution_count": 228,
   "metadata": {},
   "outputs": [
    {
     "name": "stdout",
     "output_type": "stream",
     "text": [
      "Epoch 1/50\n",
      "67/67 [==============================] - ETA: 0s - loss: 2.1310 - accuracy: 0.1779\n",
      "Epoch 00001: val_loss improved from inf to 2.01430, saving model to C:\\Users\\kr_student2\\Desktop\\image\\dog_model\n",
      "INFO:tensorflow:Assets written to: C:\\Users\\kr_student2\\Desktop\\image\\dog_model\\assets\n",
      "67/67 [==============================] - 217s 3s/step - loss: 2.1310 - accuracy: 0.1779 - val_loss: 2.0143 - val_accuracy: 0.1580\n",
      "Epoch 2/50\n",
      "67/67 [==============================] - ETA: 0s - loss: 1.9362 - accuracy: 0.2146\n",
      "Epoch 00002: val_loss improved from 2.01430 to 1.87302, saving model to C:\\Users\\kr_student2\\Desktop\\image\\dog_model\n",
      "INFO:tensorflow:Assets written to: C:\\Users\\kr_student2\\Desktop\\image\\dog_model\\assets\n",
      "67/67 [==============================] - 240s 4s/step - loss: 1.9362 - accuracy: 0.2146 - val_loss: 1.8730 - val_accuracy: 0.2934\n",
      "Epoch 3/50\n",
      "67/67 [==============================] - ETA: 0s - loss: 1.8229 - accuracy: 0.2936\n",
      "Epoch 00003: val_loss improved from 1.87302 to 1.76811, saving model to C:\\Users\\kr_student2\\Desktop\\image\\dog_model\n",
      "INFO:tensorflow:Assets written to: C:\\Users\\kr_student2\\Desktop\\image\\dog_model\\assets\n",
      "67/67 [==============================] - 240s 4s/step - loss: 1.8229 - accuracy: 0.2936 - val_loss: 1.7681 - val_accuracy: 0.3004\n",
      "Epoch 4/50\n",
      "67/67 [==============================] - ETA: 0s - loss: 1.7260 - accuracy: 0.3496\n",
      "Epoch 00004: val_loss improved from 1.76811 to 1.71394, saving model to C:\\Users\\kr_student2\\Desktop\\image\\dog_model\n",
      "INFO:tensorflow:Assets written to: C:\\Users\\kr_student2\\Desktop\\image\\dog_model\\assets\n",
      "67/67 [==============================] - 244s 4s/step - loss: 1.7260 - accuracy: 0.3496 - val_loss: 1.7139 - val_accuracy: 0.3822\n",
      "Epoch 5/50\n",
      "67/67 [==============================] - ETA: 0s - loss: 1.6153 - accuracy: 0.3981\n",
      "Epoch 00005: val_loss improved from 1.71394 to 1.61909, saving model to C:\\Users\\kr_student2\\Desktop\\image\\dog_model\n",
      "INFO:tensorflow:Assets written to: C:\\Users\\kr_student2\\Desktop\\image\\dog_model\\assets\n",
      "67/67 [==============================] - 218s 3s/step - loss: 1.6153 - accuracy: 0.3981 - val_loss: 1.6191 - val_accuracy: 0.3794\n",
      "Epoch 6/50\n",
      "67/67 [==============================] - ETA: 0s - loss: 1.5111 - accuracy: 0.4334\n",
      "Epoch 00006: val_loss improved from 1.61909 to 1.52776, saving model to C:\\Users\\kr_student2\\Desktop\\image\\dog_model\n",
      "INFO:tensorflow:Assets written to: C:\\Users\\kr_student2\\Desktop\\image\\dog_model\\assets\n",
      "67/67 [==============================] - 242s 4s/step - loss: 1.5111 - accuracy: 0.4334 - val_loss: 1.5278 - val_accuracy: 0.4302\n",
      "Epoch 7/50\n",
      "67/67 [==============================] - ETA: 0s - loss: 1.3908 - accuracy: 0.4918\n",
      "Epoch 00007: val_loss did not improve from 1.52776\n",
      "67/67 [==============================] - 221s 3s/step - loss: 1.3908 - accuracy: 0.4918 - val_loss: 1.5324 - val_accuracy: 0.4330\n",
      "Epoch 8/50\n",
      "67/67 [==============================] - ETA: 0s - loss: 1.3042 - accuracy: 0.5200\n",
      "Epoch 00008: val_loss improved from 1.52776 to 1.43762, saving model to C:\\Users\\kr_student2\\Desktop\\image\\dog_model\n",
      "INFO:tensorflow:Assets written to: C:\\Users\\kr_student2\\Desktop\\image\\dog_model\\assets\n",
      "67/67 [==============================] - 224s 3s/step - loss: 1.3042 - accuracy: 0.5200 - val_loss: 1.4376 - val_accuracy: 0.4612\n",
      "Epoch 9/50\n",
      "67/67 [==============================] - ETA: 0s - loss: 1.1873 - accuracy: 0.5779\n",
      "Epoch 00009: val_loss improved from 1.43762 to 1.38437, saving model to C:\\Users\\kr_student2\\Desktop\\image\\dog_model\n",
      "INFO:tensorflow:Assets written to: C:\\Users\\kr_student2\\Desktop\\image\\dog_model\\assets\n",
      "67/67 [==============================] - 237s 4s/step - loss: 1.1873 - accuracy: 0.5779 - val_loss: 1.3844 - val_accuracy: 0.5035\n",
      "Epoch 10/50\n",
      "67/67 [==============================] - ETA: 0s - loss: 1.0405 - accuracy: 0.6202\n",
      "Epoch 00010: val_loss did not improve from 1.38437\n",
      "67/67 [==============================] - 221s 3s/step - loss: 1.0405 - accuracy: 0.6202 - val_loss: 1.4372 - val_accuracy: 0.4584\n",
      "Epoch 11/50\n",
      "67/67 [==============================] - ETA: 0s - loss: 0.9010 - accuracy: 0.6795\n",
      "Epoch 00011: val_loss improved from 1.38437 to 1.37028, saving model to C:\\Users\\kr_student2\\Desktop\\image\\dog_model\n",
      "INFO:tensorflow:Assets written to: C:\\Users\\kr_student2\\Desktop\\image\\dog_model\\assets\n",
      "67/67 [==============================] - 225s 3s/step - loss: 0.9010 - accuracy: 0.6795 - val_loss: 1.3703 - val_accuracy: 0.5162\n",
      "Epoch 12/50\n",
      "67/67 [==============================] - ETA: 0s - loss: 0.7751 - accuracy: 0.7308\n",
      "Epoch 00012: val_loss did not improve from 1.37028\n",
      "67/67 [==============================] - 229s 3s/step - loss: 0.7751 - accuracy: 0.7308 - val_loss: 1.4611 - val_accuracy: 0.5543\n",
      "Epoch 13/50\n",
      "67/67 [==============================] - ETA: 0s - loss: 0.6989 - accuracy: 0.7567\n",
      "Epoch 00013: val_loss did not improve from 1.37028\n",
      "67/67 [==============================] - 211s 3s/step - loss: 0.6989 - accuracy: 0.7567 - val_loss: 1.3886 - val_accuracy: 0.5628\n",
      "Epoch 14/50\n",
      "67/67 [==============================] - ETA: 0s - loss: 0.6708 - accuracy: 0.7614\n",
      "Epoch 00014: val_loss did not improve from 1.37028\n",
      "67/67 [==============================] - 209s 3s/step - loss: 0.6708 - accuracy: 0.7614 - val_loss: 1.4008 - val_accuracy: 0.5501\n",
      "Epoch 15/50\n",
      "67/67 [==============================] - ETA: 0s - loss: 0.5519 - accuracy: 0.8005\n",
      "Epoch 00015: val_loss did not improve from 1.37028\n",
      "67/67 [==============================] - 210s 3s/step - loss: 0.5519 - accuracy: 0.8005 - val_loss: 1.4849 - val_accuracy: 0.5501\n",
      "Epoch 16/50\n",
      "67/67 [==============================] - ETA: 0s - loss: 0.4976 - accuracy: 0.8202\n",
      "Epoch 00016: val_loss did not improve from 1.37028\n",
      "67/67 [==============================] - 207s 3s/step - loss: 0.4976 - accuracy: 0.8202 - val_loss: 1.5250 - val_accuracy: 0.5487\n",
      "Epoch 17/50\n",
      "67/67 [==============================] - ETA: 0s - loss: 0.3974 - accuracy: 0.8593\n",
      "Epoch 00017: val_loss did not improve from 1.37028\n",
      "67/67 [==============================] - 198s 3s/step - loss: 0.3974 - accuracy: 0.8593 - val_loss: 1.6777 - val_accuracy: 0.5515\n"
     ]
    }
   ],
   "source": [
    "#데이터셋이 적어서 validation을 그냥 test 데이터로 진행. \n",
    "history = model.fit(X_train, y_train, batch_size=32, epochs=50, validation_data=(X_test, y_test), callbacks=[checkpoint, early_stopping])"
   ]
  },
  {
   "cell_type": "code",
   "execution_count": 237,
   "metadata": {},
   "outputs": [
    {
     "data": {
      "text/plain": [
       "{'loss': [2.131016254425049,\n",
       "  1.9361518621444702,\n",
       "  1.8228678703308105,\n",
       "  1.7260007858276367,\n",
       "  1.6153010129928589,\n",
       "  1.5110538005828857,\n",
       "  1.390777587890625,\n",
       "  1.304225206375122,\n",
       "  1.1873081922531128,\n",
       "  1.0404623746871948,\n",
       "  0.9009524583816528,\n",
       "  0.7750675082206726,\n",
       "  0.6989169716835022,\n",
       "  0.6708024144172668,\n",
       "  0.551885724067688,\n",
       "  0.4975966811180115,\n",
       "  0.3974107801914215],\n",
       " 'accuracy': [0.1778823584318161,\n",
       "  0.2145882397890091,\n",
       "  0.29364705085754395,\n",
       "  0.34964704513549805,\n",
       "  0.39811766147613525,\n",
       "  0.43341177701950073,\n",
       "  0.49176469445228577,\n",
       "  0.5199999809265137,\n",
       "  0.5778823494911194,\n",
       "  0.6202353239059448,\n",
       "  0.6795294284820557,\n",
       "  0.7308235168457031,\n",
       "  0.7567058801651001,\n",
       "  0.7614117860794067,\n",
       "  0.8004705905914307,\n",
       "  0.8202353119850159,\n",
       "  0.8592941164970398],\n",
       " 'val_loss': [2.0142979621887207,\n",
       "  1.8730155229568481,\n",
       "  1.7681071758270264,\n",
       "  1.7139396667480469,\n",
       "  1.6190893650054932,\n",
       "  1.5277576446533203,\n",
       "  1.5324444770812988,\n",
       "  1.4376174211502075,\n",
       "  1.3843668699264526,\n",
       "  1.4371744394302368,\n",
       "  1.3702775239944458,\n",
       "  1.4610533714294434,\n",
       "  1.3886040449142456,\n",
       "  1.4007501602172852,\n",
       "  1.4848943948745728,\n",
       "  1.524954915046692,\n",
       "  1.6777307987213135],\n",
       " 'val_accuracy': [0.15796896815299988,\n",
       "  0.29337093234062195,\n",
       "  0.30042314529418945,\n",
       "  0.3822284936904907,\n",
       "  0.3794076144695282,\n",
       "  0.4301833510398865,\n",
       "  0.433004230260849,\n",
       "  0.46121296286582947,\n",
       "  0.5035260915756226,\n",
       "  0.45839211344718933,\n",
       "  0.5162200331687927,\n",
       "  0.5543018579483032,\n",
       "  0.5627644658088684,\n",
       "  0.5500705242156982,\n",
       "  0.5500705242156982,\n",
       "  0.5486600995063782,\n",
       "  0.5514809489250183]}"
      ]
     },
     "execution_count": 237,
     "metadata": {},
     "output_type": "execute_result"
    }
   ],
   "source": [
    "history.history"
   ]
  },
  {
   "cell_type": "code",
   "execution_count": 231,
   "metadata": {},
   "outputs": [
    {
     "name": "stdout",
     "output_type": "stream",
     "text": [
      "23/23 [==============================] - 16s 681ms/step - loss: 1.6777 - accuracy: 0.5515\n",
      "정확도 : 0.5515\n"
     ]
    }
   ],
   "source": [
    "print(\"정확도 : %.4f\" % (model.evaluate(X_test, y_test)[1]))"
   ]
  },
  {
   "cell_type": "code",
   "execution_count": 242,
   "metadata": {},
   "outputs": [
    {
     "data": {
      "image/png": "[encoded data removed]",
      "text/plain": [
       "<Figure size 432x288 with 1 Axes>"
      ]
     },
     "metadata": {
      "needs_background": "light"
     },
     "output_type": "display_data"
    }
   ],
   "source": [
    "y_vloss = history. history['val_loss']\n",
    "y_loss = history.history['loss']\n",
    "\n",
    "x_len = np.arange(len(y_loss))\n",
    "\n",
    "plt.plot(x_len, y_vloss, marker=\".\", c='red',label='val_set_loss')\n",
    "plt.plot(x_len, y_loss, marker=\".\", c='blue',label='train_set_loss')\n",
    "plt.legend()\n",
    "plt.xlabel('epochs')\n",
    "plt.ylabel('loss')\n",
    "plt.grid()\n",
    "plt.show()"
   ]
  },
  {
   "cell_type": "code",
   "execution_count": 241,
   "metadata": {},
   "outputs": [
    {
     "data": {
      "image/png": "[encoded data removed]",
      "text/plain": [
       "<Figure size 432x288 with 1 Axes>"
      ]
     },
     "metadata": {
      "needs_background": "light"
     },
     "output_type": "display_data"
    }
   ],
   "source": [
    "y_vloss = history.history['val_accuracy']\n",
    "y_loss = history.history['accuracy']\n",
    "\n",
    "x_len = np.arange(len(y_loss))\n",
    "\n",
    "plt.plot(x_len, y_vloss, marker=\".\", c='red', label='val_set_loss')\n",
    "plt.plot(x_len, y_loss, marker=\".\", c='blue', label='train_set_loss')\n",
    "plt.legend()\n",
    "plt.xlabel('epochs')\n",
    "plt.ylabel('acc')\n",
    "plt.grid()\n",
    "plt.show()"
   ]
  },
  {
   "cell_type": "code",
   "execution_count": 246,
   "metadata": {},
   "outputs": [
    {
     "name": "stdout",
     "output_type": "stream",
     "text": [
      "해당 그레이하운드.jfif이미지는 포메라니안로 추정됩니다.\n",
      "해당 그레이하운드.jpg이미지는 허스키로 추정됩니다.\n",
      "해당 말티즈.jfif이미지는 말티즈로 추정됩니다.\n",
      "해당 말티즈.jpg이미지는 말티즈로 추정됩니다.\n",
      "해당 불독.jfif이미지는 말티즈로 추정됩니다.\n",
      "해당 불독.jpg이미지는 불독으로 추정됩니다.\n",
      "해당 비글.jfif이미지는 허스키로 추정됩니다.\n",
      "해당 비글.JPG이미지는 비글로 추정됩니다.\n",
      "해당 웰시코기.jfif이미지는 포메라니안로 추정됩니다.\n",
      "해당 웰시코기.jpg이미지는 웰시코기로 추정됩니다.\n",
      "해당 토이푸들.jfif이미지는 토이푸들로 추정됩니다.\n",
      "해당 토이푸들.JPG이미지는 토이푸들로 추정됩니다.\n",
      "해당 포메라니안.jfif이미지는 포메라니안로 추정됩니다.\n",
      "해당 포메라니안.jpg이미지는 웰시코기로 추정됩니다.\n",
      "해당 허스키.jfif이미지는 허스키로 추정됩니다.\n",
      "해당 허스키.jpg이미지는 허스키로 추정됩니다.\n"
     ]
    }
   ],
   "source": [
    "from PIL import Image\n",
    "import os, glob, numpy as np\n",
    "from keras.models import load_model\n",
    "\n",
    "caltech_dir = \"C:\\\\Users\\\\kr_student2\\\\Desktop\\\\image\\\\other\"\n",
    "image_w = 64\n",
    "image_h = 64\n",
    "\n",
    "pixels = image_h * image_w * 3\n",
    "\n",
    "X = []\n",
    "filenames = []\n",
    "files = glob.glob(caltech_dir+\"/*.*\")\n",
    "for i, f in enumerate(files):\n",
    "    img = Image.open(f)\n",
    "    img = img.convert(\"RGB\")\n",
    "    img = img.resize((image_w, image_h))\n",
    "    data = np.asarray(img)\n",
    "    filenames.append(f)\n",
    "    X.append(data)\n",
    "\n",
    "X = np.array(X)\n",
    "model = load_model(\"C:\\\\Users\\\\kr_student2\\\\Desktop\\\\image\\\\dog_model\")\n",
    "\n",
    "prediction = model.predict(X)\n",
    "np.set_printoptions(formatter={'float': lambda x: \"{0:0.3f}\".format(x)})\n",
    "cnt = 0\n",
    "\n",
    "#이 비교는 그냥 파일들이 있으면 해당 파일과 비교. 카테고리와 함께 비교해서 진행하는 것은 _4 파일.\n",
    "for i in prediction:\n",
    "    pre_ans = i.argmax()  # 예측 레이블\n",
    "    pre_ans_str = ''\n",
    "    if pre_ans == 0: pre_ans_str = \"비글\"\n",
    "    elif pre_ans == 1: pre_ans_str = \"불독\"\n",
    "    elif pre_ans == 2: pre_ans_str = \"웰시코기\"\n",
    "    elif pre_ans == 3: pre_ans_str = \"그레이하운드\" \n",
    "    elif pre_ans == 4: pre_ans_str = \"허스키\"\n",
    "    elif pre_ans == 5: pre_ans_str = \"말티즈\"\n",
    "    elif pre_ans == 6: pre_ans_str = \"포메라니안\"\n",
    "    else: pre_ans_str = \"토이푸들\"\n",
    "    if i[0] >= 0.8 : print(\"해당 \"+filenames[cnt].split(\"C:\\\\Users\\\\kr_student2\\\\Desktop\\\\image\\\\other\\\\\")[1]+\"이미지는 \"+pre_ans_str+\"로 추정됩니다.\")\n",
    "    if i[1] >= 0.8: print(\"해당 \"+filenames[cnt].split(\"C:\\\\Users\\\\kr_student2\\\\Desktop\\\\image\\\\other\\\\\")[1]+\"이미지는 \"+pre_ans_str+\"으로 추정됩니다.\")\n",
    "    if i[2] >= 0.8: print(\"해당 \"+filenames[cnt].split(\"C:\\\\Users\\\\kr_student2\\\\Desktop\\\\image\\\\other\\\\\")[1]+\"이미지는 \"+pre_ans_str+\"로 추정됩니다.\")\n",
    "    if i[3] >= 0.8: print(\"해당 \"+filenames[cnt].split(\"C:\\\\Users\\\\kr_student2\\\\Desktop\\\\image\\\\other\\\\\")[1]+\"이미지는 \"+pre_ans_str+\"로 추정됩니다.\")\n",
    "    if i[4] >= 0.8: print(\"해당 \"+filenames[cnt].split(\"C:\\\\Users\\\\kr_student2\\\\Desktop\\\\image\\\\other\\\\\")[1]+\"이미지는 \"+pre_ans_str+\"로 추정됩니다.\")\n",
    "    if i[5] >= 0.8: print(\"해당 \"+filenames[cnt].split(\"C:\\\\Users\\\\kr_student2\\\\Desktop\\\\image\\\\other\\\\\")[1]+\"이미지는 \"+pre_ans_str+\"로 추정됩니다.\")\n",
    "    if i[6] >= 0.8: print(\"해당 \"+filenames[cnt].split(\"C:\\\\Users\\\\kr_student2\\\\Desktop\\\\image\\\\other\\\\\")[1]+\"이미지는 \"+pre_ans_str+\"로 추정됩니다.\")\n",
    "    if i[7] >= 0.8: print(\"해당 \"+filenames[cnt].split(\"C:\\\\Users\\\\kr_student2\\\\Desktop\\\\image\\\\other\\\\\")[1]+\"이미지는 \"+pre_ans_str+\"로 추정됩니다.\")\n",
    "    cnt += 1"
   ]
  },
  {
   "cell_type": "code",
   "execution_count": null,
   "metadata": {},
   "outputs": [],
   "source": []
  }
 ],
 "metadata": {
  "kernelspec": {
   "display_name": "keras_study",
   "language": "python",
   "name": "keras_study"
  },
  "language_info": {
   "codemirror_mode": {
    "name": "ipython",
    "version": 3
   },
   "file_extension": ".py",
   "mimetype": "text/x-python",
   "name": "python",
   "nbconvert_exporter": "python",
   "pygments_lexer": "ipython3",
   "version": "3.7.7"
  }
 },
 "nbformat": 4,
 "nbformat_minor": 4
}
