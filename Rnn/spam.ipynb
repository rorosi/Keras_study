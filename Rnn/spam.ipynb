{
 "cells": [
  {
   "cell_type": "code",
   "execution_count": 2,
   "metadata": {},
   "outputs": [
    {
     "name": "stdout",
     "output_type": "stream",
     "text": [
      "생각보다 존잼임, 집에 와서 따라하다가 엄마한테 쳐맞음 cher****2020.04.01 18:13신고\n",
      "관람객갓 엽문.. 견자단형님 존경합니다 엽문의 파이널 마지막시리즈를 영화관에서 배웅합니다 꼭보세요 상영관이 많지 않은게 아쉽네요 산(kiho****)2020.04.02 19:54신고\n",
      "박평식은 답이없다 걍 평론가는 개나소나하는듯 sake(insu****)2020.04.01 15:48신고\n",
      "영화가 이렇다 저렇다 말하고 싶지 않습니다. 단지 11년간 그의 여정을 지켜본 팬으로서 그의 액션을 마지막으로 한번 더 볼 수 있어서 마지막 여정을 함께할 수 있어 행복했습니다. 굿바이 나의 영웅. justdoit(gil0****)2020.04.02 00:36신고\n",
      "박평식 평론가 아침체조하듯 씩씩하게??말을참 x같이하네 체조라도 해보기도햇슈??저런체조도 수OO노력해야 가능한거야영화를 평론하는사람인지 조롱할라고글을적은건지..ㅉㅉ 부모인성이 보인다 나이값좀하고 글쓰세요 블랙야크(pjh8****)2020.04.03 00:38신고\n",
      "코로나때문에 답답해주글것같았는데 국밥 한사바리 한것처럼 시워어언해지는 액션이었읍니다 goo1****2020.04.01 13:28신고\n",
      "자단이형 이제 보내주자후속편도 최선을 다한게보인다..다명장면이지만 1화부터 영상 쫙나올때 너무 찡했다...미국에 록키가있다면 쭝국엔 엽문이 있다...우리나라엔...장군의아들?ㅋㅋㅋ중국액션 예전에비해 많이 시들해졌는데...youn****2020.04.02 04:34신고\n",
      "견자단=엽문, 엽문=견자단. 이번 작품도 견자단 형님이 씹어먹으셨다...마지막이라는게 믿기지 않는다. wowl****2020.04.01 13:19신고\n",
      "박평식같은 평론가가 정말싫다, 재수없다. silba16(silb****)2020.04.08 23:11신고\n",
      "중국 정통무술의 마지막 영화라는 것만으로도 볼 의미 충분함 현정(ahj9****)2020.04.01 13:34신고\n"
     ]
    }
   ],
   "source": [
    "import requests\n",
    "from bs4 import BeautifulSoup\n",
    "\n",
    "req = requests.get(\"https://movie.naver.com/movie/bi/mi/pointWriteFormList.nhn?code=190568&type=after&isActualPointWriteExecute=false&isMileageSubscriptionAlready=false&isMileageSubscriptionReject=false&page=1\")\n",
    "html = req.text\n",
    "\n",
    "soup = BeautifulSoup(html, 'html.parser')\n",
    "\n",
    "for item, i in zip(soup.select(\".score_result .score_reple\"), range(1,15)):\n",
    "    result = item.text\n",
    "    result = result.replace('\\t','')\n",
    "    result = result.replace('\\r','')\n",
    "    result = result.replace('\\n','')\n",
    "    print(result)"
   ]
  },
  {
   "cell_type": "code",
   "execution_count": 404,
   "metadata": {},
   "outputs": [],
   "source": [
    "import numpy as np\n",
    "import pandas as pd\n",
    "%matplotlib inline\n",
    "import matplotlib.pyplot as plt\n",
    "import urllib.request\n",
    "from tensorflow.keras.preprocessing.text import Tokenizer\n",
    "from tensorflow.keras.preprocessing.sequence import pad_sequences"
   ]
  },
  {
   "cell_type": "code",
   "execution_count": 405,
   "metadata": {},
   "outputs": [],
   "source": [
    "urllib.request.urlretrieve(\"https://raw.githubusercontent.com/mohitgupta-omg/Kaggle-SMS-Spam-Collection-Dataset-/master/spam.csv\", filename=\"spam.csv\")\n",
    "data = pd.read_csv('spam.csv',encoding='latin1')"
   ]
  },
  {
   "cell_type": "code",
   "execution_count": 406,
   "metadata": {},
   "outputs": [
    {
     "name": "stdout",
     "output_type": "stream",
     "text": [
      "총 샘플의 수 : 5572\n"
     ]
    }
   ],
   "source": [
    "print('총 샘플의 수 :',len(data))"
   ]
  },
  {
   "cell_type": "code",
   "execution_count": 407,
   "metadata": {
    "scrolled": true
   },
   "outputs": [
    {
     "data": {
      "text/html": [
       "<div>\n",
       "<style scoped>\n",
       "    .dataframe tbody tr th:only-of-type {\n",
       "        vertical-align: middle;\n",
       "    }\n",
       "\n",
       "    .dataframe tbody tr th {\n",
       "        vertical-align: top;\n",
       "    }\n",
       "\n",
       "    .dataframe thead th {\n",
       "        text-align: right;\n",
       "    }\n",
       "</style>\n",
       "<table border=\"1\" class=\"dataframe\">\n",
       "  <thead>\n",
       "    <tr style=\"text-align: right;\">\n",
       "      <th></th>\n",
       "      <th>v1</th>\n",
       "      <th>v2</th>\n",
       "      <th>Unnamed: 2</th>\n",
       "      <th>Unnamed: 3</th>\n",
       "      <th>Unnamed: 4</th>\n",
       "    </tr>\n",
       "  </thead>\n",
       "  <tbody>\n",
       "    <tr>\n",
       "      <th>0</th>\n",
       "      <td>ham</td>\n",
       "      <td>Go until jurong point, crazy.. Available only ...</td>\n",
       "      <td>NaN</td>\n",
       "      <td>NaN</td>\n",
       "      <td>NaN</td>\n",
       "    </tr>\n",
       "    <tr>\n",
       "      <th>1</th>\n",
       "      <td>ham</td>\n",
       "      <td>Ok lar... Joking wif u oni...</td>\n",
       "      <td>NaN</td>\n",
       "      <td>NaN</td>\n",
       "      <td>NaN</td>\n",
       "    </tr>\n",
       "    <tr>\n",
       "      <th>2</th>\n",
       "      <td>spam</td>\n",
       "      <td>Free entry in 2 a wkly comp to win FA Cup fina...</td>\n",
       "      <td>NaN</td>\n",
       "      <td>NaN</td>\n",
       "      <td>NaN</td>\n",
       "    </tr>\n",
       "    <tr>\n",
       "      <th>3</th>\n",
       "      <td>ham</td>\n",
       "      <td>U dun say so early hor... U c already then say...</td>\n",
       "      <td>NaN</td>\n",
       "      <td>NaN</td>\n",
       "      <td>NaN</td>\n",
       "    </tr>\n",
       "    <tr>\n",
       "      <th>4</th>\n",
       "      <td>ham</td>\n",
       "      <td>Nah I don't think he goes to usf, he lives aro...</td>\n",
       "      <td>NaN</td>\n",
       "      <td>NaN</td>\n",
       "      <td>NaN</td>\n",
       "    </tr>\n",
       "  </tbody>\n",
       "</table>\n",
       "</div>"
      ],
      "text/plain": [
       "     v1                                                 v2 Unnamed: 2  \\\n",
       "0   ham  Go until jurong point, crazy.. Available only ...        NaN   \n",
       "1   ham                      Ok lar... Joking wif u oni...        NaN   \n",
       "2  spam  Free entry in 2 a wkly comp to win FA Cup fina...        NaN   \n",
       "3   ham  U dun say so early hor... U c already then say...        NaN   \n",
       "4   ham  Nah I don't think he goes to usf, he lives aro...        NaN   \n",
       "\n",
       "  Unnamed: 3 Unnamed: 4  \n",
       "0        NaN        NaN  \n",
       "1        NaN        NaN  \n",
       "2        NaN        NaN  \n",
       "3        NaN        NaN  \n",
       "4        NaN        NaN  "
      ]
     },
     "execution_count": 407,
     "metadata": {},
     "output_type": "execute_result"
    }
   ],
   "source": [
    "data[:5]"
   ]
  },
  {
   "cell_type": "code",
   "execution_count": 408,
   "metadata": {},
   "outputs": [
    {
     "data": {
      "text/html": [
       "<div>\n",
       "<style scoped>\n",
       "    .dataframe tbody tr th:only-of-type {\n",
       "        vertical-align: middle;\n",
       "    }\n",
       "\n",
       "    .dataframe tbody tr th {\n",
       "        vertical-align: top;\n",
       "    }\n",
       "\n",
       "    .dataframe thead th {\n",
       "        text-align: right;\n",
       "    }\n",
       "</style>\n",
       "<table border=\"1\" class=\"dataframe\">\n",
       "  <thead>\n",
       "    <tr style=\"text-align: right;\">\n",
       "      <th></th>\n",
       "      <th>v1</th>\n",
       "      <th>v2</th>\n",
       "    </tr>\n",
       "  </thead>\n",
       "  <tbody>\n",
       "    <tr>\n",
       "      <th>0</th>\n",
       "      <td>0</td>\n",
       "      <td>Go until jurong point, crazy.. Available only ...</td>\n",
       "    </tr>\n",
       "    <tr>\n",
       "      <th>1</th>\n",
       "      <td>0</td>\n",
       "      <td>Ok lar... Joking wif u oni...</td>\n",
       "    </tr>\n",
       "    <tr>\n",
       "      <th>2</th>\n",
       "      <td>1</td>\n",
       "      <td>Free entry in 2 a wkly comp to win FA Cup fina...</td>\n",
       "    </tr>\n",
       "    <tr>\n",
       "      <th>3</th>\n",
       "      <td>0</td>\n",
       "      <td>U dun say so early hor... U c already then say...</td>\n",
       "    </tr>\n",
       "    <tr>\n",
       "      <th>4</th>\n",
       "      <td>0</td>\n",
       "      <td>Nah I don't think he goes to usf, he lives aro...</td>\n",
       "    </tr>\n",
       "  </tbody>\n",
       "</table>\n",
       "</div>"
      ],
      "text/plain": [
       "   v1                                                 v2\n",
       "0   0  Go until jurong point, crazy.. Available only ...\n",
       "1   0                      Ok lar... Joking wif u oni...\n",
       "2   1  Free entry in 2 a wkly comp to win FA Cup fina...\n",
       "3   0  U dun say so early hor... U c already then say...\n",
       "4   0  Nah I don't think he goes to usf, he lives aro..."
      ]
     },
     "execution_count": 408,
     "metadata": {},
     "output_type": "execute_result"
    }
   ],
   "source": [
    "del data['Unnamed: 2']\n",
    "del data['Unnamed: 3']\n",
    "del data['Unnamed: 4']\n",
    "data['v1'] = data['v1'].replace(['ham','spam'],[0,1])\n",
    "data[:5]"
   ]
  },
  {
   "cell_type": "code",
   "execution_count": 409,
   "metadata": {},
   "outputs": [
    {
     "name": "stdout",
     "output_type": "stream",
     "text": [
      "<class 'pandas.core.frame.DataFrame'>\n",
      "RangeIndex: 5572 entries, 0 to 5571\n",
      "Data columns (total 2 columns):\n",
      " #   Column  Non-Null Count  Dtype \n",
      "---  ------  --------------  ----- \n",
      " 0   v1      5572 non-null   int64 \n",
      " 1   v2      5572 non-null   object\n",
      "dtypes: int64(1), object(1)\n",
      "memory usage: 87.2+ KB\n"
     ]
    }
   ],
   "source": [
    "data.info()"
   ]
  },
  {
   "cell_type": "code",
   "execution_count": 410,
   "metadata": {},
   "outputs": [
    {
     "data": {
      "text/plain": [
       "(5169, 2)"
      ]
     },
     "execution_count": 410,
     "metadata": {},
     "output_type": "execute_result"
    }
   ],
   "source": [
    "data['v2'].nunique(), data['v1'].nunique()"
   ]
  },
  {
   "cell_type": "code",
   "execution_count": 411,
   "metadata": {},
   "outputs": [],
   "source": [
    "data.drop_duplicates(subset=['v2'], inplace=True) # v2 열에서 중복인 내용이 있다면 중복 제거"
   ]
  },
  {
   "cell_type": "code",
   "execution_count": 412,
   "metadata": {},
   "outputs": [
    {
     "data": {
      "image/png": "[encoded data removed]",
      "text/plain": [
       "<Figure size 432x288 with 1 Axes>"
      ]
     },
     "metadata": {
      "needs_background": "light"
     },
     "output_type": "display_data"
    }
   ],
   "source": [
    "data['v1'].value_counts().plot(kind='bar');"
   ]
  },
  {
   "cell_type": "code",
   "execution_count": 413,
   "metadata": {},
   "outputs": [
    {
     "name": "stdout",
     "output_type": "stream",
     "text": [
      "   v1  count\n",
      "0   0   4516\n",
      "1   1    653\n"
     ]
    }
   ],
   "source": [
    "print(data.groupby('v1').size().reset_index(name='count'))"
   ]
  },
  {
   "cell_type": "code",
   "execution_count": 414,
   "metadata": {},
   "outputs": [
    {
     "name": "stdout",
     "output_type": "stream",
     "text": [
      "메일 본문의 개수: 5169\n",
      "레이블의 개수: 5169\n"
     ]
    }
   ],
   "source": [
    "X_data = data['v2']\n",
    "y_data = data['v1']\n",
    "print('메일 본문의 개수: {}'.format(len(X_data)))\n",
    "print('레이블의 개수: {}'.format(len(y_data)))"
   ]
  },
  {
   "cell_type": "code",
   "execution_count": 415,
   "metadata": {},
   "outputs": [
    {
     "data": {
      "text/plain": [
       "0       0\n",
       "1       0\n",
       "2       1\n",
       "3       0\n",
       "4       0\n",
       "       ..\n",
       "5567    1\n",
       "5568    0\n",
       "5569    0\n",
       "5570    0\n",
       "5571    0\n",
       "Name: v1, Length: 5169, dtype: int64"
      ]
     },
     "execution_count": 415,
     "metadata": {},
     "output_type": "execute_result"
    }
   ],
   "source": [
    "y_data"
   ]
  },
  {
   "cell_type": "code",
   "execution_count": 425,
   "metadata": {},
   "outputs": [],
   "source": [
    "tokenizer = Tokenizer()\n",
    "tokenizer.fit_on_texts(X_data) # 5169개의 행을 가진 X의 각 행에 토큰화를 수행\n",
    "sequences = tokenizer.texts_to_sequences(X_data) # 단어를 숫자값, 인덱스로 변환하여 저장"
   ]
  },
  {
   "cell_type": "code",
   "execution_count": 463,
   "metadata": {},
   "outputs": [],
   "source": [
    "sample = ['hi my name is minsu']\n",
    "tokenizer.fit_on_texts(sample) # 5169개의 행을 가진 X의 각 행에 토큰화를 수행\n",
    "sequences = tokenizer.texts_to_sequences(sample) # 단어를 숫자값, 인덱스로 변환하여 저장"
   ]
  },
  {
   "cell_type": "code",
   "execution_count": 464,
   "metadata": {},
   "outputs": [
    {
     "name": "stdout",
     "output_type": "stream",
     "text": [
      "[[87, 11, 234, 9, 1016]]\n"
     ]
    }
   ],
   "source": [
    "print(sequences[:5])"
   ]
  },
  {
   "cell_type": "code",
   "execution_count": 417,
   "metadata": {},
   "outputs": [
    {
     "name": "stdout",
     "output_type": "stream",
     "text": [
      "{'i': 1, 'to': 2, 'you': 3, 'a': 4, 'the': 5, 'u': 6, 'and': 7, 'in': 8, 'is': 9, 'me': 10, 'my': 11, 'for': 12, 'your': 13, 'it': 14, 'of': 15, 'have': 16, 'call': 17, 'that': 18, 'on': 19, '2': 20, 'are': 21, 'now': 22, 'so': 23, 'but': 24, 'not': 25, 'at': 26, 'can': 27, 'or': 28, \"i'm\": 29, 'do': 30, 'be': 31, 'get': 32, 'will': 33, 'just': 34, 'if': 35, 'with': 36, 'we': 37, 'no': 38, 'this': 39, 'ur': 40, 'up': 41, 'gt': 42, 'lt': 43, 'go': 44, '4': 45, 'free': 46, 'how': 47, 'when': 48, 'from': 49, 'ok': 50, 'out': 51, 'all': 52, 'what': 53, 'know': 54, 'like': 55, 'then': 56, 'got': 57, 'good': 58, 'come': 59, 'am': 60, 'was': 61, 'time': 62, 'its': 63, 'only': 64, 'day': 65, 'want': 66, 'love': 67, 'there': 68, 'he': 69, 'send': 70, 'text': 71, 'going': 72, 'n': 73, 'one': 74, 'need': 75, 'by': 76, 'k': 77, 'lor': 78, 'home': 79, 'as': 80, 'r': 81, 'stop': 82, 'about': 83, 'still': 84, 'see': 85, 'txt': 86, 'back': 87, 'e': 88, 'da': 89, 'today': 90, 'our': 91, \"i'll\": 92, 'mobile': 93, 'dont': 94, 'reply': 95, 'take': 96, 'hi': 97, \"don't\": 98, 'think': 99, 'tell': 100, 'any': 101, 'sorry': 102, 'new': 103, 'please': 104, 'she': 105, 'here': 106, 'ì': 107, 'her': 108, 'been': 109, 'they': 110, 'some': 111, 'did': 112, 'well': 113, 'hey': 114, 'much': 115, 'phone': 116, 'c': 117, 'oh': 118, '1': 119, 'msg': 120, 'hope': 121, 'night': 122, 'too': 123, 'him': 124, 'great': 125, 'week': 126, 'where': 127, 'an': 128, 'has': 129, 'more': 130, 'dear': 131, 'later': 132, 'pls': 133, 'make': 134, 'happy': 135, 'give': 136, 'claim': 137, 'way': 138, 'wat': 139, 'had': 140, 'should': 141, \"it's\": 142, 'yes': 143, 'who': 144, 'already': 145, 'number': 146, 'ask': 147, 'work': 148, 'yeah': 149, '3': 150, 's': 151, 't': 152, 'www': 153, 'really': 154, 'say': 155, 'after': 156, 'prize': 157, 'b': 158, 'doing': 159, 'tomorrow': 160, 'im': 161, 'd': 162, 'right': 163, 'meet': 164, 'babe': 165, 'why': 166, 'cash': 167, '150p': 168, 'thanks': 169, 'message': 170, 'said': 171, 'cos': 172, 'find': 173, 'lol': 174, 'them': 175, 'would': 176, 'last': 177, 'very': 178, 'miss': 179, 'life': 180, 'also': 181, 'let': 182, 'sure': 183, 'anything': 184, 'uk': 185, 'morning': 186, 'something': 187, 'keep': 188, \"i've\": 189, 'every': 190, 'again': 191, 'before': 192, 'urgent': 193, 'wait': 194, 'care': 195, 'next': 196, 'over': 197, 'us': 198, 'buy': 199, 'min': 200, 'around': 201, 'first': 202, 'contact': 203, 'sent': 204, 'thing': 205, 'were': 206, 'pick': 207, 'money': 208, 'off': 209, 'tonight': 210, 'won': 211, 'com': 212, 'could': 213, '5': 214, 'gonna': 215, 'soon': 216, 'his': 217, 'feel': 218, 'amp': 219, 'nokia': 220, \"can't\": 221, 'win': 222, 'even': 223, 'ya': 224, 'v': 225, 'which': 226, 'late': 227, 'sleep': 228, 'dun': 229, 'down': 230, \"that's\": 231, 'someone': 232, 'leave': 233, 'wan': 234, 'service': 235, 'many': 236, 'always': 237, 'place': 238, 'y': 239, 'ìï': 240, 'chat': 241, 'cant': 242, 'other': 243, 'unk': 244, \"you're\": 245, 'things': 246, 'haha': 247, 'told': 248, 'per': 249, 'getting': 250, 'x': 251, 'nice': 252, 'waiting': 253, 'same': 254, 'yet': 255, 'thk': 256, 'coming': 257, 'help': 258, 'hello': 259, 'went': 260, 'g': 261, '50': 262, 'customer': 263, 'done': 264, 'm': 265, 'thought': 266, 'friend': 267, 'fine': 268, 'try': 269, 'sms': 270, 'may': 271, 'stuff': 272, 'class': 273, 'year': 274, 'mins': 275, 'wish': 276, 'tone': 277, 'co': 278, 'talk': 279, 'use': 280, 'name': 281, \"didn't\": 282, 'gud': 283, '18': 284, 'better': 285, 'friends': 286, 'finish': 287, 'trying': 288, 'bit': 289, 'best': 290, 'cool': 291, 'guaranteed': 292, 'long': 293, 'ill': 294, 'yup': 295, '6': 296, 'people': 297, '16': 298, 'being': 299, 'never': 300, 'ready': 301, 'few': 302, '7': 303, 'lunch': 304, 'car': 305, 'end': 306, 'yo': 307, 'draw': 308, '8': 309, 'enjoy': 310, 'lar': 311, 'eat': 312, 'meeting': 313, 'wanna': 314, 'thats': 315, 'job': 316, 'nothing': 317, 'holiday': 318, 'house': 319, 'than': 320, 'line': 321, 'having': 322, '9': 323, 'live': 324, 'check': 325, 'guess': 326, 'liao': 327, 'cs': 328, 'days': 329, 'l': 330, 'dinner': 331, 'man': 332, 'half': 333, 'wk': 334, 'because': 335, 'shit': 336, 'problem': 337, 'month': 338, 'special': 339, 'ah': 340, 'real': 341, 'another': 342, 'account': 343, 'jus': 344, 'big': 345, 'might': 346, 'quite': 347, 'mind': 348, 'o': 349, 'smile': 350, 'lot': 351, 'shows': 352, 'dat': 353, 'early': 354, 'word': 355, 'å£1': 356, 'room': 357, 'once': 358, 'aight': 359, 'sir': 360, 'guys': 361, 'person': 362, 'video': 363, 'heart': 364, 'probably': 365, 'receive': 366, 'xxx': 367, 'latest': 368, 'wont': 369, 'date': 370, 'remember': 371, 'maybe': 372, 'bed': 373, 'll': 374, 'start': 375, 'into': 376, 'watch': 377, 'chance': 378, 'den': 379, 'watching': 380, 'pay': 381, 'left': 382, 'does': 383, 'weekend': 384, 'play': 385, 'awarded': 386, 'hear': 387, 'offer': 388, 'thanx': 389, 'baby': 390, 'box': 391, 'dunno': 392, 'calling': 393, 'ever': 394, 'sat': 395, 'actually': 396, 'bad': 397, 'princess': 398, 'kiss': 399, 'fun': 400, 'speak': 401, 'cost': 402, 'look': 403, \"he's\": 404, 'landline': 405, 'little': 406, 'luv': 407, 'leh': 408, 'reach': 409, 'face': 410, 'shopping': 411, 'shall': 412, 'minutes': 413, 'code': 414, 'thank': 415, \"how's\": 416, '10': 417, 'pa': 418, 'forgot': 419, '150ppm': 420, 'anyway': 421, 'called': 422, 'texts': 423, 'two': 424, 'camera': 425, 'bus': 426, 'sweet': 427, 'å£1000': 428, 'girl': 429, 'tv': 430, 'working': 431, 'tmr': 432, 'everything': 433, 'didnt': 434, 'plan': 435, 'hour': 436, 'god': 437, '1st': 438, 'fuck': 439, 'dad': 440, 'until': 441, 'world': 442, 'wif': 443, 'rate': 444, 'apply': 445, 'though': 446, 'enough': 447, \"there's\": 448, 'since': 449, 'looking': 450, 'okay': 451, 'join': 452, 'those': 453, 'boy': 454, 'po': 455, 'orange': 456, 'office': 457, 'put': 458, 'while': 459, 'town': 460, 'goes': 461, 'network': 462, 'ringtone': 463, '2nd': 464, 'wanted': 465, 'abt': 466, 'says': 467, 'birthday': 468, 'must': 469, 'bt': 470, 'mail': 471, 'able': 472, 'collect': 473, 'wot': 474, 'bring': 475, '000': 476, 'times': 477, 'most': 478, 'part': 479, 'dis': 480, 'afternoon': 481, 'show': 482, 'juz': 483, 'school': 484, 'award': 485, 'evening': 486, 'easy': 487, 'important': 488, 'asked': 489, 'wake': 490, 'tones': 491, 'made': 492, 'welcome': 493, 'details': 494, 'plus': 495, 'selected': 496, 'alright': 497, 're': 498, 'saw': 499, 'hair': 500, 'came': 501, 'havent': 502, 'else': 503, 'worry': 504, 'away': 505, 'guy': 506, 'missed': 507, 'yesterday': 508, 'pain': 509, 'price': 510, 'making': 511, 'haf': 512, 'sexy': 513, 'without': 514, 'years': 515, 'til': 516, 'xmas': 517, 'oso': 518, '10p': 519, 'book': 520, 'dude': 521, 'stay': 522, 'attempt': 523, 'online': 524, 'gift': 525, 'collection': 526, 'lei': 527, 'valid': 528, 'ard': 529, \"we're\": 530, 'messages': 531, \"haven't\": 532, 'driving': 533, 'food': 534, 'missing': 535, 'hav': 536, \"what's\": 537, 'nite': 538, 'true': 539, 'bored': 540, 'sch': 541, 'goin': 542, 'entry': 543, 'update': 544, 'net': 545, 'till': 546, \"won't\": 547, 'tried': 548, 'calls': 549, 'means': 550, 'between': 551, 'movie': 552, 'run': 553, 'test': 554, 'address': 555, 'busy': 556, 'f': 557, 'order': 558, 'w': 559, 'change': 560, 'giving': 561, 'tot': 562, 'feeling': 563, 'together': 564, 'de': 565, 'wants': 566, 'makes': 567, 'cancel': 568, 'words': 569, 'http': 570, 'yourself': 571, 'mob': 572, 'trip': 573, 'mean': 574, 'old': 575, 'believe': 576, 'decimal': 577, 'id': 578, 'both': 579, 'noe': 580, 'happen': 581, '500': 582, 'ring': 583, 'hot': 584, 'club': 585, 'full': 586, 'hurt': 587, 'weekly': 588, \"we'll\": 589, 'chikku': 590, 'huh': 591, 'these': 592, 'future': 593, 'family': 594, 'drive': 595, 'colour': 596, 'å£100': 597, 'national': 598, 'aft': 599, 'tomo': 600, 'delivery': 601, 'yours': 602, 'finished': 603, 'wen': 604, 'points': 605, 'top': 606, 'awesome': 607, 'shop': 608, 'beautiful': 609, 'thinking': 610, 'saying': 611, 'rite': 612, '8007': 613, 'question': 614, 'hours': 615, 'tho': 616, 'second': 617, 'double': 618, 'comes': 619, 'started': 620, 'cause': 621, 'å£2000': 622, 'taking': 623, 'leaving': 624, 'walk': 625, 'charge': 626, 'lets': 627, 'plz': 628, 'drink': 629, 'head': 630, 'eve': 631, 'gd': 632, 'sae': 633, 'either': 634, 'neva': 635, 'daily': 636, 'game': 637, 'pub': 638, \"she's\": 639, 'sad': 640, 'p': 641, 'brother': 642, 'set': 643, 'lesson': 644, 'took': 645, 'bonus': 646, 'lucky': 647, 'xx': 648, 'private': 649, 'todays': 650, 'services': 651, 'open': 652, 'lots': 653, 'smoke': 654, 'gr8': 655, 'sis': 656, 'break': 657, 'sounds': 658, 'wil': 659, 'music': 660, '750': 661, 'poly': 662, 'pics': 663, 'whatever': 664, 'wife': 665, 'email': 666, 'await': 667, 'loving': 668, 'pic': 669, 'alone': 670, 'auction': 671, 'available': 672, 'treat': 673, 'pounds': 674, 'news': 675, 'ha': 676, 'smth': 677, 'forget': 678, '08000930705': 679, 'girls': 680, 'gone': 681, '12hrs': 682, 'happened': 683, 'statement': 684, 'expires': 685, 'answer': 686, 'nt': 687, 'coz': 688, 'everyone': 689, 'needs': 690, 'carlos': 691, 'boytoy': 692, 'minute': 693, 'touch': 694, 'college': 695, 'sleeping': 696, 'company': 697, 'anytime': 698, 'unsubscribe': 699, 'choose': 700, 'far': 701, 'card': 702, 'games': 703, 'row': 704, 'pm': 705, 'dating': 706, 'land': 707, 'å£500': 708, 'kind': 709, 'mine': 710, 'mum': 711, 'voucher': 712, 'sun': 713, 'drop': 714, 'billed': 715, 'crazy': 716, 'final': 717, \"c's\": 718, '11': 719, 'wonderful': 720, \"doesn't\": 721, 'decided': 722, 'camcorder': 723, 'used': 724, 'close': 725, 'smiling': 726, 'identifier': 727, 'msgs': 728, 'each': 729, 'content': 730, 'wit': 731, 'found': 732, 'darlin': 733, 'oredi': 734, 'sister': 735, 'bout': 736, 'fucking': 737, 'nope': 738, 'outside': 739, 'fri': 740, 'pretty': 741, 'fast': 742, 'weeks': 743, '\\x89û': 744, 'anyone': 745, 'don': 746, 'hows': 747, '30': 748, 'freemsg': 749, '100': 750, 'credit': 751, 'hungry': 752, 'telling': 753, 'whole': 754, 'congrats': 755, 'å£5000': 756, 'prob': 757, 'search': 758, 'hit': 759, 'friday': 760, 'hmm': 761, 'mu': 762, \"you'll\": 763, 'yr': 764, 'ltd': 765, 'hard': 766, 'frnd': 767, 'fancy': 768, 'bank': 769, 'finally': 770, 'goodmorning': 771, 'tel': 772, 'meant': 773, 'vouchers': 774, 'takes': 775, 'unlimited': 776, '86688': 777, 'okie': 778, 'friendship': 779, 'post': 780, 'simple': 781, 'sea': 782, 'listen': 783, 'snow': 784, 'mate': 785, 'earlier': 786, 'party': 787, 'chennai': 788, 'dreams': 789, '08719839835': 790, 'mgs': 791, '89123': 792, 'point': 793, 'winner': 794, 'info': 795, 'saturday': 796, 'almost': 797, 'cut': 798, 'hee': 799, 'download': 800, 'mah': 801, 'caller': 802, '03': 803, 'player': 804, 'age': 805, 'type': 806, 'whats': 807, 'hmmm': 808, \"you've\": 809, 'log': 810, 'course': 811, 'side': 812, 'fr': 813, 'congratulations': 814, 'fone': 815, 'lost': 816, 'christmas': 817, 'read': 818, 'ago': 819, 'mobileupd8': 820, 'talking': 821, 'project': 822, 'couple': 823, 'india': 824, 'å£250': 825, 'opt': 826, 'visit': 827, 'park': 828, 'å£2': 829, '2003': 830, '800': 831, 'un': 832, 'yar': 833, 'area': 834, 'knw': 835, 'b4': 836, 'mayb': 837, 'least': 838, 'luck': 839, 'gas': 840, \"i'd\": 841, 'eh': 842, 'charged': 843, 'seeing': 844, 'wow': 845, 'etc': 846, 'gotta': 847, 'computer': 848, 'mom': 849, 'uncle': 850, 'numbers': 851, 'sending': 852, 'direct': 853, 'tired': 854, 'their': 855, 'mr': 856, 'worth': 857, 'balance': 858, 'rs': 859, 'march': 860, 'case': 861, 'hold': 862, 'wid': 863, 'swing': 864, 'light': 865, 'currently': 866, 'suite342': 867, '2lands': 868, '08000839402': 869, 'seen': 870, 'reason': 871, 'ass': 872, 'supposed': 873, 'cum': 874, 'lose': 875, 'redeemed': 876, '04': 877, 'through': 878, 'gym': 879, 'darren': 880, 'sex': 881, 'lovely': 882, 'ugh': 883, 'wrong': 884, 'support': 885, 'grins': 886, 'difficult': 887, \"wasn't\": 888, 'usf': 889, '20': 890, 'pobox': 891, 'eg': 892, 'comin': 893, 'confirm': 894, 'abiola': 895, 'crave': 896, 'gets': 897, 'ac': 898, 'pass': 899, 'complimentary': 900, 'loads': 901, 'shower': 902, 'operator': 903, 'match': 904, 'quiz': 905, 'dogging': 906, 'ni8': 907, 'safe': 908, 'muz': 909, 'bath': 910, 'story': 911, 'orchard': 912, 'kate': 913, 'exam': 914, 'secret': 915, 'thinks': 916, 'laptop': 917, 'angry': 918, 'own': 919, 'wana': 920, 'die': 921, 'somebody': 922, 'rest': 923, 'txts': 924, 'jay': 925, 'ex': 926, 'st': 927, 'motorola': 928, 'slow': 929, 'rental': 930, 'asking': 931, 'monday': 932, 'frm': 933, 'å£3': 934, 'sound': 935, 'wonder': 936, 'extra': 937, 'understand': 938, 'whenever': 939, 'sort': 940, 'asap': 941, 'heard': 942, 'na': 943, 'information': 944, 'enter': 945, '0': 946, 'comp': 947, 'nah': 948, 'reward': 949, '12': 950, 'sunday': 951, 'wap': 952, 'link': 953, 'myself': 954, 'worried': 955, 'oops': 956, 'red': 957, 'correct': 958, 'move': 959, 'song': 960, 'frnds': 961, 'save': 962, 'tickets': 963, 'il': 964, 'gave': 965, \"isn't\": 966, 'felt': 967, 'pray': 968, 'wine': 969, 'dream': 970, 'parents': 971, 'spend': 972, 'bathe': 973, 'bill': 974, 'semester': 975, 'study': 976, 'tc': 977, '87066': 978, 'blue': 979, 'tonite': 980, 'stupid': 981, 'ends': 982, 'normal': 983, 'pete': 984, 'plans': 985, 'via': 986, 'small': 987, 'figure': 988, 'met': 989, 'rakhesh': 990, 'moment': 991, 'call2optout': 992, 'woke': 993, 'phones': 994, 'mm': 995, 'yep': 996, 'voice': 997, 'booked': 998, 'th': 999, 'ten': 1000, 'different': 1001, 'water': 1002, 'ipod': 1003, 'offers': 1004, 'hoping': 1005, 'across': 1006, 'warm': 1007, 'em': 1008, 'happiness': 1009, 'å£350': 1010, 'drugs': 1011, 'laugh': 1012, 'ans': 1013, 'fantastic': 1014, 'sell': 1015, 'glad': 1016, 'store': 1017, 'picking': 1018, 'mates': 1019, 'knew': 1020, 'nyt': 1021, 'surprise': 1022, 'film': 1023, '2nite': 1024, 'fact': 1025, 'loved': 1026, 'doin': 1027, 'wkly': 1028, 'valued': 1029, 'months': 1030, 'mobiles': 1031, 'promise': 1032, 'knows': 1033, 'sick': 1034, 'catch': 1035, 'hospital': 1036, 'ice': 1037, 'reached': 1038, 'checking': 1039, 'forever': 1040, '0800': 1041, 'men': 1042, \"''\": 1043, 'invited': 1044, 'rates': 1045, 'buying': 1046, 'lazy': 1047, 'lect': 1048, 'hand': 1049, 'staying': 1050, 'doesnt': 1051, 'especially': 1052, 'studying': 1053, 'trust': 1054, 'using': 1055, 'deal': 1056, 'itself': 1057, 'dead': 1058, 'mrt': 1059, 'ive': 1060, 'lessons': 1061, 'street': 1062, 'disturb': 1063, 'questions': 1064, 'unless': 1065, 'somewhere': 1066, 'å£200': 1067, '2day': 1068, 'reading': 1069, 'access': 1070, 'custcare': 1071, 'weed': 1072, 'w1j6hl': 1073, 'brings': 1074, 'rock': 1075, 'al': 1076, 'kinda': 1077, 'remove': 1078, 'meh': 1079, 'rent': 1080, 'less': 1081, 'savamob': 1082, 'within': 1083, 'cheap': 1084, '150': 1085, 'train': 1086, '\\x89ûò': 1087, 'ts': 1088, 'paper': 1089, 'xy': 1090, 'å£10': 1091, 'ones': 1092, 'gettin': 1093, 'charity': 1094, 'poor': 1095, 'user': 1096, 'gay': 1097, '08712460324': 1098, 'truth': 1099, 'hiya': 1100, 'doctor': 1101, 'gal': 1102, 'nobody': 1103, 'mon': 1104, 'wondering': 1105, 'others': 1106, 'ringtones': 1107, 'tht': 1108, 'reaching': 1109, 'excellent': 1110, 'sitting': 1111, 'anymore': 1112, 'england': 1113, '87077': 1114, 'mark': 1115, 'pizza': 1116, 'cheers': 1117, 'quick': 1118, 'decide': 1119, \"you'd\": 1120, 'nigeria': 1121, 'short': 1122, 'rply': 1123, 'stand': 1124, 'spent': 1125, 'rain': 1126, 'planning': 1127, 'umma': 1128, 'weekends': 1129, 'weight': 1130, 'entered': 1131, 'specially': 1132, 'paying': 1133, 'ending': 1134, 'bak': 1135, 'txting': 1136, 'sometimes': 1137, \"where's\": 1138, 'joined': 1139, 'however': 1140, 'mrng': 1141, 'slept': 1142, 'bcoz': 1143, 'road': 1144, 'reveal': 1145, 'goodnight': 1146, 'cd': 1147, 'lemme': 1148, 'credits': 1149, 'usual': 1150, 'bslvyl': 1151, 'coffee': 1152, '4u': 1153, 'immediately': 1154, 'fixed': 1155, 'valentines': 1156, 'wiv': 1157, 'interested': 1158, 'round': 1159, 'urself': 1160, 'hg': 1161, 'discount': 1162, 'mistake': 1163, 'facebook': 1164, 'yahoo': 1165, 'aha': 1166, 'funny': 1167, 'din': 1168, 'terms': 1169, 'near': 1170, '02': 1171, 'age16': 1172, 'workin': 1173, 'daddy': 1174, 'clean': 1175, 'door': 1176, 'ar': 1177, 'noon': 1178, 'valentine': 1179, 'longer': 1180, 'pc': 1181, 'starting': 1182, 'tuesday': 1183, 'king': 1184, 'seems': 1185, 'add': 1186, 'eyes': 1187, 'library': 1188, 'wishing': 1189, 'slave': 1190, 'omg': 1191, 'polys': 1192, 'tampa': 1193, 'yrs': 1194, 'training': 1195, 'sale': 1196, 'photo': 1197, 'mo': 1198, 'medical': 1199, 'black': 1200, 'awaiting': 1201, 'honey': 1202, 'bb': 1203, 'vl': 1204, 'frens': 1205, 'write': 1206, '06': 1207, 'john': 1208, 'father': 1209, 'wednesday': 1210, 'thinkin': 1211, 'bugis': 1212, 'la': 1213, 'cine': 1214, 'std': 1215, \"'\": 1216, 'press': 1217, 'click': 1218, 'naughty': 1219, 'sucks': 1220, 'tea': 1221, 'eating': 1222, 'replying': 1223, 'liked': 1224, 'cinema': 1225, 'situation': 1226, 'wun': 1227, 'trouble': 1228, 'ave': 1229, 'changed': 1230, 'cuz': 1231, 'page': 1232, 'eatin': 1233, 'inc': 1234, '2004': 1235, 'bother': 1236, 'del': 1237, 'sony': 1238, 'yijue': 1239, 'goto': 1240, 'internet': 1241, 'completely': 1242, 'hop': 1243, 'bucks': 1244, 'past': 1245, 'biz': 1246, 'appreciate': 1247, 'sign': 1248, 'battery': 1249, 'flirt': 1250, 'admirer': 1251, 'ldew': 1252, 'dnt': 1253, 'deep': 1254, 'lover': 1255, 'h': 1256, 'horny': 1257, 'quality': 1258, 'worries': 1259, 'ge': 1260, 'sense': 1261, 'high': 1262, 'imagine': 1263, 'kb': 1264, 'power': 1265, 'yoga': 1266, '11mths': 1267, 'merry': 1268, '08718720201': 1269, 'fault': 1270, 'insurance': 1271, 'maximize': 1272, 'cold': 1273, 'forward': 1274, 'bluetooth': 1275, 'reference': 1276, 'happening': 1277, 'starts': 1278, 'logo': 1279, '3030': 1280, 'ldn': 1281, 'ticket': 1282, 'loan': 1283, 'thru': 1284, 'notice': 1285, 'tenerife': 1286, '8th': 1287, 'depends': 1288, 'mp3': 1289, '00': 1290, 'sub': 1291, 'single': 1292, 'fat': 1293, '50p': 1294, 'rather': 1295, 'hotel': 1296, 'omw': 1297, 'hurry': 1298, 'gee': 1299, 'izzit': 1300, 'kids': 1301, \"t's\": 1302, 'pound': 1303, 'present': 1304, 'imma': 1305, 'shuhui': 1306, 'alex': 1307, 'paid': 1308, '25p': 1309, 'matches': 1310, 'forwarded': 1311, 'ho': 1312, 'awake': 1313, 'torch': 1314, 'bold': 1315, 'looks': 1316, 'idea': 1317, '7pm': 1318, 'running': 1319, 'holla': 1320, 'possible': 1321, 'yest': 1322, 'summer': 1323, \"they're\": 1324, 'getzed': 1325, 'bid': 1326, 'model': 1327, 'comuk': 1328, 'mother': 1329, 'hai': 1330, 'otherwise': 1331, 'ntt': 1332, 'midnight': 1333, 'registered': 1334, 'recently': 1335, 'feels': 1336, 'å£800': 1337, 'nxt': 1338, 'j': 1339, 'during': 1340, 'movies': 1341, 'onto': 1342, 'cute': 1343, 'energy': 1344, 'strong': 1345, 'complete': 1346, 'picked': 1347, 'cell': 1348, 'mode': 1349, 'dog': 1350, 'alrite': 1351, 'shd': 1352, '20p': 1353, 'walking': 1354, 'players': 1355, 'lmao': 1356, 'arrive': 1357, 'south': 1358, 'instead': 1359, 'buzz': 1360, 'inside': 1361, 'slowly': 1362, 'hw': 1363, 'excuse': 1364, \"wat's\": 1365, 'vikky': 1366, 'pix': 1367, 'sofa': 1368, \"god's\": 1369, 'happens': 1370, 'behind': 1371, 'planned': 1372, 'joking': 1373, 'cup': 1374, 'copy': 1375, 'å£900': 1376, 'entitled': 1377, 'team': 1378, 'seriously': 1379, 'learn': 1380, 'texting': 1381, 'ahead': 1382, 'kept': 1383, 'usually': 1384, 'fyi': 1385, 'joke': 1386, 'following': 1387, 'kano': 1388, 'don\\x89û÷t': 1389, 'pleasure': 1390, 'hurts': 1391, 'loves': 1392, 'representative': 1393, '10am': 1394, 'boss': 1395, 'askd': 1396, 'directly': 1397, '08712300220': 1398, 'standard': 1399, 'app': 1400, 'sunshine': 1401, 'dvd': 1402, 'sp': 1403, \"uk's\": 1404, 'swt': 1405, 'local': 1406, 'qatar': 1407, 'become': 1408, 'arrange': 1409, 'waste': 1410, 'hell': 1411, 'turns': 1412, 'bye': 1413, 'towards': 1414, 'personal': 1415, 'straight': 1416, 'nights': 1417, 'system': 1418, 'died': 1419, '25': 1420, 'kick': 1421, \"u've\": 1422, 'website': 1423, 'kallis': 1424, 'cal': 1425, 'handset': 1426, 'dint': 1427, 'leaves': 1428, 'sim': 1429, 'loyalty': 1430, 'rose': 1431, 'babes': 1432, 'sport': 1433, 'definitely': 1434, 'track': 1435, 'return': 1436, 'report': 1437, 'rcvd': 1438, 'ta': 1439, 'num': 1440, 'ish': 1441, 'cc': 1442, 'posted': 1443, 'air': 1444, 'willing': 1445, 'pilates': 1446, 'putting': 1447, 'none': 1448, 'askin': 1449, 'tough': 1450, 'group': 1451, 'isnt': 1452, 'moan': 1453, 'fb': 1454, 'silent': 1455, 'realy': 1456, 'jst': 1457, 'tat': 1458, '40gb': 1459, 'children': 1460, 'campus': 1461, \"today's\": 1462, 'å£150': 1463, 'member': 1464, 'lady': 1465, 'l8r': 1466, 'fingers': 1467, 'self': 1468, 'blood': 1469, 'aiyo': 1470, 'barely': 1471, 'scream': 1472, 'spree': 1473, 'ladies': 1474, 'weather': 1475, 'holder': 1476, 'login': 1477, 'under': 1478, 'fetch': 1479, \"u're\": 1480, 'law': 1481, 'sit': 1482, 'dey': 1483, 'yay': 1484, 'damn': 1485, 'wats': 1486, 'space': 1487, 'bag': 1488, 'boo': 1489, 'teasing': 1490, 'zed': 1491, 'surely': 1492, 'five': 1493, 'wed': 1494, 'matter': 1495, 'mid': 1496, 'sup': 1497, 'due': 1498, 'teach': 1499, 'ate': 1500, 'expensive': 1501, 'against': 1502, \"u'll\": 1503, 'brand': 1504, 'contract': 1505, 'loverboy': 1506, 'serious': 1507, 'april': 1508, 'process': 1509, 'works': 1510, 'aiyah': 1511, 'o2': 1512, 'urawinner': 1513, 'raining': 1514, 'station': 1515, 'thts': 1516, 'super': 1517, 'problems': 1518, '0870': 1519, 'cover': 1520, 'cafe': 1521, 'keeping': 1522, 'except': 1523, 'london': 1524, 'lookin': 1525, 'boys': 1526, 'list': 1527, 'gn': 1528, 'ahmad': 1529, 'empty': 1530, 'role': 1531, 'worse': 1532, 'pussy': 1533, 'budget': 1534, 'random': 1535, 'plenty': 1536, 'hr': 1537, 'hrs': 1538, 'cancer': 1539, 'feb': 1540, 'tick': 1541, 'å£400': 1542, 'darling': 1543, 'request': 1544, 'wet': 1545, 'thatåõs': 1546, 'i\\x89û÷m': 1547, 'stock': 1548, 'subscription': 1549, 'hopefully': 1550, 'tyler': 1551, 'weak': 1552, 'ride': 1553, 'ip4': 1554, '5we': 1555, 'pleased': 1556, 'review': 1557, 'respect': 1558, '530': 1559, 'simply': 1560, 'password': 1561, 'boston': 1562, 'scared': 1563, 'flights': 1564, 'informed': 1565, 'voda': 1566, 'quoting': 1567, \"shouldn't\": 1568, 'country': 1569, '82277': 1570, 'laid': 1571, 'locations': 1572, 'ec2a': 1573, 'lovable': 1574, 'replied': 1575, 'begin': 1576, 'shirt': 1577, 'inviting': 1578, '434': 1579, '62468': 1580, 'discuss': 1581, 'cannot': 1582, 'connection': 1583, 'romantic': 1584, '2optout': 1585, 'partner': 1586, 'fix': 1587, 'tncs': 1588, 'naked': 1589, 'bf': 1590, '21': 1591, 'themob': 1592, \"aren't\": 1593, 'accept': 1594, \"he'll\": 1595, 'advance': 1596, 'cake': 1597, 'allah': 1598, 'sonyericsson': 1599, 'geeee': 1600, \"did't\": 1601, 'sighs': 1602, 'body': 1603, 'guide': 1604, 'relax': 1605, 'intro': 1606, 'current': 1607, 'pictures': 1608, 'yan': 1609, 'jiu': 1610, 'pobox36504w45wq': 1611, 'contacted': 1612, 'hostel': 1613, \"she'll\": 1614, 'lift': 1615, 'respond': 1616, 'dollars': 1617, 'acc': 1618, 'woman': 1619, 'donåõt': 1620, 'ttyl': 1621, 'gives': 1622, 'style': 1623, 'flat': 1624, 'charges': 1625, 'sec': 1626, 'activate': 1627, 'village': 1628, 'opinion': 1629, '83355': 1630, 'pin': 1631, 'unsub': 1632, 'english': 1633, 'btw': 1634, '2mrw': 1635, 'smiles': 1636, 'marriage': 1637, 'jazz': 1638, 'yogasana': 1639, 'announcement': 1640, 'stopped': 1641, 'indian': 1642, 'somethin': 1643, 'vodafone': 1644, '80062': 1645, 'gentle': 1646, 'drug': 1647, 'earth': 1648, 'belly': 1649, 'lonely': 1650, 'bedroom': 1651, 'aftr': 1652, 'timing': 1653, 'mad': 1654, 'twice': 1655, 'opportunity': 1656, 'txtauction': 1657, 'gals': 1658, 'city': 1659, 'sing': 1660, \"couldn't\": 1661, 'living': 1662, 'no1': 1663, 'green': 1664, 'ages': 1665, 'sura': 1666, 'playing': 1667, 'fall': 1668, 'records': 1669, 'birds': 1670, 'lead': 1671, 'unsold': 1672, 'white': 1673, 'january': 1674, 'cheaper': 1675, 'ym': 1676, 'pissed': 1677, 'wherever': 1678, 'wear': 1679, 'places': 1680, 'photos': 1681, 'heavy': 1682, 'site': 1683, 'ad': 1684, 'boring': 1685, 'salary': 1686, '3g': 1687, 'dropped': 1688, 'yun': 1689, 'kerala': 1690, 'asleep': 1691, 'bitch': 1692, 'xchat': 1693, 'digital': 1694, 'receipt': 1695, 'uni': 1696, 'italian': 1697, 'horrible': 1698, 'nw': 1699, 'tuition': 1700, 'chinese': 1701, 'hun': 1702, 'cbe': 1703, 'callså£1': 1704, '80488': 1705, 'tour': 1706, 'broke': 1707, 'married': 1708, 'pple': 1709, 'marry': 1710, '1327': 1711, 'croydon': 1712, 'cr9': 1713, '5wb': 1714, 'share': 1715, 'vote': 1716, 'tells': 1717, 'totally': 1718, 'rem': 1719, 'exams': 1720, 'bought': 1721, 'google': 1722, 'aint': 1723, 'airport': 1724, '86021': 1725, 'costs': 1726, 'eerie': 1727, 'waking': 1728, 'sight': 1729, 'rd': 1730, 'hook': 1731, 'bin': 1732, '05': 1733, 'social': 1734, 'selling': 1735, 'buns': 1736, 'holding': 1737, 'hate': 1738, 'thnk': 1739, 'season': 1740, 'nvm': 1741, 'moms': 1742, 'obviously': 1743, \"who's\": 1744, 'flag': 1745, 'armand': 1746, 'looked': 1747, 'expecting': 1748, 'mood': 1749, 'checked': 1750, 'unable': 1751, 'remind': 1752, 'tear': 1753, 'whether': 1754, 'spook': 1755, 'added': 1756, 'police': 1757, 'ru': 1758, 'cars': 1759, 'er': 1760, 'deliver': 1761, 'amount': 1762, 'advice': 1763, 'amazing': 1764, 'issues': 1765, 'tariffs': 1766, 'thurs': 1767, \"wouldn't\": 1768, 'lik': 1769, '3510i': 1770, '300': 1771, 'meds': 1772, 'mths': 1773, 'common': 1774, 'oni': 1775, 'lives': 1776, 'tb': 1777, 'callertune': 1778, 'searching': 1779, 'str': 1780, 'sooner': 1781, 'turn': 1782, 'egg': 1783, \"mom's\": 1784, 'letter': 1785, 'inches': 1786, 'embarassed': 1787, 'seemed': 1788, 'bx420': 1789, '150pm': 1790, 'series': 1791, 'wah': 1792, 'machan': 1793, 'coins': 1794, 'appointment': 1795, 'legal': 1796, 'nyc': 1797, 'wishes': 1798, 'truly': 1799, 'considering': 1800, 'research': 1801, 'tt': 1802, \"b'day\": 1803, 'apartment': 1804, 'needed': 1805, 'yetunde': 1806, \"hasn't\": 1807, 'q': 1808, 'largest': 1809, 'netcollex': 1810, 'deleted': 1811, 'interview': 1812, 'menu': 1813, 'bloody': 1814, 'spoke': 1815, 'experience': 1816, 'anyways': 1817, 'freephone': 1818, 'radio': 1819, 'unique': 1820, 'shoot': 1821, 'sen': 1822, 'atm': 1823, 'files': 1824, 'followed': 1825, 'teaches': 1826, 'cross': 1827, 'sam': 1828, 'closer': 1829, 'showing': 1830, 'expect': 1831, 'mmm': 1832, 'singles': 1833, 'ended': 1834, 'sunny': 1835, 'hmv': 1836, 'passed': 1837, 'anybody': 1838, 'throw': 1839, 'cam': 1840, 'accidentally': 1841, 'cry': 1842, 'def': 1843, 'meal': 1844, 'dates': 1845, 'hanging': 1846, 'selection': 1847, 'smart': 1848, 'pongal': 1849, 'afraid': 1850, 'december': 1851, 'kisses': 1852, 'cud': 1853, 'ppl': 1854, 'waitin': 1855, '85': 1856, '83600': 1857, '1000s': 1858, 'basically': 1859, 'wtf': 1860, '1000': 1861, 'further': 1862, 'sometime': 1863, '87131': 1864, 'cream': 1865, 'fullonsms': 1866, 'competition': 1867, 'esplanade': 1868, 'fifteen': 1869, 'vary': 1870, 'journey': 1871, 'gorgeous': 1872, 'si': 1873, 'ure': 1874, 'intelligent': 1875, 'result': 1876, 'reasons': 1877, 'receiving': 1878, '5000': 1879, 'cw25wx': 1880, 'conditions': 1881, 'dry': 1882, 'bringing': 1883, 'mtmsgrcvd18': 1884, 'cha': 1885, 'bday': 1886, '85023': 1887, 'pg': 1888, 'malaria': 1889, 'passionate': 1890, 'three': 1891, 'milk': 1892, 'i\\x89û÷ll': 1893, 'lab': 1894, 'quit': 1895, '1x150p': 1896, '24': 1897, 'grand': 1898, 'pie': 1899, '28': 1900, 'paris': 1901, 'results': 1902, 'answers': 1903, 'often': 1904, 'bud': 1905, 'drinks': 1906, 'thursday': 1907, 'taken': 1908, 'bet': 1909, 'hella': 1910, 'evng': 1911, 'prepare': 1912, 'seem': 1913, 'explain': 1914, 'gap': 1915, 'weird': 1916, 'drivin': 1917, 'students': 1918, 'upset': 1919, 'assume': 1920, 'exactly': 1921, 'faster': 1922, \"we've\": 1923, 'spoken': 1924, '88039': 1925, 'skilgme': 1926, 'meetin': 1927, 'closed': 1928, 'apparently': 1929, 'smokes': 1930, 'perfect': 1931, 'polyphonic': 1932, 'enjoyed': 1933, 'pobox84': 1934, 'appt': 1935, '36504': 1936, '3d': 1937, \"ain't\": 1938, 'hunny': 1939, 'ache': 1940, 'profit': 1941, 'ibiza': 1942, 'ppm': 1943, 'meanwhile': 1944, 'suite': 1945, 'version': 1946, 'careful': 1947, 'spk': 1948, 'vip': 1949, 'cds': 1950, 'travel': 1951, 'wanting': 1952, 'derek': 1953, 'greet': 1954, 'pig': 1955, 'iam': 1956, 'ma': 1957, 'attend': 1958, 'diet': 1959, 'sk38xh': 1960, 'fever': 1961, 'w1': 1962, 'bowl': 1963, 'sore': 1964, 'jesus': 1965, 'regret': 1966, 'throat': 1967, 'lecture': 1968, 'raise': 1969, 'june': 1970, 'flower': 1971, 'technical': 1972, 'revealed': 1973, 'bathing': 1974, 'convey': 1975, 'regards': 1976, 'fight': 1977, 'clock': 1978, 'hands': 1979, 'subscriber': 1980, 'aiyar': 1981, 'howz': 1982, 'wearing': 1983, \"let's\": 1984, 'adult': 1985, 'oz': 1986, 'shame': 1987, 'jordan': 1988, 'choice': 1989, 'delivered': 1990, 'arms': 1991, 'mite': 1992, 'easier': 1993, '08712405020': 1994, 'songs': 1995, 'exact': 1996, 'jamster': 1997, 'original': 1998, 'idiot': 1999, 'february': 2000, 'rush': 2001, '6hrs': 2002, 'blackberry': 2003, 'moji': 2004, 'fantasies': 2005, '08707509020': 2006, 'fill': 2007, 'upload': 2008, 'linerental': 2009, 'meaning': 2010, 'moral': 2011, 'moon': 2012, 'msgrcvdhg': 2013, 'aiya': 2014, 'bright': 2015, 'textpod': 2016, 'optout': 2017, 'vomit': 2018, 'sha': 2019, 'centre': 2020, 'total': 2021, 'along': 2022, 'shortly': 2023, 'screaming': 2024, 'bishan': 2025, 'pack': 2026, 'idk': 2027, 'whom': 2028, 'laughing': 2029, '250': 2030, 'title': 2031, 'brought': 2032, 'surprised': 2033, 'comedy': 2034, 'moby': 2035, 'action': 2036, 'received': 2037, 'ran': 2038, 'ordered': 2039, 'queen': 2040, 'fren': 2041, '60p': 2042, 'iåõm': 2043, 'schedule': 2044, \"joy's\": 2045, 'arcade': 2046, 'alert': 2047, 'created': 2048, 'takin': 2049, 'exciting': 2050, 'answering': 2051, 'beer': 2052, 'jess': 2053, 'dirty': 2054, 'package': 2055, 'upto': 2056, '08001950382': 2057, 'skype': 2058, 'masters': 2059, 'cleaning': 2060, 'costa': 2061, 'sol': 2062, 'cat': 2063, 'hip': 2064, '87239': 2065, 'theatre': 2066, 'infernal': 2067, 'including': 2068, 'giv': 2069, 'official': 2070, 'inclusive': 2071, 'feet': 2072, 'colleagues': 2073, 'ntwk': 2074, 'pages': 2075, 'freak': 2076, 'ref': 2077, 'å£4': 2078, 'wkend': 2079, 'letters': 2080, 'fantasy': 2081, 'sky': 2082, 'sugar': 2083, 'thangam': 2084, 'roger': 2085, 'key': 2086, 'released': 2087, 'spending': 2088, 'sept': 2089, 'ignore': 2090, 'dare': 2091, 'teeth': 2092, 'porn': 2093, 'celebrate': 2094, 'tm': 2095, 'abi': 2096, 'hill': 2097, 'grl': 2098, 'relation': 2099, 'hug': 2100, 'wylie': 2101, 'basic': 2102, 'outta': 2103, 'inform': 2104, 'blank': 2105, 'texted': 2106, '26': 2107, 'born': 2108, 'doc': 2109, 'taunton': 2110, 'santa': 2111, 'step': 2112, \"week's\": 2113, 'six': 2114, 'hl': 2115, 'membership': 2116, 'spell': 2117, 'wales': 2118, 'scotland': 2119, 'frying': 2120, 'clear': 2121, 'child': 2122, 'caught': 2123, 'xuhui': 2124, 'invite': 2125, 'yummy': 2126, 'fair': 2127, 'gram': 2128, 'runs': 2129, 'realized': 2130, 'url': 2131, 'burger': 2132, 'roommates': 2133, 'dresser': 2134, 'plane': 2135, 'gentleman': 2136, 'dignity': 2137, 'shy': 2138, 'urgnt': 2139, 'requests': 2140, 'sheets': 2141, 'becoz': 2142, '9pm': 2143, 'lido': 2144, 'fml': 2145, 'hols': 2146, 'four': 2147, 'vava': 2148, 'loud': 2149, 'k52': 2150, 'wa': 2151, 'anythin': 2152, '786': 2153, 'unredeemed': 2154, \"'ll\": 2155, 'apologise': 2156, 'rooms': 2157, 'hardcore': 2158, 'persons': 2159, 'biggest': 2160, 'staff': 2161, 'female': 2162, 'birla': 2163, 'soft': 2164, 'floor': 2165, 'joy': 2166, 'escape': 2167, 'spanish': 2168, 'mall': 2169, 'mummy': 2170, 'finishes': 2171, 'august': 2172, 'suggest': 2173, 'settled': 2174, 'transaction': 2175, '89545': 2176, '087187262701': 2177, '50gbp': 2178, 'mtmsg18': 2179, 'career': 2180, 'teacher': 2181, 'recd': 2182, 'pence': 2183, 'argument': 2184, 'wins': 2185, 'tomarrow': 2186, 'avent': 2187, 'slippers': 2188, 'bat': 2189, 'innings': 2190, 'dearly': 2191, 'com1win150ppmx3age16': 2192, 'childish': 2193, 'shipping': 2194, 'networks': 2195, 'parked': 2196, 'mini': 2197, 'flash': 2198, 'jealous': 2199, 'sorting': 2200, 'rays': 2201, 'handed': 2202, 'gautham': 2203, 'upgrade': 2204, '0845': 2205, 'scary': 2206, 'newest': 2207, 'gossip': 2208, 'fit': 2209, 'garage': 2210, 'keys': 2211, 'm26': 2212, '3uz': 2213, \"friend's\": 2214, '08002986906': 2215, 'gona': 2216, 'flight': 2217, 'record': 2218, 'women': 2219, 'germany': 2220, 'supervisor': 2221, 'lifetime': 2222, 'surfing': 2223, 'favourite': 2224, 'bless': 2225, 'stranger': 2226, 'cleared': 2227, 'practice': 2228, 'alcohol': 2229, 'remembered': 2230, 'insha': 2231, 'alive': 2232, 'gbp': 2233, 'ptbo': 2234, 'tests': 2235, 'shut': 2236, 'period': 2237, 'business': 2238, 'picture': 2239, 'quickly': 2240, 'chechi': 2241, 'tree': 2242, 'skip': 2243, 'blah': 2244, 'goal': 2245, 'names': 2246, 'ful': 2247, 'irritating': 2248, 'wnt': 2249, 'vry': 2250, '3mins': 2251, 'wc1n3xx': 2252, 'iouri': 2253, 'oic': 2254, 'transfer': 2255, '0207': 2256, 'july': 2257, 'railway': 2258, 'doggy': 2259, 'fave': 2260, 'roads': 2261, 'dave': 2262, 'tcs': 2263, 'transfered': 2264, 'banks': 2265, '9ja': 2266, 'boye': 2267, 'center': 2268, 'fighting': 2269, 'some1': 2270, 'fish': 2271, 'fees': 2272, 'character': 2273, 'prabha': 2274, 'ibhltd': 2275, 'ldnw15h': 2276, 'mono': 2277, 'booking': 2278, 'behave': 2279, 'elsewhere': 2280, 'rude': 2281, '09': 2282, '0871': 2283, 'box95qu': 2284, 'returns': 2285, 'tirupur': 2286, 'quote': 2287, 'losing': 2288, 'confidence': 2289, 'cock': 2290, 'generally': 2291, 'it\\x89û÷s': 2292, 'that\\x89û÷s': 2293, 'likely': 2294, 'essential': 2295, 'american': 2296, 'callin': 2297, 'dick': 2298, 'snake': 2299, 'bite': 2300, 'headache': 2301, '08715705022': 2302, '2000': 2303, 'lines': 2304, '542': 2305, 'exhausted': 2306, \"mum's\": 2307, 'swimming': 2308, '2morow': 2309, 'nichols': 2310, 'euro2004': 2311, 'leona': 2312, 'market': 2313, 'pop': 2314, 'postcode': 2315, 'seven': 2316, 'tlp': 2317, 'thanksgiving': 2318, 'we\\x89û÷re': 2319, 'listening': 2320, '31': 2321, 'envelope': 2322, '89555': 2323, 'textoperator': 2324, 'building': 2325, 'map': 2326, 'accordingly': 2327, 'farm': 2328, 'purchase': 2329, 'height': 2330, 'wer': 2331, 'stress': 2332, 'csbcm4235wc1n3xx': 2333, 'maxå£7': 2334, 'low': 2335, '81151': 2336, '4t': 2337, 'shorter': 2338, 'subscribed': 2339, 'realize': 2340, 'gimme': 2341, 'mt': 2342, 'tscs087147403231winawk': 2343, '50perwksub': 2344, 'tis': 2345, 'anywhere': 2346, 'diff': 2347, 'community': 2348, '08718727870': 2349, 'bein': 2350, 'jan': 2351, 'pieces': 2352, 'w45wq': 2353, 'norm150p': 2354, 'hint': 2355, 'responding': 2356, '2u': 2357, 'xxxx': 2358, '3qxj9': 2359, '08702840625': 2360, '9ae': 2361, 'alfie': 2362, \"moon's\": 2363, 'm8s': 2364, 'nokias': 2365, '08701417012': 2366, 'cust': 2367, \"month's\": 2368, '2morrow': 2369, 'sk3': 2370, '8wp': 2371, 'xavier': 2372, 'seconds': 2373, \"jay's\": 2374, 'stomach': 2375, 'sn': 2376, 'returned': 2377, 'walls': 2378, 'saved': 2379, 'cuddle': 2380, 'nap': 2381, 'shesil': 2382, 'played': 2383, 'reminder': 2384, \"'til\": 2385, 'failed': 2386, 'outstanding': 2387, 'male': 2388, '5p': 2389, '88600': 2390, 'moments': 2391, '114': 2392, '14': 2393, 'tcr': 2394, 'decision': 2395, 'welp': 2396, '15': 2397, 'chicken': 2398, 'videophones': 2399, 'videochat': 2400, 'java': 2401, 'dload': 2402, 'noline': 2403, 'rentl': 2404, 'fuckin': 2405, 'ubi': 2406, 'butt': 2407, 'miracle': 2408, 'terrible': 2409, 'exe': 2410, 'prey': 2411, 'fancies': 2412, 'foreign': 2413, 'stamps': 2414, 'fool': 2415, 'roast': 2416, 'chatting': 2417, 'walked': 2418, 'drunk': 2419, 'networking': 2420, 'juicy': 2421, 'vijay': 2422, 'sipix': 2423, 'ne': 2424, 'interesting': 2425, 'ground': 2426, 'speed': 2427, 'catching': 2428, 'falls': 2429, 'whos': 2430, 'roommate': 2431, 'bigger': 2432, 'islands': 2433, '2go': 2434, 'credited': 2435, 'understanding': 2436, 'walmart': 2437, 'score': 2438, 'apps': 2439, 'rofl': 2440, 'anti': 2441, 'various': 2442, 'ph': 2443, '84128': 2444, 'textcomp': 2445, 'morn': 2446, 'docs': 2447, 'havin': 2448, 'rang': 2449, 'sorted': 2450, '2moro': 2451, 'jane': 2452, 'fran': 2453, 'knackered': 2454, 'software': 2455, '3gbp': 2456, 'whenevr': 2457, 'among': 2458, 'chill': 2459, 'chillin': 2460, 'chain': 2461, 'arrested': 2462, 'suntec': 2463, 'messenger': 2464, 'tom': 2465, '08718730666': 2466, 'shot': 2467, 'popped': 2468, 'shld': 2469, 'caring': 2470, 'option': 2471, 'arsenal': 2472, 'painful': 2473, 'everybody': 2474, 've': 2475, 'missin': 2476, 'guilty': 2477, 'cardiff': 2478, 'addie': 2479, 'pod': 2480, 'certainly': 2481, 'claire': 2482, 'twelve': 2483, 'aah': 2484, '09066362231': 2485, '07xxxxxxxxx': 2486, 'minmobsmorelkpobox177hp51fl': 2487, '4th': 2488, 'nature': 2489, \"blake's\": 2490, 'lotr': 2491, 'stars': 2492, 'karaoke': 2493, 'eight': 2494, 'file': 2495, 'ron': 2496, '7250i': 2497, 'w1jhl': 2498, 'prospects': 2499, 'buff': 2500, 'preferably': 2501, 'gang': 2502, 'tablets': 2503, 'finishing': 2504, 'doors': 2505, 'brothas': 2506, 'chasing': 2507, 'freezing': 2508, 'ringtoneking': 2509, 'winning': 2510, '6pm': 2511, 'titles': 2512, '82242': 2513, 'switch': 2514, 'monthly': 2515, 'ideas': 2516, 'remain': 2517, 'cramps': 2518, 'nan': 2519, '81303': 2520, 'likes': 2521, 'dislikes': 2522, 'promises': 2523, 'album': 2524, 'connect': 2525, 'standing': 2526, 'james': 2527, '29': 2528, 'follow': 2529, 'stuck': 2530, 'regarding': 2531, 'adore': 2532, 'settings': 2533, 'philosophy': 2534, 'husband': 2535, 'norm': 2536, 'toa': 2537, 'payoh': 2538, 'fathima': 2539, 'mmmm': 2540, 'nearly': 2541, 'beyond': 2542, '18yrs': 2543, 'abta': 2544, 'ikea': 2545, 'kadeem': 2546, 'se': 2547, 'wud': 2548, 'carry': 2549, 'avatar': 2550, 'stops': 2551, 'constantly': 2552, '09050090044': 2553, 'toclaim': 2554, 'pobox334': 2555, 'stockport': 2556, 'costå£1': 2557, 'max10mins': 2558, 'lousy': 2559, 'ic': 2560, 'boat': 2561, 'proof': 2562, 'provided': 2563, 'yeh': 2564, 'downloads': 2565, 'members': 2566, 'major': 2567, 'birth': 2568, 'rule': 2569, 'freefone': 2570, 'natural': 2571, 'onwards': 2572, 'eggs': 2573, 'lie': 2574, 'boost': 2575, 'calicut': 2576, 'box97n7qp': 2577, 'pink': 2578, 'normally': 2579, 'rich': 2580, 'eng': 2581, 'yor': 2582, 'jason': 2583, 'subs': 2584, 'art': 2585, 'med': 2586, 'argh': 2587, 'term': 2588, 'china': 2589, 'morphine': 2590, 'prefer': 2591, 'kindly': 2592, 'miles': 2593, 'sed': 2594, 'pending': 2595, 'frndship': 2596, 'legs': 2597, 'distance': 2598, 'display': 2599, 'soup': 2600, 'management': 2601, 'include': 2602, 'regular': 2603, 'lounge': 2604, '88066': 2605, '900': 2606, 'cornwall': 2607, 'bags': 2608, 'iscoming': 2609, '80082': 2610, 'halloween': 2611, 'issue': 2612, 'football': 2613, 'measure': 2614, 'impossible': 2615, 'okey': 2616, 'murdered': 2617, 'maid': 2618, 'murderer': 2619, 'brilliant': 2620, 'science': 2621, 'madam': 2622, 'settle': 2623, 'bloo': 2624, 'indians': 2625, 'citizen': 2626, 'sry': 2627, '09066612661': 2628, 'greetings': 2629, 'dai': 2630, 'maga': 2631, 'medicine': 2632, 'incident': 2633, 'violence': 2634, 'erm': 2635, 'instructions': 2636, '3lp': 2637, 'death': 2638, 'wrk': 2639, 'reality': 2640, 'usc': 2641, 'booty': 2642, 'lil': 2643, \"when's\": 2644, 'response': 2645, 'pouts': 2646, 'stomps': 2647, 'sports': 2648, 'shirts': 2649, 'petrol': 2650, 'uks': 2651, 'ben': 2652, 'middle': 2653, 'dark': 2654, 'enuff': 2655, 'contents': 2656, 'iz': 2657, 'handle': 2658, 'note': 2659, 'moved': 2660, 'seat': 2661, 'dress': 2662, 'collecting': 2663, 'flaked': 2664, 'gary': 2665, 'history': 2666, 'bell': 2667, 'understood': 2668, 'bottom': 2669, 'crab': 2670, 'footprints': 2671, 'changes': 2672, 'books': 2673, 'knowing': 2674, 'challenge': 2675, 'randomly': 2676, 'tape': 2677, 'films': 2678, 'lick': 2679, 'auto': 2680, 'asks': 2681, 'deliveredtomorrow': 2682, 'smoking': 2683, 'in2': 2684, 'callback': 2685, 'wedding': 2686, 'accident': 2687, \"cann't\": 2688, 'symbol': 2689, 'prolly': 2690, 'åð': 2691, 'confirmed': 2692, '200': 2693, 'dubsack': 2694, 'macho': 2695, 'audition': 2696, 'fell': 2697, 'senthil': 2698, 'eaten': 2699, 'nat': 2700, 'possession': 2701, 'concert': 2702, 'affairs': 2703, 'university': 2704, 'california': 2705, 'value': 2706, 'mnth': 2707, 'tog': 2708, 'haiz': 2709, 'loss': 2710, 'previous': 2711, 'captain': 2712, \"dsn't\": 2713, 'ì©': 2714, 'warner': 2715, 'wallpaper': 2716, 'bottle': 2717, 'buffet': 2718, 'fa': 2719, 'tkts': 2720, '21st': 2721, '2005': 2722, '87121': 2723, 'hor': 2724, 'rcv': 2725, 'oru': 2726, 'callers': 2727, '87575': 2728, 'blessing': 2729, 'xxxmobilemovieclub': 2730, 'goals': 2731, '4txt': 2732, 'slice': 2733, 'convincing': 2734, 'sarcastic': 2735, 'fear': 2736, 'å£5': 2737, '8am': 2738, \"roommate's\": 2739, 'mmmmmm': 2740, 'burns': 2741, 'hospitals': 2742, 'eighth': 2743, 'sptv': 2744, 'detroit': 2745, 'hockey': 2746, '09061209465': 2747, 'suprman': 2748, 'matrix3': 2749, 'starwars3': 2750, 'odi': 2751, 'killing': 2752, 'iq': 2753, 'advise': 2754, 'recent': 2755, 'å£1500': 2756, 'valuable': 2757, 'divorce': 2758, 'earn': 2759, 'jacket': 2760, 'nitros': 2761, 'ela': 2762, 'sum1': 2763, 'collected': 2764, 'mix': 2765, 'verify': 2766, 'telugu': 2767, 'loans': 2768, '\\rham': 2769, 'location': 2770, 'jokes': 2771, 'noun': 2772, 'gent': 2773, '09064012160': 2774, 'sentence': 2775, 'puttin': 2776, 'cabin': 2777, 'goodo': 2778, 'potato': 2779, 'tortilla': 2780, '45239': 2781, '350': 2782, 'sum': 2783, 'ansr': 2784, 'tyrone': 2785, '69888': 2786, '31p': 2787, 'msn': 2788, 'befor': 2789, 'activities': 2790, 'pouch': 2791, 'somtimes': 2792, 'occupy': 2793, 'hearts': 2794, 'dot': 2795, 'randy': 2796, '08700621170150p': 2797, 'flowing': 2798, 'plaza': 2799, 'everywhere': 2800, 'windows': 2801, 'mouth': 2802, 'bootydelious': 2803, 'module': 2804, 'avoid': 2805, 'beloved': 2806, \"we'd\": 2807, '9am': 2808, 'completed': 2809, 'stays': 2810, 'hamster': 2811, 'successfully': 2812, 'ericsson': 2813, 'bruv': 2814, 'rewarding': 2815, 'heading': 2816, 'register': 2817, 'os': 2818, 'installing': 2819, 'repair': 2820, 'horo': 2821, 'star': 2822, 'conducts': 2823, 'printed': 2824, 'upstairs': 2825, 'theory': 2826, 'argue': 2827, 'shining': 2828, 'signing': 2829, 'although': 2830, 'touched': 2831, 'commercial': 2832, '125gift': 2833, 'ranjith': 2834, '5min': 2835, '2wks': 2836, 'lag': 2837, 'necessarily': 2838, 'headin': 2839, 'jolt': 2840, 'suzy': 2841, '69698': 2842, 'chart': 2843, 'bay': 2844, 'gf': 2845, 'tool': 2846, \"guy's\": 2847, 'jenny': 2848, '021': 2849, '3680': 2850, 'tease': 2851, 'shocking': 2852, 'crash': 2853, 'taxi': 2854, 'actor': 2855, 'blind': 2856, 'hide': 2857, 'thread': 2858, 'funky': 2859, '82468': 2860, 'belovd': 2861, 'enemy': 2862, 'tahan': 2863, 'anot': 2864, 'lo': 2865, 'buses': 2866, 'bristol': 2867, 'apo': 2868, '0844': 2869, '861': 2870, 'prepayment': 2871, 'violated': 2872, 'privacy': 2873, 'paperwork': 2874, 'caroline': 2875, 'gudnite': 2876, 'slap': 2877, 'tissco': 2878, 'tayseer': 2879, 'unemployed': 2880, 'status': 2881, 'breathe': 2882, 'cuddling': 2883, 'agree': 2884, 'recognise': 2885, 'hes': 2886, 'ovulation': 2887, '6months': 2888, 'licks': 2889, '4mths': 2890, 'mobilesdirect': 2891, '08000938767': 2892, 'or2stoptxt': 2893, '30ish': 2894, 'salam': 2895, 'sharing': 2896, 'grace': 2897, 'inshah': 2898, 'field': 2899, 'administrator': 2900, 'shipped': 2901, 'loxahatchee': 2902, 'burning': 2903, 'slightly': 2904, 'fav': 2905, 'darlings': 2906, 'wld': 2907, 'sender': 2908, 'box334sk38ch': 2909, '80086': 2910, 'txttowin': 2911, 'name1': 2912, 'name2': 2913, 'mobno': 2914, 'adam': 2915, '07123456789': 2916, 'txtno': 2917, 'ads': 2918, 'siva': 2919, 'speaking': 2920, 'expression': 2921, 'aathi': 2922, 'hv': 2923, 'lacs': 2924, 'amt': 2925, 'applebees': 2926, 'sachin': 2927, 'improve': 2928, 'purpose': 2929, 'tenants': 2930, 'refused': 2931, \"'help'\": 2932, 'oreo': 2933, 'truffles': 2934, 'amy': 2935, 'decisions': 2936, 'coping': 2937, 'individual': 2938, '153': 2939, '26th': 2940, 'position': 2941, 'language': 2942, '09061743806': 2943, 'box326': 2944, 'screamed': 2945, 'removed': 2946, 'differ': 2947, 'broken': 2948, 'infront': 2949, 'wise': 2950, '9t': 2951, 'tension': 2952, 'taste': 2953, 'trade': 2954, 'rec': 2955, '7ish': 2956, '123': 2957, 'å£1450': 2958, \"dat's\": 2959, 'hyde': 2960, 'anthony': 2961, 'spl': 2962, 'stylish': 2963, 'scrounge': 2964, 'forgiven': 2965, 'slide': 2966, 'renewal': 2967, 'transport': 2968, 'definite': 2969, 'nos': 2970, 'ebay': 2971, 'tacos': 2972, '872': 2973, '08717898035': 2974, '24hrs': 2975, 'channel': 2976, '08718738001': 2977, 'web': 2978, '2stop': 2979, 'develop': 2980, 'ability': 2981, 'recovery': 2982, 'cutting': 2983, 'reminding': 2984, 'owns': 2985, 'faggy': 2986, 'demand': 2987, 'fo': 2988, 'loose': 2989, 'pan': 2990, 'perhaps': 2991, 'geeeee': 2992, 'jen': 2993, 'oooh': 2994, 'ey': 2995, 'call09050000327': 2996, 'claims': 2997, 'dancing': 2998, 'hardly': 2999, '80878': 3000, '08712402050': 3001, '10ppm': 3002, 'ag': 3003, 'promo': 3004, 'tsunamis': 3005, 'soiree': 3006, '22': 3007, '83222': 3008, 'ques': 3009, 'suits': 3010, 'uncles': 3011, 'shock': 3012, 'reaction': 3013, 'grow': 3014, 'useful': 3015, 'officially': 3016, 'textbuddy': 3017, 'gaytextbuddy': 3018, '89693': 3019, 'hundred': 3020, 'expressoffer': 3021, 'sweetheart': 3022, 'effects': 3023, 'wee': 3024, 'trains': 3025, 'jolly': 3026, 'cartoon': 3027, 'temple': 3028, 'church': 3029, '40533': 3030, 'rstm': 3031, 'sw7': 3032, '3ss': 3033, 'panic': 3034, 'impatient': 3035, 'river': 3036, 'premium': 3037, 'en': 3038, 'posts': 3039, 'peace': 3040, 'yelling': 3041, 'sue': 3042, 'cochin': 3043, '4d': 3044, 'poop': 3045, 'gpu': 3046, 'ws': 3047, 'dorm': 3048, 'å£1250': 3049, '09071512433': 3050, '050703': 3051, 'callcost': 3052, 'mobilesvary': 3053, 'cookies': 3054, 'admit': 3055, 'correction': 3056, 'ba': 3057, 'spring': 3058, 'nokia6650': 3059, 'ctxt': 3060, 'mtmsg': 3061, 'attached': 3062, 'shouted': 3063, '930': 3064, 'helpline': 3065, '08706091795': 3066, 'gist': 3067, '40': 3068, 'thousands': 3069, 'premier': 3070, 'lip': 3071, 'confused': 3072, 'spare': 3073, 'faith': 3074, 'schools': 3075, 'inch': 3076, 'begging': 3077, '0578': 3078, 'opening': 3079, 'subpoly': 3080, '81618': 3081, 'pole': 3082, 'thot': 3083, 'dictionary': 3084, 'petey': 3085, 'nic': 3086, 'm263uz': 3087, 'cashto': 3088, '08000407165': 3089, 'getstop': 3090, '88222': 3091, 'php': 3092, 'imp': 3093, 'bec': 3094, 'nervous': 3095, 'borrow': 3096, 'galileo': 3097, 'loveme': 3098, 'cappuccino': 3099, '220': 3100, 'cm2': 3101, 'mojibiola': 3102, 'hol': 3103, 'havenåõt': 3104, 'skyped': 3105, 'kz': 3106, 'given': 3107, 'ultimatum': 3108, 'countin': 3109, 'aburo': 3110, 'successful': 3111, '08002888812': 3112, 'inconsiderate': 3113, 'nag': 3114, 'recession': 3115, 'hence': 3116, 'soo': 3117, '09066350750': 3118, 'warning': 3119, 'shoes': 3120, 'worlds': 3121, 'discreet': 3122, 'named': 3123, 'genius': 3124, 'connections': 3125, 'lotta': 3126, 'lately': 3127, 'supply': 3128, 'virgin': 3129, 'mystery': 3130, 'smsco': 3131, 'approx': 3132, 'consider': 3133, 'peaceful': 3134, '41685': 3135, '07': 3136, '10k': 3137, 'castor': 3138, 'liverpool': 3139, '09058094565': 3140, '09065171142': 3141, 'stopsms': 3142, '08': 3143, 'downloaded': 3144, 'ear': 3145, 'oil': 3146, 'mac': 3147, 'usb': 3148, 'gibbs': 3149, 'unbelievable': 3150, 'murder': 3151, 'superb': 3152, 'several': 3153, 'taylor': 3154, 'worst': 3155, 'charles': 3156, 'stores': 3157, '08709222922': 3158, '8p': 3159, 'peak': 3160, 'sweets': 3161, 'chip': 3162, 'addicted': 3163, 'msging': 3164, \"'t\": 3165, 'yck': 3166, 'lux': 3167, 'jeans': 3168, 'bleh': 3169, 'tons': 3170, 'scores': 3171, 'application': 3172, 'ms': 3173, 'gravity': 3174, 'carefully': 3175, 'filthy': 3176, 'magical': 3177, 'valid12hrs': 3178, 'necklace': 3179, 'racing': 3180, 'rice': 3181, 'closes': 3182, 'crap': 3183, 'borin': 3184, 'chocolate': 3185, 'potential': 3186, 'talent': 3187, 'reckon': 3188, '09063458130': 3189, 'polyph': 3190, '65': 3191, 'tech': 3192, 'quiet': 3193, 'aunts': 3194, 'helen': 3195, 'fan': 3196, 'lovers': 3197, 'drove': 3198, 'anniversary': 3199, 'pen': 3200, 'secretly': 3201, 'datebox1282essexcm61xn': 3202, 'pattern': 3203, 'plm': 3204, 'sheffield': 3205, 'zoe': 3206, 'setting': 3207, 'filling': 3208, 'sufficient': 3209, 'thx': 3210, 'speechless': 3211, 'gm': 3212, 'ls15hb': 3213, 'concentrate': 3214, \"1000's\": 3215, 'flirting': 3216, 'bloke': 3217, 'euro': 3218, '3rd': 3219, 'sells': 3220, 'thesis': 3221, 'sends': 3222, 'deciding': 3223, '84025': 3224, 'prepared': 3225, '09050003091': 3226, 'c52': 3227, 'oi': 3228, 'dem': 3229, 'thoughts': 3230, 'breath': 3231, 'craziest': 3232, 'planet': 3233, 'singing': 3234, 'curry': 3235, 'evn': 3236, 'itz': 3237, 'alwys': 3238, '09061790121': 3239, 'fret': 3240, 'depressed': 3241, 'wind': 3242, 'math': 3243, 'dhoni': 3244, 'rocks': 3245, 'durban': 3246, 'speedchat': 3247, '08000776320': 3248, 'survey': 3249, 'difficulties': 3250, 'sar': 3251, 'tank': 3252, '4fil': 3253, 'silently': 3254, 'drms': 3255, 'wrc': 3256, 'rally': 3257, 'lucozade': 3258, 'le': 3259, 'toot': 3260, 'annoying': 3261, 'makin': 3262, 'popcorn': 3263, 'celeb': 3264, 'pocketbabe': 3265, 'voicemail': 3266, 'appreciated': 3267, 'apart': 3268, 'creepy': 3269, '87021': 3270, 'txtin': 3271, '4info': 3272, 'invest': 3273, '1hr': 3274, 'delay': 3275, \"1's\": 3276, 'purse': 3277, 'europe': 3278, 'flip': 3279, 'executive': 3280, \"parents'\": 3281, 'weirdest': 3282, 'minmoremobsemspobox45po139wa': 3283, 'tee': 3284, 'dough': 3285, 'control': 3286, 'express': 3287, 'drinkin': 3288, '5pm': 3289, 'birthdate': 3290, 'nydc': 3291, 'favour': 3292, 'ola': 3293, 'garbage': 3294, 'items': 3295, 'gold': 3296, 'logos': 3297, 'lions': 3298, 'lionm': 3299, 'lionp': 3300, 'jokin': 3301, 'colours': 3302, 'remembr': 3303, 'potter': 3304, 'phoenix': 3305, 'harry': 3306, 'readers': 3307, 'canada': 3308, 'cares': 3309, 'goodnoon': 3310, 'interest': 3311, 'saucy': 3312, 'theres': 3313, 'tmrw': 3314, 'soul': 3315, 'ned': 3316, 'hurting': 3317, 'main': 3318, 'sweetie': 3319, '4a': 3320, 'whn': 3321, 'dance': 3322, 'bar': 3323, 'gently': 3324, 'bears': 3325, 'juan': 3326, 'ideal': 3327, 'front': 3328, 'arm': 3329, 'tirunelvali': 3330, '4get': 3331, 'effect': 3332, 'kidding': 3333, 'stretch': 3334, 'urn': 3335, 'beware': 3336, 'kaiez': 3337, 'practicing': 3338, 'babies': 3339, 'goodnite': 3340, 'silver': 3341, 'silence': 3342, 'revision': 3343, 'exeter': 3344, 'whose': 3345, 'condition': 3346, 'coat': 3347, 'tues': 3348, 'restaurant': 3349, 'desperate': 3350, 'monkeys': 3351, 'practical': 3352, 'mails': 3353, 'costing': 3354, 'lyfu': 3355, 'lyf': 3356, 'ali': 3357, 'ke': 3358, 'program': 3359, 'meow': 3360, 'lucy': 3361, 'hubby': 3362, 'modules': 3363, 'purity': 3364, 'jsco': 3365, 'testing': 3366, 'nit': 3367, 'format': 3368, 'sarcasm': 3369, 'forum': 3370, 'aunt': 3371, 'unfortunately': 3372, 'yuo': 3373, 'ese': 3374, 'tihs': 3375, 'ow': 3376, 'joining': 3377, 'finance': 3378, 'filled': 3379, 'jia': 3380, 'sux': 3381, 'rhythm': 3382, 'adventure': 3383, 'wifi': 3384, '7250': 3385, 'boyfriend': 3386, 'driver': 3387, 'kicks': 3388, 'dime': 3389, 'force': 3390, 'fire': 3391, 'flame': 3392, 'propose': 3393, 'blame': 3394, 'blessings': 3395, 'batch': 3396, 'flaky': 3397, 'sooooo': 3398, 'tooo': 3399, \"'simple'\": 3400, 'confuses': 3401, 'british': 3402, 'hotels': 3403, 'sw73ss': 3404, 'adoring': 3405, 'dracula': 3406, 'ghost': 3407, 'addamsfa': 3408, 'munsters': 3409, 'exorcist': 3410, 'twilight': 3411, 'constant': 3412, 'cared': 3413, 'allow': 3414, 'feelin': 3415, 'msg150p': 3416, '2rcv': 3417, 'hlp': 3418, '08712317606': 3419, 'fly': 3420, 'event': 3421, '80608': 3422, 'movietrivia': 3423, '08712405022': 3424, 'partnership': 3425, 'mostly': 3426, 'å£6': 3427, 'maintain': 3428, 'sh': 3429, 'poker': 3430, 'messy': 3431, 'traffic': 3432, 'moves': 3433, 'slip': 3434, 'wkg': 3435, 'nus': 3436, 'keeps': 3437, 'gotten': 3438, 'unknown': 3439, '121': 3440, '2007': 3441, 'pre': 3442, 'stick': 3443, 'indeed': 3444, 'chosen': 3445, 'easter': 3446, 'telephone': 3447, 'di': 3448, 'bahamas': 3449, 'cruise': 3450, 'calm': 3451, 'up4': 3452, 'becomes': 3453, 'habit': 3454, 'contacts': 3455, 'forgets': 3456, 'atlanta': 3457, 'recharge': 3458, 'fills': 3459, 'gaps': 3460, 'arun': 3461, 'didnåõt': 3462, 'eye': 3463, 'desparate': 3464, 'fake': 3465, '3100': 3466, 'combine': 3467, 'sian': 3468, 'g696ga': 3469, 'joanna': 3470, 'replacement': 3471, 'telly': 3472, '12mths': 3473, 'mth': 3474, 'wipro': 3475, 'delete': 3476, 'laundry': 3477, 'underwear': 3478, 'waheed': 3479, 'pushes': 3480, 'avoiding': 3481, '0776xxxxxxx': 3482, '326': 3483, 'uh': 3484, 'heads': 3485, 'vday': 3486, '80182': 3487, '08452810073': 3488, \"there're\": 3489, 'table': 3490, 'build': 3491, 'snowman': 3492, 'fights': 3493, 'ofice': 3494, 'cn': 3495, 'prescription': 3496, 'cook': 3497, 'electricity': 3498, 'fujitsu': 3499, 'scold': 3500, '09066358152': 3501, 'prompts': 3502, 'disturbing': 3503, 'flies': 3504, 'woken': 3505, 'aka': 3506, 'delhi': 3507, 'held': 3508, 'fringe': 3509, 'distract': 3510, '61610': 3511, '08712400602450p': 3512, 'tones2you': 3513, 'mel': 3514, 'responsibility': 3515, 'tscs': 3516, 'skillgame': 3517, '1winaweek': 3518, '150ppermesssubscription': 3519, 'kid': 3520, 'affair': 3521, 'aom': 3522, 'nd': 3523, 'parco': 3524, 'nb': 3525, 'hallaq': 3526, 'lyk': 3527, 'bck': 3528, 'color': 3529, 'gender': 3530, 'mca': 3531, 'yer': 3532, '84199': 3533, 'box39822': 3534, 'w111wx': 3535, 'vomiting': 3536, 'rub': 3537, 'clever': 3538, 'manage': 3539, 'shitload': 3540, 'diamonds': 3541, 'nimya': 3542, 'aunty': 3543, 'mcat': 3544, '27': 3545, 'sacrifice': 3546, 'beg': 3547, 'stayin': 3548, 'satisfy': 3549, 'cld': 3550, 'killed': 3551, \"did'nt\": 3552, \"''ok''\": 3553, 'minuts': 3554, 'latr': 3555, 'kidz': 3556, 'smashed': 3557, \"everybody's\": 3558, 'ps': 3559, 'tok': 3560, 'specific': 3561, 'figures': 3562, 'cousin': 3563, 'excuses': 3564, 'neck': 3565, 'continue': 3566, 'holy': 3567, 'billion': 3568, 'classes': 3569, 'youre': 3570, 'turning': 3571, 'belive': 3572, 'slots': 3573, 'discussed': 3574, 'temp': 3575, 'prem': 3576, '2morro': 3577, 'spoiled': 3578, 'threats': 3579, 'sales': 3580, 'complaint': 3581, 'lk': 3582, 'lov': 3583, '300p': 3584, 'u4': 3585, '8552': 3586, '88877': 3587, '700': 3588, 'bedrm': 3589, 'waited': 3590, 'huge': 3591, 'mids': 3592, 'oranges': 3593, 'upd8': 3594, 'annie': 3595, '21870000': 3596, 'mailbox': 3597, 'messaging': 3598, '09056242159': 3599, 'retrieve': 3600, 'hrishi': 3601, 'nothin': 3602, 'cheer': 3603, \"that'll\": 3604, 'duchess': 3605, '008704050406': 3606, 'nahi': 3607, 'zindgi': 3608, 'wo': 3609, 'jo': 3610, 'dan': 3611, 'aww': 3612, 'staring': 3613, 'cm': 3614, 'unnecessarily': 3615, '08701417012150p': 3616, 'weigh': 3617, 'expired': 3618, 'opinions': 3619, 'thm': 3620, 'wn': 3621, 'instantly': 3622, 'drinking': 3623, 'paragon': 3624, 'arent': 3625, 'bluff': 3626, 'sary': 3627, 'happend': 3628, 'piece': 3629, 'vodka': 3630, 'kg': 3631, 'dumb': 3632, 'dressed': 3633, 'kay': 3634, 'nasty': 3635, 'slo': 3636, 'wasted': 3637, 'christ': 3638, 'solve': 3639, 'cooking': 3640, 'push': 3641, 'answered': 3642, 'rgds': 3643, '8pm': 3644, 'wrote': 3645, 'swiss': 3646, 'crore': 3647, 'jobs': 3648, 'lane': 3649, 'politicians': 3650, 'rights': 3651, 'donno': 3652, 'properly': 3653, '630': 3654, 'furniture': 3655, 'lock': 3656, 'shoving': 3657, 'papers': 3658, 'strange': 3659, 'acl03530150pm': 3660, 'indyarocks': 3661, 'resume': 3662, 'bids': 3663, 'whr': 3664, 'yunny': 3665, '83383': 3666, 'mmmmm': 3667, 'relatives': 3668, 'benefits': 3669, 'txt82228': 3670, 'dr': 3671, 'superior': 3672, 'picsfree1': 3673, 'vid': 3674, 'ruin': 3675, 'department': 3676, 'conform': 3677, 'bc': 3678, 'toshiba': 3679, 'knock': 3680, 'innocent': 3681, 'mental': 3682, 'hoped': 3683, 'bills': 3684, '2marrow': 3685, 'hon': 3686, 'treated': 3687, 'fab': 3688, 'wks': 3689, 'tiwary': 3690, 'bang': 3691, 'pap': 3692, 'arts': 3693, 'pandy': 3694, 'edu': 3695, 'secretary': 3696, 'dollar': 3697, 'pull': 3698, 'remains': 3699, 'bro': 3700, 'bros': 3701, '69696': 3702, 'nalla': 3703, 'northampton': 3704, 'abj': 3705, 'serving': 3706, 'smith': 3707, 'neither': 3708, 'hugs': 3709, 'snogs': 3710, 'west': 3711, 'fastest': 3712, 'growing': 3713, 'chase': 3714, '2stoptxt': 3715, 'steam': 3716, 'reg': 3717, 'public': 3718, 'govt': 3719, 'instituitions': 3720, 'luxury': 3721, 'canary': 3722, 'sleepy': 3723, 'mag': 3724, 'diwali': 3725, 'onion': 3726, 'thgt': 3727, 'lower': 3728, 'exhaust': 3729, 'pee': 3730, 'success': 3731, 'å£50': 3732, 'division': 3733, 'creep': 3734, 'lies': 3735, 'property': 3736, 'interflora': 3737, 'bbd': 3738, 'pimples': 3739, 'yellow': 3740, 'frog': 3741, '88888': 3742, 'doubt': 3743, 'strike': 3744, 'coin': 3745, 'freedom': 3746, 'twenty': 3747, 'painting': 3748, 'nowadays': 3749, 'talks': 3750, 'probs': 3751, 'swatch': 3752, 'ganesh': 3753, 'trips': 3754, '2geva': 3755, 'wuld': 3756, 'solved': 3757, 'sake': 3758, 'bruce': 3759, 'teaching': 3760, 'chest': 3761, 'covers': 3762, 'brief': 3763, 'hang': 3764, 'reboot': 3765, 'phoned': 3766, 'improved': 3767, 'hm': 3768, 'salon': 3769, 'evenings': 3770, 'raj': 3771, 'payment': 3772, 'shore': 3773, 'waves': 3774, 'clearing': 3775, 'å£33': 3776, 'range': 3777, 'topic': 3778, 'admin': 3779, 'visionsms': 3780, 'andros': 3781, 'meets': 3782, 'foot': 3783, 'penis': 3784, 'sigh': 3785, 'vth': 3786, 'eveb': 3787, 'window': 3788, 'removal': 3789, '08708034412': 3790, 'blow': 3791, 'cancelled': 3792, 'lookatme': 3793, 'agalla': 3794, 'xxxxx': 3795, 'count': 3796, 'otside': 3797, 'size': 3798, 'itåõs': 3799, 'tight': 3800, 'av': 3801, 'everyday': 3802, 'curious': 3803, 'postcard': 3804, 'bread': 3805, 'mahal': 3806, 'praying': 3807, 'ding': 3808, 'allowed': 3809, 'necessary': 3810, 'messaged': 3811, 'deus': 3812, 'tap': 3813, 'spile': 3814, 'broad': 3815, 'canal': 3816, 'engin': 3817, 'edge': 3818, 'east': 3819, 'howard': 3820, 'cooked': 3821, 'cheat': 3822, 'block': 3823, '09061221066': 3824, 'fromm': 3825, 'ruining': 3826, 'ee': 3827, 'easily': 3828, 'selfish': 3829, 'custom': 3830, 'sac': 3831, 'jiayin': 3832, 'pobox45w2tg150p': 3833, 'forgotten': 3834, '2waxsto': 3835, 'minimum': 3836, 'elaine': 3837, 'drunken': 3838, 'mess': 3839, 'crisis': 3840, 'ths': 3841, 'mb': 3842, 'desires': 3843, '1030': 3844, 'bloomberg': 3845, \"priscilla's\": 3846, 'wisdom': 3847, 'kent': 3848, 'vale': 3849, 'prince': 3850, 'granite': 3851, 'explosive': 3852, 'nasdaq': 3853, 'cdgt': 3854, 'base': 3855, 'placement': 3856, 'didn\\x89û÷t': 3857, 'sumthin': 3858, 'lion': 3859, 'devouring': 3860, 'airtel': 3861, 'processed': 3862, '69669': 3863, 'forums': 3864, 'mumtaz': 3865, \"mumtaz's\": 3866, 'ship': 3867, 'causing': 3868, 'lib': 3869, 'difference': 3870, 'despite': 3871, 'swoop': 3872, 'langport': 3873, 'forevr': 3874, 'mistakes': 3875, 'vegas': 3876, 'lou': 3877, 'båõday': 3878, 'vewy': 3879, 'pool': 3880, 'x49': 3881, '09065989182': 3882, 'stayed': 3883, 'stones': 3884, 'atlast': 3885, 'desert': 3886, \"weekend's\": 3887, 'funeral': 3888, 'vivek': 3889, 'tnc': 3890, 'brah': 3891, 'blu': 3892, 'ipad': 3893, 'bird': 3894, 'cheese': 3895, 'tms': 3896, 'widelive': 3897, 'index': 3898, 'wml': 3899, 'hsbc': 3900, 'wave': 3901, 'asp': 3902, '09061702893': 3903, 'melt': 3904, 'eek': 3905, '09061743386': 3906, 'heater': 3907, '674': 3908, 'eta': 3909, 'dial': 3910, 'literally': 3911, 'kothi': 3912, 'prof': 3913, 'sem': 3914, 'student': 3915, 'actual': 3916, 'sathya': 3917, 'dealing': 3918, 'reasonable': 3919, 'kappa': 3920, 'piss': 3921, 'guessing': 3922, 'royal': 3923, 'sticky': 3924, 'indicate': 3925, 'repeat': 3926, 'calculation': 3927, 'blur': 3928, 'clothes': 3929, 'lush': 3930, '2find': 3931, 'fucked': 3932, 'beauty': 3933, '440': 3934, 'moving': 3935, 'sunlight': 3936, 'jogging': 3937, 'mokka': 3938, 'bone': 3939, 'steve': 3940, 'epsilon': 3941, 'lst': 3942, 'evry': 3943, 'massive': 3944, 'forms': 3945, 'polo': 3946, '373': 3947, 'w1j': 3948, '6hl': 3949, 'academic': 3950, 'convinced': 3951, 'coast': 3952, 'floppy': 3953, 'snappy': 3954, 'suppose': 3955, 'explicit': 3956, 'secs': 3957, '02073162414': 3958, 'clearly': 3959, 'gain': 3960, '89070': 3961, 'realise': 3962, 'mnths': 3963, '86888': 3964, 'subscribe6gbp': 3965, '3hrs': 3966, 'txtstop': 3967, 'managed': 3968, 'capital': 3969, 'acted': 3970, 'mis': 3971, 'loyal': 3972, 'customers': 3973, '09066380611': 3974, 'print': 3975, 'dokey': 3976, 'error': 3977, 'sleepin': 3978, 'minor': 3979, 'cashbin': 3980, 'denis': 3981, 'woulda': 3982, 'miserable': 3983, 'shoppin': 3984, '08718726270': 3985, 'celebration': 3986, 'nuther': 3987, '910': 3988, 'infections': 3989, 'kiosk': 3990, 'henry': 3991, 'parent': 3992, 'select': 3993, 'woot': 3994, 'dining': 3995, 'donate': 3996, 'cme': 3997, 'parking': 3998, 'goldviking': 3999, '762': 4000, 'sarasota': 4001, '13': 4002, 'cherish': 4003, '165': 4004, '4eva': 4005, '09061213237': 4006, '177': 4007, 'm227xy': 4008, 'favorite': 4009, 'pride': 4010, 'respectful': 4011, 'amused': 4012, 'gr8prizes': 4013, 'mega': 4014, 'shu': 4015, 'island': 4016, '2p': 4017, 'spider': 4018, 'minsu': 4019, 'jurong': 4020, 'amore': 4021, \"08452810075over18's\": 4022, 'chgs': 4023, 'aids': 4024, 'patent': 4025, \"'melle\": 4026, 'melle': 4027, 'minnaminunginte': 4028, 'nurungu': 4029, 'vettam': 4030, 'receivea': 4031, '09061701461': 4032, 'kl341': 4033, '08002986030': 4034, 'cried': 4035, 'chances': 4036, 'csh11': 4037, '6days': 4038, 'tsandcs': 4039, 'jackpot': 4040, '81010': 4041, 'dbuk': 4042, 'lccltd': 4043, '4403ldnw1a7rw18': 4044, 'breather': 4045, 'granted': 4046, 'fulfil': 4047, 'qjkgighjjgcbl': 4048, 'gota': 4049, 'macedonia': 4050, 'ì¼1': 4051, 'poboxox36504w45wq': 4052, 'ffffffffff': 4053, 'forced': 4054, 'packing': 4055, 'ahhh': 4056, 'vaguely': 4057, 'apologetic': 4058, 'fallen': 4059, 'actin': 4060, 'spoilt': 4061, 'badly': 4062, 'fainting': 4063, 'housework': 4064, 'cuppa': 4065, 'timings': 4066, 'watts': 4067, 'arabian': 4068, 'steed': 4069, '07732584351': 4070, 'rodger': 4071, 'endowed': 4072, 'hep': 4073, 'immunisation': 4074, 'stubborn': 4075, 'sucker': 4076, 'suckers': 4077, 'thinked': 4078, 'smarter': 4079, 'crashing': 4080, 'accomodations': 4081, 'cave': 4082, 'offered': 4083, 'embarassing': 4084, 'jersey': 4085, 'devils': 4086, 'wings': 4087, 'incorrect': 4088, 'mallika': 4089, 'sherawat': 4090, 'gauti': 4091, 'sehwag': 4092, 'seekers': 4093, '09066364589': 4094, 'dedicated': 4095, 'dedicate': 4096, 'eurodisinc': 4097, 'trav': 4098, 'aco': 4099, 'entry41': 4100, 'morefrmmob': 4101, 'shracomorsglsuplt': 4102, 'ls1': 4103, '3aj': 4104, 'barbie': 4105, \"ken's\": 4106, 'performed': 4107, 'peoples': 4108, 'operate': 4109, \"ta's\": 4110, 'multis': 4111, 'factory': 4112, 'you\\x89û÷ll': 4113, 'casualty': 4114, 'stuff42moro': 4115, 'includes': 4116, 'pours': 4117, '169': 4118, '6031': 4119, '85069': 4120, 'usher': 4121, 'britney': 4122, 'hairdressers': 4123, 'beforehand': 4124, 'ams': 4125, '4the': 4126, 'signin': 4127, 'memorable': 4128, 'ip': 4129, 'minecraft': 4130, 'server': 4131, 'grumpy': 4132, 'lying': 4133, 'plural': 4134, 'openin': 4135, 'formal': 4136, '0871277810910p': 4137, 'ratio': 4138, '07742676969': 4139, '08719180248': 4140, '09064019788': 4141, 'box42wr29c': 4142, 'apples': 4143, 'pairs': 4144, 'malarky': 4145, '7548': 4146, '4041': 4147, 'sao': 4148, 'predict': 4149, 'involve': 4150, 'imposed': 4151, 'lucyxx': 4152, 'tmorrow': 4153, 'accomodate': 4154, 'algarve': 4155, 'gravel': 4156, 'hotmail': 4157, 'svc': 4158, '69988': 4159, 'nver': 4160, 'ummma': 4161, 'sindu': 4162, 'nevering': 4163, 'typical': 4164, 'dirt': 4165, 'chores': 4166, 'exist': 4167, 'hail': 4168, 'mist': 4169, 'aaooooright': 4170, 'annoncement': 4171, '07046744435': 4172, '0871277810810': 4173, 'envy': 4174, \"see's\": 4175, 'excited': 4176, '32': 4177, 'bangbabes': 4178, 'bangb': 4179, 'cultures': 4180, '09061701939': 4181, 's89': 4182, 'missunderstding': 4183, \"one's\": 4184, 'bridge': 4185, 'lager': 4186, 'form': 4187, 'clark': 4188, 'utter': 4189, 'axis': 4190, 'surname': 4191, 'clue': 4192, 'begins': 4193, 'maneesha': 4194, 'satisfied': 4195, 'toll': 4196, 'lifted': 4197, 'hopes': 4198, 'approaches': 4199, 'handsome': 4200, 'finding': 4201, '0808': 4202, '145': 4203, '4742': 4204, '11pm': 4205, '30th': 4206, 'areyouunique': 4207, 'league': 4208, 'ors': 4209, 'stool': 4210, 'wishin': 4211, '1pm': 4212, 'babyjontet': 4213, 'enc': 4214, 'refilled': 4215, 'inr': 4216, 'keralacircle': 4217, 'prepaid': 4218, 'kr': 4219, 'ga': 4220, 'alter': 4221, 'dats': 4222, 'dogg': 4223, 'refund': 4224, 'prediction': 4225, 'ubandu': 4226, 'disk': 4227, 'scenery': 4228, 'flyng': 4229, 'aries': 4230, 'elama': 4231, 'mudyadhu': 4232, 'strict': 4233, 'gandhipuram': 4234, 'rubber': 4235, 'thirtyeight': 4236, 'loses': 4237, '447801259231': 4238, '09058094597': 4239, 'hearing': 4240, 'pleassssssseeeeee': 4241, 'sportsx': 4242, 'baig': 4243, 'watches': 4244, 'drpd': 4245, 'deeraj': 4246, 'deepak': 4247, 'bcums': 4248, 'affection': 4249, 'kettoda': 4250, 'manda': 4251, 'ups': 4252, '3days': 4253, 'usps': 4254, 'bribe': 4255, 'nipost': 4256, 'luton': 4257, '0125698789': 4258, 'sometme': 4259, 'club4mobiles': 4260, '87070': 4261, 'club4': 4262, 'box1146': 4263, 'mk45': 4264, '2wt': 4265, 'evo': 4266, 'narcotics': 4267, 'genuine': 4268, '100percent': 4269, 'objection': 4270, 'rob': 4271, 'mack': 4272, 'theater': 4273, 'celebrations': 4274, 'ahold': 4275, 'cruisin': 4276, 'varunnathu': 4277, 'edukkukayee': 4278, 'raksha': 4279, 'ollu': 4280, 'buzy': 4281, 'resend': 4282, '28thfeb': 4283, 'gurl': 4284, 'appropriate': 4285, 'grave': 4286, 'diesel': 4287, 'fridge': 4288, 'womdarfull': 4289, 'rodds1': 4290, 'aberdeen': 4291, 'united': 4292, 'kingdom': 4293, 'img': 4294, 'icmb3cktz8r7': 4295, 'remb': 4296, 'jos': 4297, 'bookshelf': 4298, 'dear1': 4299, 'best1': 4300, 'clos1': 4301, 'lvblefrnd': 4302, 'jstfrnd': 4303, 'cutefrnd': 4304, 'lifpartnr': 4305, 'swtheart': 4306, 'bstfrnd': 4307, '85222': 4308, 'winnersclub': 4309, '84': 4310, 'gbp1': 4311, 'mylife': 4312, 'l8': 4313, 'gon': 4314, 'guild': 4315, 'evaporated': 4316, 'stealing': 4317, \"employer's\": 4318, 'daaaaa': 4319, 'wined': 4320, 'dined': 4321, 'hiding': 4322, 'huiming': 4323, 'prestige': 4324, 'shag': 4325, 'sextextuk': 4326, 'xxuk': 4327, '69876': 4328, 'jeremiah': 4329, 'iphone': 4330, 'apeshit': 4331, 'misbehaved': 4332, 'safely': 4333, 'onam': 4334, 'sirji': 4335, 'tata': 4336, 'aig': 4337, '08708800282': 4338, 'andrews': 4339, 'db': 4340, \"audrey's\": 4341, 'dawns': 4342, 'refreshed': 4343, 'z': 4344, 'f4q': 4345, 'rp176781': 4346, 'regalportfolio': 4347, '08717205546': 4348, 'uniform': 4349, 'spoil': 4350, 't91': 4351, '09057039994': 4352, 'lindsay': 4353, 'bars': 4354, 'heron': 4355, 'payasam': 4356, 'rinu': 4357, 'taught': 4358, 'becaus': 4359, 'verifying': 4360, 'prabu': 4361, 'repairs': 4362, 'followin': 4363, 'wallet': 4364, '945': 4365, 'n9dx': 4366, 'owl': 4367, 'kickboxing': 4368, 'lap': 4369, 'performance': 4370, 'calculated': 4371, 'wahleykkum': 4372, 'visitor': 4373, '2814032': 4374, '3xå£150pw': 4375, 'eå£nd': 4376, 'stoners': 4377, 'disastrous': 4378, 'busetop': 4379, 'iron': 4380, 'okies': 4381, 'wendy': 4382, '09064012103': 4383, 'whatsup': 4384, '09111032124': 4385, 'pobox12n146tf150p': 4386, '09058094455': 4387, 'sentiment': 4388, 'rowdy': 4389, 'attitude': 4390, 'attractive': 4391, 'urination': 4392, 'bmw': 4393, 'urgently': 4394, 'shortage': 4395, 'source': 4396, 'arng': 4397, '3650': 4398, '09066382422': 4399, '300603': 4400, 'bcm4284': 4401, 'hillsborough': 4402, 'shoul': 4403, 'hasnt': 4404, 'bhaji': 4405, 'cricketer': 4406, 'werethe': 4407, 'monkeespeople': 4408, 'monkeyaround': 4409, 'howdy': 4410, 'blimey': 4411, 'exercise': 4412, 'concentration': 4413, 'hanks': 4414, 'lotsly': 4415, 'detail': 4416, 'optimistic': 4417, 'å£75': 4418, 'homeowners': 4419, 'previously': 4420, '1956669': 4421, 'consistently': 4422, 'practicum': 4423, 'links': 4424, 'ears': 4425, 'wavering': 4426, 'heal': 4427, 'upgrdcentre': 4428, '9153': 4429, 'oral': 4430, 'slippery': 4431, 'bike': 4432, 'okmail': 4433, 'enters': 4434, '69888nyt': 4435, 'machi': 4436, \"when're\": 4437, 'mcr': 4438, 'jaykwon': 4439, 'thuglyfe': 4440, 'falconerf': 4441, '07781482378': 4442, 'faded': 4443, 'glory': 4444, 'ralphs': 4445, \"account's\": 4446, 'reunion': 4447, 'accenture': 4448, 'jackson': 4449, 'reache': 4450, 'fightng': 4451, 'dificult': 4452, 'nuerologist': 4453, 'lolnice': 4454, '09050002311': 4455, 'b4280703': 4456, '08718727868': 4457, 'westshore': 4458, 'significance': 4459, 'jada': 4460, 'kusruthi': 4461, 'matured': 4462, \"g's\": 4463, 'ammo': 4464, 'ak': 4465, 'soryda': 4466, 'sory': 4467, 'boltblue': 4468, 'poly3': 4469, 'jamz': 4470, 'toxic': 4471, 'topped': 4472, 'bubbletext': 4473, 'tgxxrz': 4474, 'problematic': 4475, 'unconscious': 4476, 'adults': 4477, 'abnormally': 4478, 'pickle': 4479, '9755': 4480, \"x'mas\": 4481, 'recieve': 4482, 'teletext': 4483, 'faggot': 4484, '07815296484': 4485, '41782': 4486, 'bani': 4487, 'leads': 4488, 'buttons': 4489, 'ummmmmaah': 4490, 'applausestore': 4491, 'monthlysubscription': 4492, 'max6': 4493, 'csc': 4494, 'famous': 4495, \"'anything'\": 4496, 'unconditionally': 4497, 'temper': 4498, \"'married'\": 4499, 'oclock': 4500, 'bash': 4501, 'cooped': 4502, 'invitation': 4503, 'cali': 4504, \"bloke's\": 4505, 'weddin': 4506, 'alibi': 4507, 'sink': 4508, 'paces': 4509, 'cage': 4510, 'surrounded': 4511, 'cuck': 4512, 'deficient': 4513, 'acknowledgement': 4514, 'astoundingly': 4515, 'tactless': 4516, 'oath': 4517, 'magic': 4518, 'silly': 4519, 'isn\\x89û÷t': 4520, 'uv': 4521, 'causes': 4522, 'mutations': 4523, 'sunscreen': 4524, 'thesedays': 4525, 'mei': 4526, 'haven': 4527, 'bao': 4528, 'sugardad': 4529, 'brownie': 4530, 'ninish': 4531, 'icky': 4532, 'freek': 4533, 'ridden': 4534, 'missy': 4535, 'goggles': 4536, 'arguing': 4537, '09050005321': 4538, 'arngd': 4539, 'walkin': 4540, 'unfortuntly': 4541, 'bites': 4542, 'frnt': 4543, 'sayin': 4544, 'textand': 4545, '08002988890': 4546, 'jjc': 4547, 'tendencies': 4548, 'meive': 4549, 'gotany': 4550, 'srsly': 4551, 'yi': 4552, '07753741225': 4553, '08715203677': 4554, '42478': 4555, 'prix': 4556, 'stands': 4557, 'nitz': 4558, '0825': 4559, 'blastin': 4560, 'occur': 4561, 'rajnikant': 4562, 'ocean': 4563, 'xclusive': 4564, 'clubsaisai': 4565, 'speciale': 4566, 'zouk': 4567, 'roses': 4568, '07946746291': 4569, '07880867867': 4570, 'bridgwater': 4571, 'banter': 4572, 'dependents': 4573, 'thanx4': 4574, 'cer': 4575, 'hundreds': 4576, 'handsomes': 4577, 'beauties': 4578, 'aunties': 4579, 'friendships': 4580, 'dismay': 4581, 'concerned': 4582, 'tootsie': 4583, '4882': 4584, '09064019014': 4585, 'seventeen': 4586, 'ml': 4587, 'biola': 4588, 'fetching': 4589, 'restock': 4590, 'brighten': 4591, 'allo': 4592, 'braved': 4593, 'triumphed': 4594, 'b\\x89û÷ham': 4595, 'uncomfortable': 4596, '08715203694': 4597, 'sonetimes': 4598, 'rough': 4599, 'wesleys': 4600, \"dealer's\": 4601, 'cloud': 4602, 'wikipedia': 4603, '88800': 4604, '89034': 4605, '08718711108': 4606, 'lays': 4607, 'repent': 4608, 'positions': 4609, 'kama': 4610, 'sutra': 4611, 'nange': 4612, 'bakra': 4613, 'kalstiya': 4614, \"carlos'll\": 4615, 'lakhs': 4616, 'sun0819': 4617, '08452810071': 4618, 'ditto': 4619, 'wetherspoons': 4620, 'piggy': 4621, 'freaky': 4622, 'scrappy': 4623, \"'hex'\": 4624, 'sdryb8i': 4625, 'lapdancer': 4626, 'g2': 4627, '1da': 4628, '150ppmsg': 4629, 'crying': 4630, 'imprtant': 4631, 'tomorw': 4632, 'cherthala': 4633, 'bfore': 4634, 'tmorow': 4635, 'engaged': 4636, '448712404000': 4637, '08712404000': 4638, '1405': 4639, '1680': 4640, '1843': 4641, 'entrepreneurs': 4642, \"alex's\": 4643, 'corporation': 4644, 'prevent': 4645, 'dehydration': 4646, 'fluids': 4647, \"sms'd\": 4648, 'trek': 4649, 'harri': 4650, 'gage': 4651, 'deck': 4652, 'cnupdates': 4653, 'newsletter': 4654, 'alerts': 4655, 'aeronautics': 4656, 'professors': 4657, 'calld': 4658, 'aeroplane': 4659, 'hurried': 4660, 'shitstorm': 4661, 'attributed': 4662, '08714712388': 4663, '449071512431': 4664, 'sth': 4665, 'specs': 4666, 'px3748': 4667, '08714712394': 4668, 'macha': 4669, 'mindset': 4670, \"s'fine\": 4671, 'wondar': 4672, 'flim': 4673, 'jelly': 4674, 'scrumptious': 4675, 'dao': 4676, 'half8th': 4677, 'jide': 4678, 'visiting': 4679, 'alertfrom': 4680, 'jeri': 4681, 'stewartsize': 4682, '2kbsubject': 4683, 'prescripiton': 4684, 'drvgsto': 4685, 'steak': 4686, 'neglect': 4687, 'prayers': 4688, \"hadn't\": 4689, 'clocks': 4690, 'realised': 4691, 'wahay': 4692, 'gaze': 4693, '82324': 4694, 'tattoos': 4695, 'caveboy': 4696, \"phone's\": 4697, 'vibrate': 4698, 'acting': 4699, 'å£79': 4700, '08704439680ts': 4701, 'grandmas': 4702, 'hungover': 4703, 'unclaimed': 4704, '09066368327': 4705, 'closingdate04': 4706, 'claimcode': 4707, 'm39m51': 4708, '50pmmorefrommobile2bremoved': 4709, 'mobypobox734ls27yf': 4710, 'gua': 4711, 'faber': 4712, 'mas': 4713, 'dramatic': 4714, 'hunting': 4715, 'drunkard': 4716, 'idc': 4717, 'weaseling': 4718, 'trash': 4719, 'punish': 4720, 'beerage': 4721, 'randomlly': 4722, 'fixes': 4723, 'spelling': 4724, '100p': 4725, '087018728737': 4726, 'toppoly': 4727, 'tune': 4728, 'fondly': 4729, 'dogbreath': 4730, 'sounding': 4731, 'weighed': 4732, 'woohoo': 4733, 'uncountable': 4734, '9996': 4735, '14thmarch': 4736, 'availa': 4737, 'whereare': 4738, 'friendsare': 4739, 'thekingshead': 4740, 'canlove': 4741, '8077': 4742, 'rg21': 4743, '4jx': 4744, 'dled': 4745, 'smokin': 4746, 'boooo': 4747, 'costumes': 4748, 'yowifes': 4749, 'outbid': 4750, 'simonwatson5120': 4751, 'shinco': 4752, 'plyr': 4753, 'smsrewards': 4754, 'notifications': 4755, 'youi': 4756, 'dobby': 4757, 'enjoyin': 4758, 'yourjob': 4759, 'iåõllspeak': 4760, 'soonlots': 4761, 'starshine': 4762, 'sips': 4763, 'smsservices': 4764, 'yourinclusive': 4765, 'bits': 4766, 'hahaha': 4767, 'brain': 4768, 'turned': 4769, 'burial': 4770, '09065174042': 4771, '07821230901': 4772, 'rv': 4773, 'rvx': 4774, 'comprehensive': 4775, \"prashanthettan's\": 4776, 'samantha': 4777, 'guitar': 4778, 'impress': 4779, 'doug': 4780, 'realizes': 4781, 'trauma': 4782, 'swear': 4783, 'inner': 4784, 'tigress': 4785, 'urfeeling': 4786, 'bettersn': 4787, 'probthat': 4788, 'overdose': 4789, 'lovejen': 4790, '83110': 4791, 'ana': 4792, 'sathy': 4793, 'rto': 4794, 'spoons': 4795, 'corvettes': 4796, '09061104283': 4797, '50pm': 4798, 'bunkers': 4799, '07808': 4800, 'xxxxxx': 4801, '08719899217': 4802, 'posh': 4803, 'chaps': 4804, 'trial': 4805, 'prods': 4806, 'champneys': 4807, 'dob': 4808, '0721072': 4809, 'philosophical': 4810, 'hole': 4811, 'atleast': 4812, 'shakespeare': 4813, '5k': 4814, '09064011000': 4815, 'cr01327bt': 4816, 'fixedline': 4817, 'doit': 4818, 'mymoby': 4819, 'woul': 4820, 'curfew': 4821, 'gibe': 4822, 'getsleep': 4823, 'studdying': 4824, 'massages': 4825, 'yoyyooo': 4826, 'permissions': 4827, 'mike': 4828, 'hussey': 4829, 'faglord': 4830, 'nutter': 4831, 'cutter': 4832, 'ctter': 4833, 'cttergg': 4834, 'cttargg': 4835, 'ctargg': 4836, 'ctagg': 4837, 'ie': 4838, 'thus': 4839, 'grateful': 4840, 'happier': 4841, 'agents': 4842, 'experiment': 4843, 'invoices': 4844, 'smell': 4845, 'tobacco': 4846, 'assumed': 4847, 'lastest': 4848, 'stereophonics': 4849, 'marley': 4850, 'dizzee': 4851, 'racal': 4852, 'libertines': 4853, 'strokes': 4854, 'nookii': 4855, 'bookmark': 4856, 'grinule': 4857, 'fudge': 4858, 'oreos': 4859, \"zaher's\": 4860, 'nauseous': 4861, 'dieting': 4862, \"ashley's\": 4863, 'avalarr': 4864, 'hollalater': 4865, 'rounds': 4866, 'blogging': 4867, 'magicalsongs': 4868, 'blogspot': 4869, 'slices': 4870, 'kvb': 4871, 'å£1million': 4872, 'ppt150x3': 4873, 'box403': 4874, 'w1t1jy': 4875, 'alternative': 4876, \"term's\": 4877, 'ore': 4878, 'owo': 4879, 'fro': 4880, 'samus': 4881, 'shoulders': 4882, 'matthew': 4883, '09063440451': 4884, 'ppm150': 4885, 'box334': 4886, 'vomitin': 4887, '09061749602': 4888, '528': 4889, 'hp20': 4890, '1yf': 4891, 'stuffed': 4892, 'writhing': 4893, 'paypal': 4894, 'voila': 4895, 'pockets': 4896, 'theyre': 4897, 'folks': 4898, 'sorta': 4899, 'blown': 4900, 'sophas': 4901, 'secondary': 4902, 'applying': 4903, 'ogunrinde': 4904, 'lodging': 4905, 'chk': 4906, 'dict': 4907, 'shb': 4908, \"dobby's\": 4909, 'stories': 4910, 'simpler': 4911, 'retired': 4912, 'natwest': 4913, '09050001808': 4914, 'm95': 4915, 'chad': 4916, 'gymnastics': 4917, 'christians': 4918, 'token': 4919, 'liking': 4920, 'aptitude': 4921, 'horse': 4922, 'wrongly': 4923, 'boggy': 4924, 'biatch': 4925, 'hesitate': 4926, 'weakness': 4927, 'notebook': 4928, 'eightish': 4929, 'carpark': 4930, '67441233': 4931, 'irene': 4932, 'ere': 4933, 'bus8': 4934, '61': 4935, '66': 4936, '382': 4937, 'cres': 4938, '6ph': 4939, '5wkg': 4940, 'ì¬n': 4941, 'sd': 4942, 'relaxing': 4943, '7am': 4944, '5ish': 4945, 'stripes': 4946, 'skirt': 4947, 'blessed': 4948, 'escalator': 4949, 'beth': 4950, 'charlie': 4951, 'syllabus': 4952, 'panasonic': 4953, 'bluetoothhdset': 4954, 'doublemins': 4955, 'doubletxt': 4956, '30pm': 4957, 'poyyarikatur': 4958, 'kolathupalayam': 4959, 'unjalur': 4960, 'erode': 4961, 'hero': 4962, 'apt': 4963, 'meat': 4964, 'supreme': 4965, 'cudnt': 4966, 'ctla': 4967, 'ente': 4968, 'ishtamayoo': 4969, 'bakrid': 4970, 'glorious': 4971, 'finds': 4972, 'coaxing': 4973, 'images': 4974, 'fond': 4975, 'souveniers': 4976, 'cougar': 4977, '09065394514': 4978, 'scratches': 4979, 'nanny': 4980, 'shitin': 4981, 'defo': 4982, 'hardest': 4983, 'millions': 4984, 'lekdog': 4985, 'blankets': 4986, \"'its\": 4987, 'edison': 4988, 'rightly': 4989, 'viva': 4990, 'atten': 4991, 'iåõd': 4992, '09058097218': 4993, 'educational': 4994, 'doesnåõt': 4995, 'kickoff': 4996, 'data': 4997, 'analysis': 4998, 'belligerent': 4999, 'les': 5000, 'rudi': 5001, 'snoring': 5002, 'ink': 5003, '515': 5004, \"how're\": 5005, 'throwing': 5006, 'eastenders': 5007, 'compare': 5008, 'herself': 5009, 'violet': 5010, 'tulip': 5011, 'lily': 5012, 'wkent': 5013, '150p16': 5014, 'finalise': 5015, 'flirtparty': 5016, 'replys150': 5017, 'dentist': 5018, '09058091854': 5019, 'box385': 5020, 'm6': 5021, '6wu': 5022, 'lul': 5023, 'nurses': 5024, 'shes': 5025, 'obese': 5026, 'oyea': 5027, 'ami': 5028, 'parchi': 5029, 'kicchu': 5030, 'kaaj': 5031, 'korte': 5032, 'iccha': 5033, 'korche': 5034, 'tul': 5035, 'copies': 5036, 'sculpture': 5037, 'surya': 5038, 'pokkiri': 5039, 'dearer': 5040, 'attraction': 5041, 'sorrows': 5042, 'proove': 5043, 'praises': 5044, 'makiing': 5045, 'sambar': 5046, \"fr'ndship\": 5047, 'needle': 5048, '4few': 5049, 'conected': 5050, 'spatula': 5051, '09061221061': 5052, '28days': 5053, 'box177': 5054, 'm221bp': 5055, '2yr': 5056, 'warranty': 5057, 'på£3': 5058, '99': 5059, \"cali's\": 5060, 'complexities': 5061, 'freely': 5062, 'taxes': 5063, 'outrageous': 5064, 'tomorro': 5065, 'ryder': 5066, 'elvis': 5067, 'presleys': 5068, 'strips': 5069, 'postal': 5070, 'gifts': 5071, 'cliff': 5072, 'wrking': 5073, 'sittin': 5074, 'drops': 5075, 'hen': 5076, 'smoked': 5077, 'teju': 5078, 'hourish': 5079, 'amla': 5080, 'convenience': 5081, 'evaluation': 5082, '449050000301': 5083, '09050000301': 5084, '80155': 5085, 'swap': 5086, 'chatter': 5087, 'chat80155': 5088, 'rcd': 5089, 'cheyyamo': 5090, '80160': 5091, 'txt43': 5092, 'throws': 5093, 'brothers': 5094, 'hmv1': 5095, 'errors': 5096, 'tau': 5097, 'piah': 5098, '1stchoice': 5099, '08707808226': 5100, \"shade's\": 5101, 'copied': 5102, 'notified': 5103, 'marketing': 5104, '84122': 5105, '08450542832': 5106, 'virgins': 5107, 'sexual': 5108, 'theirs': 5109, '69911': 5110, 'sitter': 5111, 'kaitlyn': 5112, 'danger': 5113, 'peeps': 5114, 'comment': 5115, 'veggie': 5116, 'neighbors': 5117, 'computerless': 5118, 'balloon': 5119, '61200': 5120, 'packs': 5121, 'itcould': 5122, 'melody': 5123, 'macs': 5124, 'hme': 5125, 'velachery': 5126, 'flippin': 5127, 'breaking': 5128, 'cstore': 5129, 'hangin': 5130, 'lodge': 5131, 'worrying': 5132, 'quizzes': 5133, '087016248': 5134, '08719181503': 5135, 'thin': 5136, 'arguments': 5137, 'fed': 5138, 'himso': 5139, 'neft': 5140, 'beneficiary': 5141, 'subs16': 5142, '1win150ppmx3': 5143, 'semi': 5144, 'exp': 5145, '30apr': 5146, 'maaaan': 5147, 'guessin': 5148, 'ilol': 5149, 'personally': 5150, 'wuldnt': 5151, 'lunchtime': 5152, 'organise': 5153, '08719181513': 5154, 'passable': 5155, 'phd': 5156, '5years': 5157, 'nok': 5158, 'prakesh': 5159, 'betta': 5160, 'aging': 5161, 'products': 5162, 'accommodation': 5163, 'global': 5164, 'phb1': 5165, '08700435505150p': 5166, 'submitting': 5167, 'snatch': 5168, 'drivby': 5169, '0quit': 5170, 'edrunk': 5171, 'iff': 5172, 'pthis': 5173, 'senrd': 5174, 'dnot': 5175, 'dancce': 5176, 'drum': 5177, 'basq': 5178, 'ihave': 5179, '2nhite': 5180, 'ros': 5181, 'xxxxxxx': 5182, 'relieved': 5183, 'westonzoyland': 5184, 'greatness': 5185, 'goin2bed': 5186, 'only1more': 5187, 'mc': 5188, 'every1': 5189, 'ava': 5190, 'goodtime': 5191, 'oli': 5192, 'melnite': 5193, 'ifink': 5194, 'everythin': 5195, 'l8rs': 5196, '08712402779': 5197, 'shun': 5198, 'bian': 5199, 'glass': 5200, 'exhibition': 5201, 'el': 5202, 'nino': 5203, 'himself': 5204, 'jd': 5205, 'accounts': 5206, 'downstem': 5207, '08718730555': 5208, 'wahala': 5209, 'inperialmusic': 5210, 'listening2the': 5211, 'byåóleafcutter': 5212, 'johnåó': 5213, 'insects': 5214, 'molested': 5215, 'plumbing': 5216, 'remixed': 5217, 'evil': 5218, 'acid': 5219, 'didntgive': 5220, 'bellearlier': 5221, '09096102316': 5222, 'cheery': 5223, 'weirdo': 5224, 'stalk': 5225, 'profiles': 5226, 'jerry': 5227, 'irritates': 5228, 'fails': 5229, '95': 5230, 'pax': 5231, 'deposit': 5232, 'jap': 5233, 'disappeared': 5234, 'certificate': 5235, 'publish': 5236, 'wheellock': 5237, 'destination': 5238, 'fifty': 5239, 'settling': 5240, 'happenin': 5241, 'cocksuckers': 5242, 'ipads': 5243, 'worthless': 5244, 'novelty': 5245, 'janx': 5246, 'dads': 5247, 'designation': 5248, 'developer': 5249, 'videosound': 5250, 'videosounds': 5251, 'musicnews': 5252, '09701213186': 5253, 'spirit': 5254, 'shattered': 5255, 'girlie': 5256, 'darker': 5257, 'styling': 5258, 'gray': 5259, 'listn': 5260, 'watevr': 5261, '\\x89ûïharry': 5262, 'minus': 5263, 'paragraphs': 5264, 'coveragd': 5265, 'vasai': 5266, \"4'o\": 5267, 'retard': 5268, 'bathroom': 5269, 'sang': 5270, \"'uptown\": 5271, \"girl'\": 5272, \"80's\": 5273, 'icic': 5274, 'syria': 5275, 'gauge': 5276, \"patty's\": 5277, 'completing': 5278, 'ax': 5279, 'surgical': 5280, 'emergency': 5281, 'unfolds': 5282, 'korean': 5283, \"leona's\": 5284, 'fredericksburg': 5285, 'que': 5286, 'pases': 5287, 'buen': 5288, 'tiempo': 5289, 'free2day': 5290, \"george's\": 5291, '89080': 5292, '0870241182716': 5293, 'compass': 5294, 'gnun': 5295, 'way2sms': 5296, 'baaaaabe': 5297, 'misss': 5298, 'youuuuu': 5299, 'convince': 5300, 'witot': 5301, 'buyer': 5302, 'becz': 5303, 'undrstndng': 5304, 'avoids': 5305, 'suffer': 5306, 'steamboat': 5307, 'forgive': 5308, 'tp': 5309, 'bbq': 5310, '6ish': 5311, 'everyso': 5312, 'panicks': 5313, 'screen': 5314, 'nick': 5315, 'types': 5316, 'auntie': 5317, 'huai': 5318, 'lf56': 5319, 'tlk': 5320, 'path': 5321, 'appear': 5322, 'paths': 5323, 'reserve': 5324, 'thirunelvali': 5325, 'tackle': 5326, 'storming': 5327, 'phne': 5328, 'wt': 5329, 'margaret': 5330, 'girlfrnd': 5331, 'grahmbell': 5332, 'invnted': 5333, 'telphone': 5334, 'tonght': 5335, 'ploughing': 5336, 'pile': 5337, 'ironing': 5338, 'chinky': 5339, 'wi': 5340, 'nz': 5341, 'aust': 5342, 'bk': 5343, 'recharged': 5344, 'papa': 5345, 'detailed': 5346, 'sinco': 5347, 'payee': 5348, 'icicibank': 5349, 'frauds': 5350, 'disclose': 5351, 'losers': 5352, 'beta': 5353, 'noncomittal': 5354, 'beneath': 5355, 'pale': 5356, 'snickering': 5357, 'chords': 5358, 'win150ppmx3age16': 5359, 'boyf': 5360, 'interviw': 5361, 'spreadsheet': 5362, 'determine': 5363, 'entire': 5364, 'dartboard': 5365, 'doubles': 5366, 'trebles': 5367, 'recognises': 5368, 'wisheds': 5369, 'intrepid': 5370, 'duo': 5371, 'breeze': 5372, 'fresh': 5373, 'twittering': 5374, 'ducking': 5375, 'chinchillas': 5376, 'function': 5377, 'headstart': 5378, 'rummer': 5379, 'flying': 5380, 'optin': 5381, 'bbc': 5382, 'charts': 5383, 'thanks2': 5384, 'rajini': 5385, 'summers': 5386, 'matched': 5387, 'help08714742804': 5388, 'spys': 5389, '09099725823': 5390, 'offering': 5391, 'yalru': 5392, 'astne': 5393, 'innu': 5394, 'mundhe': 5395, 'halla': 5396, 'bilo': 5397, 'edhae': 5398, 'ovr': 5399, 'vargu': 5400, 'prone': 5401, '07801543489': 5402, 'latests': 5403, 'llc': 5404, 'ny': 5405, 'usa': 5406, 'msgrcvd18': 5407, 'permission': 5408, 'meetins': 5409, 'cumin': 5410, '09099726395': 5411, 'wonders': 5412, '7th': 5413, '6th': 5414, '5th': 5415, 'personality': 5416, 'dose': 5417, 'tablet': 5418, 'incomm': 5419, 'doesn': 5420, 'maps': 5421, 'tiring': 5422, 'concentrating': 5423, 'browsin': 5424, 'compulsory': 5425, 'musthu': 5426, 'investigate': 5427, 'vitamin': 5428, 'crucial': 5429, \"someone's\": 5430, '2channel': 5431, 'leadership': 5432, 'skills': 5433, 'psychic': 5434, 'host': 5435, 'based': 5436, 'idps': 5437, 'linux': 5438, 'systems': 5439, 'converter': 5440, 'sayy': 5441, 'leanne': 5442, 'disc': 5443, 'champ': 5444, 'glasgow': 5445, 'lovin': 5446, 'install': 5447, 'browse': 5448, 'artists': 5449, 'corect': 5450, 'speling': 5451, '4719': 5452, '523': 5453, 'cts': 5454, 'employee': 5455, 'nike': 5456, 'sooo': 5457, 'shouting': 5458, 'dang': 5459, 'earliest': 5460, 'nordstrom': 5461, 'konw': 5462, 'waht': 5463, 'rael': 5464, 'gving': 5465, 'exmpel': 5466, 'jsut': 5467, 'evrey': 5468, 'splleing': 5469, 'wrnog': 5470, 'sitll': 5471, 'raed': 5472, 'wihtuot': 5473, 'ayn': 5474, 'mitsake': 5475, 'conference': 5476, 'degree': 5477, 'bleak': 5478, 'shant': 5479, 'nearer': 5480, 'raiden': 5481, 'kegger': 5482, 'totes': 5483, 'pierre': 5484, 'cardin': 5485, 'establish': 5486, 'truro': 5487, 'ext': 5488, 'cloth': 5489, 'sunroof': 5490, 'blanked': 5491, 'image': 5492, 'rumour': 5493, 'kalainar': 5494, 'thenampet': 5495, 'nosy': 5496, 'reacting': 5497, 'freaked': 5498, 'satanic': 5499, 'imposter': 5500, 'destiny': 5501, 'companion': 5502, 'chef': 5503, 'listener': 5504, 'organizer': 5505, 'sympathetic': 5506, 'athletic': 5507, 'courageous': 5508, 'determined': 5509, 'dependable': 5510, 'psychologist': 5511, 'pest': 5512, 'exterminator': 5513, 'psychiatrist': 5514, 'healer': 5515, 'stylist': 5516, 'aaniye': 5517, 'pudunga': 5518, 'venaam': 5519, 'chez': 5520, 'jules': 5521, 'hhahhaahahah': 5522, 'nig': 5523, 'leonardo': 5524, \"derek's\": 5525, '2years': 5526, 'strain': 5527, 'withdraw': 5528, 'anyhow': 5529, 'falling': 5530, 'smeone': 5531, 'millers': 5532, 'spark': 5533, 'rawring': 5534, 'xoxo': 5535, 'somewhr': 5536, 'crushes': 5537, 'honeymoon': 5538, 'outfit': 5539, '08719899230': 5540, 'gods': 5541, 'cheque': 5542, 'olympics': 5543, 'leo': 5544, 'patty': 5545, 'haul': 5546, 'wildlife': 5547, 'want2come': 5548, 'that2worzels': 5549, 'wizzle': 5550, 'dippeditinadew': 5551, 'lovingly': 5552, 'itwhichturnedinto': 5553, 'gifted': 5554, 'tomeandsaid': 5555, 'shanghai': 5556, 'cya': 5557, '645': 5558, 'rt': 5559, 'pro': 5560, '08701237397': 5561, 'redeemable': 5562, 'thnx': 5563, 'sef': 5564, 'anjie': 5565, 'fring': 5566, 'nte': 5567, '09058094599': 5568, 'doesn\\x89û÷t': 5569, 'wating': 5570, '02072069400': 5571, 'bx': 5572, '526': 5573, 'talents': 5574, 'animal': 5575, 'shiny': 5576, 'warming': 5577, 'french': 5578, 'fooled': 5579, '0a': 5580, 'companies': 5581, 'responsible': 5582, 'suppliers': 5583, 'lnly': 5584, 'keen': 5585, 'dammit': 5586, 'wright': 5587, 'somewhat': 5588, 'laden': 5589, 'wrecked': 5590, 'spontaneously': 5591, 'goodevening': 5592, 'rgent': 5593, 'daytime': 5594, 'busty': 5595, '09099726429': 5596, 'janinexx': 5597, 'spageddies': 5598, 'phasing': 5599, 'fourth': 5600, 'dimension': 5601, 'meaningful': 5602, 'compromised': 5603, '09050001295': 5604, 'a21': 5605, 'mobsi': 5606, '391784': 5607, 'dub': 5608, 'je': 5609, 'toughest': 5610, 'jas': 5611, 'squatting': 5612, '0089': 5613, 'digits': 5614, '09063442151': 5615, 'sonathaya': 5616, 'soladha': 5617, 'raping': 5618, 'dudes': 5619, 'weightloss': 5620, 'mushy': 5621, 'embarrassed': 5622, 'stash': 5623, 'priya': 5624, 'kilos': 5625, 'accidant': 5626, 'tookplace': 5627, 'ghodbandar': 5628, 'slovely': 5629, 'sc': 5630, 'specialise': 5631, 'wad': 5632, 'desparately': 5633, 'stereo': 5634, 'mi': 5635, '09094646899': 5636, 'vu': 5637, 'bcm1896wc1n3xx': 5638, 'classmates': 5639, 'fires': 5640, 'trackmarque': 5641, 'vipclub4u': 5642, 'missionary': 5643, 'entertaining': 5644, 'hugh': 5645, 'laurie': 5646, 'praps': 5647, 'jon': 5648, 'spain': 5649, 'dinero': 5650, 'åôrents': 5651, '000pes': 5652, 'å£48': 5653, \"'maangalyam\": 5654, 'alaipayuthe': 5655, 'complaining': 5656, 'mandy': 5657, 'sullivan': 5658, 'hotmix': 5659, 'fm': 5660, '09041940223': 5661, 'transferred': 5662, \"finn's\": 5663, 'callfreefone': 5664, '08081560665': 5665, 'ofå£2000': 5666, '07786200117': 5667, 'downon': 5668, 'theacusations': 5669, 'itxt': 5670, 'iwana': 5671, 'wotu': 5672, 'thew': 5673, 'haventcn': 5674, 'nething': 5675, 'dine': 5676, 'conacted': 5677, '09111030116': 5678, 'pobox12n146tf15': 5679, 'inspection': 5680, 'nursery': 5681, 'panren': 5682, 'paru': 5683, 'chuckin': 5684, 'trainners': 5685, 'carryin': 5686, 'bac': 5687, 'dhanush': 5688, 'needing': 5689, 'habba': 5690, 'dileep': 5691, 'muchand': 5692, 'venugopal': 5693, 'mentioned': 5694, 'remembrs': 5695, 'everytime': 5696, 'mandan': 5697, '07734396839': 5698, 'ibh': 5699, 'nokia6600': 5700, '3230': 5701, 'textbook': 5702, 'algorithms': 5703, 'edition': 5704, 'invaders': 5705, 'orig': 5706, 'console': 5707, '09064018838': 5708, 'cro1327': 5709, 'transfr': 5710, 'intend': 5711, 'iwas': 5712, 'marine': 5713, 'itried2tell': 5714, 'urmom': 5715, 'careabout': 5716, 'foley': 5717, 'prizes': 5718, '82050': 5719, 'learned': 5720, 'iraq': 5721, 'afghanistan': 5722, 'stable': 5723, 'honest': 5724, 'traveling': 5725, '1225': 5726, 'å£50award': 5727, 'pai': 5728, 'seh': 5729, 'parts': 5730, 'walsall': 5731, 'tue': 5732, 'terry': 5733, 'ccna': 5734, 'shrek': 5735, 'fellow': 5736, \"something's\": 5737, 'dying': 5738, 'lifting': 5739, 'teresa': 5740, 'dec': 5741, \"you'ld\": 5742, 'bam': 5743, 'aid': 5744, 'usmle': 5745, 'squishy': 5746, 'mwahs': 5747, 'hottest': 5748, 'prominent': 5749, 'cheek': 5750, 'september': 5751, 'hack': 5752, 'backdoor': 5753, 'fraction': 5754, 'neo69': 5755, '09050280520': 5756, 'subscribe': 5757, 'dps': 5758, 'bcm': 5759, '8027': 5760, 'comingdown': 5761, 'murali': 5762, 'sts': 5763, 'engalnd': 5764, 'mia': 5765, 'elliot': 5766, 'kissing': 5767, '2price': 5768, '100txt': 5769, \"b'tooth\": 5770, 'd3wv': 5771, 'matric': 5772, '850': 5773, '650': 5774, '08718726970': 5775, 'payments': 5776, 'fedex': 5777, 'reception': 5778, 'consensus': 5779, 'entertain': 5780, 'tag': 5781, 'bras': 5782, 'strewn': 5783, 'pillows': 5784, 'weaknesses': 5785, \"knee's\": 5786, 'exposes': 5787, 'pulls': 5788, 'wicked': 5789, 'supports': 5790, 'srt': 5791, 'ps3': 5792, 'jontin': 5793, 'banned': 5794, 'biro': 5795, '09058094594': 5796, 'shell': 5797, 'unconsciously': 5798, 'unhappy': 5799, 'jog': 5800, '09061743811': 5801, 'lark': 5802, \"station's\": 5803, '09090900040': 5804, 'extreme': 5805, 'sic': 5806, '7mp': 5807, '0870753331018': 5808, 'fones': 5809, 'wild': 5810, 'stop2stop': 5811, 'lim': 5812, 'parachute': 5813, 'placed': 5814, 'lambda': 5815, 'angels': 5816, 'snowball': 5817, 'ello': 5818, 'duffer': 5819, 'grr': 5820, 'pharmacy': 5821, '08715500022': 5822, 'rpl': 5823, 'cnl': 5824, 'nor': 5825, 'fffff': 5826, 'lifebook': 5827, 'zhong': 5828, 'qing': 5829, 'act': 5830, 'hypertension': 5831, 'annoyin': 5832, '08702490080': 5833, 'vpod': 5834, 'nigro': 5835, 'scratching': 5836, \"idea's\": 5837, 'anyplaces': 5838, 'priority': 5839, 'ecstasy': 5840, '09090204448': 5841, 'minded': 5842, 'aå£1': 5843, 'minapn': 5844, 'ls278bb': 5845, 'hittng': 5846, 'reflex': 5847, 'adewale': 5848, 'egbon': 5849, 'mary': 5850, 'deduct': 5851, 'wrks': 5852, 'monkey': 5853, 'asshole': 5854, 'grab': 5855, 'sliding': 5856, '09065394973': 5857, 'payback': 5858, 'honeybee': 5859, 'sweetest': 5860, 'laughed': 5861, 'havnt': 5862, 'crack': 5863, 'tescos': 5864, 'feathery': 5865, 'bowa': 5866, 'infra': 5867, 'gep': 5868, '2006': 5869, 'fifa': 5870, 'shhhhh': 5871, 'related': 5872, 'arul': 5873, 'amk': 5874, '09061743810': 5875, 'length': 5876, 'antha': 5877, 'corrct': 5878, 'dane': 5879, \"basket's\": 5880, 'rupaul': 5881, 'practising': 5882, 'curtsey': 5883, 'memory': 5884, 'converted': 5885, 'african': 5886, 'soil': 5887, 'roles': 5888, 'outreach': 5889, '8lb': 5890, '7oz': 5891, 'brilliantly': 5892, 'forwarding': 5893, 'intention': 5894, 'visitors': 5895, 'rules': 5896, 'bend': 5897, 'thia': 5898, 'inlude': 5899, 'previews': 5900, '08006344447': 5901, 'ambrith': 5902, 'madurai': 5903, 'dha': 5904, 'marrge': 5905, 'kitty': 5906, 'shaved': 5907, \"anybody's\": 5908, 'tactful': 5909, 'pert': 5910, 'head\\x89û': 5911, 'crammed': 5912, 'satsgettin': 5913, '47per': 5914, 'apologize': 5915, 'pei': 5916, 'subtoitles': 5917, 'jot': 5918, 'cereals': 5919, 'gari': 5920, 'bold2': 5921, '09094100151': 5922, 'cast': 5923, 'gbp5': 5924, 'box61': 5925, 'm60': 5926, '1er': 5927, 'thkin': 5928, 'resubbing': 5929, 'shadow': 5930, 'breadstick': 5931, 'saeed': 5932, '09066362220': 5933, 'purple': 5934, 'yelow': 5935, 'brown': 5936, 'arranging': 5937, 'eldest': 5938, 'drugdealer': 5939, 'wither': 5940, '23f': 5941, '23g': 5942, 'sleepwell': 5943, 'wondarfull': 5944, 'web2mobile': 5945, 'txt250': 5946, 'box139': 5947, 'la32wu': 5948, 'txtx': 5949, 'onbus': 5950, 'donyt': 5951, 'latelyxxx': 5952, '85233': 5953, 'stressed': 5954, 'soooo': 5955, 'provider': 5956, 'tming': 5957, 'cutest': 5958, 'dice': 5959, '08700469649': 5960, 'box420': 5961, 'howda': 5962, 'mathe': 5963, 'samachara': 5964, 'audrie': 5965, 'autocorrect': 5966, 'simulate': 5967, 'readiness': 5968, 'lara': 5969, 'supplies': 5970, 'guesses': 5971, 'attach': 5972, '087123002209am': 5973, 'stamped': 5974, '113': 5975, 'bray': 5976, 'wicklow': 5977, 'eire': 5978, 'washob': 5979, 'nobbing': 5980, 'nickey': 5981, 'platt': 5982, 'ryan': 5983, 'idew': 5984, 'spotty': 5985, 'province': 5986, 'sterling': 5987, 'xam': 5988, 'hall': 5989, 'hesitation': 5990, 'intha': 5991, 'ponnungale': 5992, 'ipaditan': 5993, 'rejected': 5994, 'tessy': 5995, 'favor': 5996, 'shijas': 5997, 'noisy': 5998, 'needa': 5999, 'manual': 6000, 'reset': 6001, 'troubleshooting': 6002, 'b4u': 6003, 'marsms': 6004, 'b4utele': 6005, '08717168528': 6006, 'strongly': 6007, 'creativity': 6008, 'stifled': 6009, 'requirements': 6010, 'heåõs': 6011, '2getha': 6012, 'buffy': 6013, 'qlynnbv': 6014, 'help08700621170150p': 6015, 'nosh': 6016, 'waaaat': 6017, 'lololo': 6018, \"table's\": 6019, 'occupied': 6020, 'documents': 6021, 'submitted': 6022, 'stapati': 6023, 'cutie': 6024, 'hills': 6025, 'honesty': 6026, 'specialisation': 6027, 'labor': 6028, 'shakara': 6029, 'beggar': 6030, 'dent': 6031, 'crickiting': 6032, 'imin': 6033, 'dontmatter': 6034, 'urgoin': 6035, 'outl8r': 6036, 'yavnt': 6037, 'popping': 6038, 'ibuprofens': 6039, 'sip': 6040, 'grown': 6041, 'chinatown': 6042, 'porridge': 6043, 'claypot': 6044, 'yam': 6045, 'fishhead': 6046, 'beehoon': 6047, 'jaklin': 6048, 'nearby': 6049, 'cliffs': 6050, '49': 6051, 'bundle': 6052, 'deals': 6053, 'avble': 6054, 'mf': 6055, 'ooh': 6056, '4got': 6057, 'moseley': 6058, 'weds': 6059, 'thankyou': 6060, 'aluable': 6061, 'ffectionate': 6062, 'oveable': 6063, 'ternal': 6064, 'oble': 6065, 'ruthful': 6066, 'ntimate': 6067, 'atural': 6068, 'namous': 6069, \"textin'\": 6070, 'raji': 6071, 'amigos': 6072, 'burn': 6073, 'progress': 6074, \"weren't\": 6075, 'arty': 6076, 'collages': 6077, 'tryin': 6078, '2hrs': 6079, 'waliking': 6080, 'cartons': 6081, 'shelves': 6082, '08714712379': 6083, 'mirror': 6084, 'k718': 6085, '09065069120': 6086, 'jod': 6087, 'keris': 6088, 'smidgin': 6089, 'intentions': 6090, 'accordin': 6091, \"no's\": 6092, 'knocking': 6093, 'como': 6094, 'listened2the': 6095, 'plaid': 6096, 'air1': 6097, 'hilarious': 6098, 'boughtåóbraindanceåóa': 6099, 'ofstuff': 6100, 'aphexåõs': 6101, 'abel': 6102, 'nelson': 6103, \"bb's\": 6104, 'unmits': 6105, 'newspapers': 6106, 'yummmm': 6107, 'puzzeles': 6108, '4goten': 6109, 'scammers': 6110, 'passion': 6111, '09099726481': 6112, 'dena': 6113, 'r836': 6114, '09065069154': 6115, 'shifad': 6116, 'raised': 6117, \"'doctors'\": 6118, 'reminds': 6119, 'splashmobile': 6120, 'subscrition': 6121, 'dust': 6122, '01223585334': 6123, '2c': 6124, 'shagged': 6125, '2end': 6126, '3pound': 6127, 'watchin': 6128, 'meaningless': 6129, \"all's\": 6130, 'brdget': 6131, 'jones': 6132, 'inever': 6133, 'hype': 6134, 'studio': 6135, 'velly': 6136, 'marking': 6137, '2stoptx': 6138, '08718738034': 6139, 'va': 6140, 'hanger': 6141, 'poem': 6142, 'arrow': 6143, 'blanket': 6144, '08718726971': 6145, 'tddnewsletter': 6146, 'emc1': 6147, 'thedailydraw': 6148, 'dozens': 6149, 'prizeswith': 6150, 'significant': 6151, 'waqt': 6152, 'pehle': 6153, 'naseeb': 6154, 'zyada': 6155, 'kisi': 6156, 'ko': 6157, 'kuch': 6158, 'milta': 6159, 'hum': 6160, 'sochte': 6161, 'ham': 6162, 'jeetey': 6163, 'stalking': 6164, 'reminded': 6165, 'varaya': 6166, 'elaya': 6167, '09066368753': 6168, '97n7qp': 6169, 'anand': 6170, 'beach': 6171, 'expected': 6172, 'jez': 6173, 'todo': 6174, 'workand': 6175, 'whilltake': 6176, 'zogtorius': 6177, 'iåõve': 6178, 'financial': 6179, 'alian': 6180, 'tooth': 6181, 'or2optout': 6182, 'hv9d': 6183, 'posible': 6184, 'century': 6185, 'frwd': 6186, 'affectionate': 6187, 'sorts': 6188, 'restrictions': 6189, 'buddys': 6190, '08712402902': 6191, 'owned': 6192, 'possessive': 6193, 'clarification': 6194, 'gamestar': 6195, 'active': 6196, 'å£250k': 6197, 'scoring': 6198, '88088': 6199, 'coimbatore': 6200, 'monoc': 6201, 'monos': 6202, 'polyc': 6203, 'stream': 6204, '0871212025016': 6205, 'categories': 6206, 'ethnicity': 6207, 'census': 6208, 'transcribing': 6209, 'propsd': 6210, 'gv': 6211, 'lv': 6212, 'lttrs': 6213, 'threw': 6214, 'aproach': 6215, 'dt': 6216, 'truck': 6217, 'speeding': 6218, \"'hw\": 6219, 'thy': 6220, 'lived': 6221, 'happily': 6222, '2gthr': 6223, 'evrydy': 6224, 'cakes': 6225, 'draws': 6226, 'goodmate': 6227, 'asusual': 6228, 'cheered': 6229, 'franyxxxxx': 6230, 'batt': 6231, 'becausethey': 6232, '09058098002': 6233, 'pobox1': 6234, 'w14rg': 6235, 'responce': 6236, 'wiskey': 6237, 'brandy': 6238, 'rum': 6239, 'gin': 6240, 'scotch': 6241, 'shampain': 6242, 'kudi': 6243, 'yarasu': 6244, 'dhina': 6245, 'vaazhthukkal': 6246, 'gained': 6247, 'pressure': 6248, 'limits': 6249, 'doke': 6250, 'laying': 6251, 'kills': 6252, 'neshanth': 6253, 'byatch': 6254, 'whassup': 6255, 'cl': 6256, 'filthyguys': 6257, '4msgs': 6258, 'chiong': 6259, 'dialogue': 6260, 'reltnship': 6261, 'questioned': 6262, 'gardener': 6263, 'vegetables': 6264, 'neighbour': 6265, 'pose': 6266, 'comb': 6267, 'dryer': 6268, 'fps': 6269, 'computational': 6270, 'disturbance': 6271, 'dlf': 6272, 'premarica': 6273, 'gotto': 6274, '220cm2': 6275, 'err': 6276, 'hitter': 6277, 'offline': 6278, \"anjola's\": 6279, 'asjesus': 6280, 'directors': 6281, 'lac': 6282, 'deposited': 6283, \"'taxless'\": 6284, 'suply': 6285, 'projects': 6286, 'imf': 6287, 'blocked': 6288, 'corrupt': 6289, 'itna': 6290, 'karo': 6291, 'ki': 6292, 'pura': 6293, 'padhe': 6294, 'torrents': 6295, 'particularly': 6296, 'slowing': 6297, 'commit': 6298, '83370': 6299, 'trivia': 6300, 'rightio': 6301, '48': 6302, 'brum': 6303, 'scorable': 6304, 'paranoid': 6305, 'brin': 6306, 'sheet': 6307, 'complain': 6308, 'bettr': 6309, 'bsnl': 6310, 'offc': 6311, 'payed': 6312, 'suganya': 6313, 'dessert': 6314, 'abeg': 6315, 'sponsors': 6316, 'onum': 6317, 'poet': 6318, 'imagination': 6319, 'rr': 6320, 'famamus': 6321, 'locks': 6322, 'jenne': 6323, 'easiest': 6324, 'barcelona': 6325, 'sppok': 6326, 'complementary': 6327, 'wa14': 6328, '2px': 6329, 'pansy': 6330, 'jungle': 6331, 'kanji': 6332, 'srs': 6333, 'drizzling': 6334, 'appointments': 6335, 'excused': 6336, 'drama': 6337, 'struggling': 6338, 'ego': 6339, \"'if\": 6340, \"invited'\": 6341, 'necessity': 6342, 'reppurcussions': 6343, 'cosign': 6344, 'hvae': 6345, '09061701444': 6346, 'hcl': 6347, 'requires': 6348, 'freshers': 6349, 'suman': 6350, 'telephonic': 6351, 'reliant': 6352, 'fwiw': 6353, 'afford': 6354, 'sq825': 6355, 'arrival': 6356, 'citylink': 6357, 'props': 6358, 'pleasant': 6359, 'statements': 6360, '6230': 6361, 'pobox114': 6362, '14tcr': 6363, 'bognor': 6364, 'splendid': 6365, 'ktv': 6366, 'misplaced': 6367, 'computers': 6368, 'begun': 6369, 'registration': 6370, 'permanent': 6371, 'residency': 6372, 'risks': 6373, 'predicting': 6374, 'accumulation': 6375, 'programs': 6376, 'belongs': 6377, 'fated': 6378, 'shoranur': 6379, 'fuelled': 6380, 'concern': 6381, 'prior': 6382, 'grief': 6383, 'environment': 6384, 'terrific': 6385, 'text82228': 6386, 'honestly': 6387, 'promptly': 6388, 'burnt': 6389, 'snap': 6390, 'quizclub': 6391, '80122300p': 6392, 'rwm': 6393, '08704050406': 6394, 'gmw': 6395, 'connected': 6396, 'someplace': 6397, 'goods': 6398, 'pressies': 6399, 'ultimately': 6400, 'tor': 6401, 'motive': 6402, 'tui': 6403, 'achieve': 6404, 'korli': 6405, 'we\\x89û÷ll': 6406, 'dock': 6407, 'rolled': 6408, 'newscaster': 6409, 'dabbles': 6410, 'flute': 6411, 'wheel': 6412, 'keyword': 6413, 'the4th': 6414, 'october': 6415, '83435': 6416, 'elaborating': 6417, 'safety': 6418, 'aspects': 6419, 'tarot': 6420, '85555': 6421, 'ours': 6422, 'horniest': 6423, 'flow': 6424, 'developed': 6425, 'ovarian': 6426, 'cysts': 6427, 'shrink': 6428, 'upping': 6429, 'grams': 6430, 'timin': 6431, 'apes': 6432, 'ibm': 6433, 'hp': 6434, 'gosh': 6435, 'spose': 6436, 'rimac': 6437, 'arestaurant': 6438, 'squid': 6439, 'dosomething': 6440, 'dabooks': 6441, 'eachother': 6442, 'luckily': 6443, 'starring': 6444, 'restocked': 6445, 'tkls': 6446, 'stoptxtstopå£1': 6447, 'smoothly': 6448, 'challenging': 6449, 'breakfast': 6450, 'hamper': 6451, 'cc100p': 6452, 'above': 6453, '0870737910216yrs': 6454, 'unni': 6455, 'lacking': 6456, 'particular': 6457, \"dramastorm's\": 6458, 'forfeit': 6459, 'digi': 6460, 'coupla': 6461, '077xxx': 6462, '09066362206': 6463, 'sundayish': 6464, 'prasad': 6465, 'rcb': 6466, 'battle': 6467, 'kochi': 6468, 'checkup': 6469, 'smear': 6470, 'gobi': 6471, '4w': 6472, 'technologies': 6473, 'olowoyey': 6474, 'argentina': 6475, 'taxt': 6476, 'massage': 6477, 'tie': 6478, 'pos': 6479, 'lool': 6480, \"taylor's\": 6481, 'shaking': 6482, 'scarcasim': 6483, 'naal': 6484, 'eruku': 6485, 'w4': 6486, '5wq': 6487, 'amongst': 6488, 'impressively': 6489, 'sensible': 6490, 'obedient': 6491, 'ft': 6492, 'combination': 6493, 'needy': 6494, 'playng': 6495, 'mcfly': 6496, 'ab': 6497, 'sara': 6498, 'jorge': 6499, 'anna': 6500, 'nagar': 6501, 'yupz': 6502, 'ericson': 6503, 'der': 6504, 'luks': 6505, 'modl': 6506, 'cheesy': 6507, 'frosty': 6508, 'witin': 6509, 'fans': 6510, '0870141701216': 6511, '120p': 6512, '10th': 6513, '09050000555': 6514, 'ba128nnfwfly150ppm': 6515, 'nudist': 6516, 'themed': 6517, 'pump': 6518, 'å£12': 6519, 'evr': 6520, 'signal': 6521, 'unusual': 6522, 'palm': 6523, 'printing': 6524, 'handing': 6525, '83021': 6526, 'stated': 6527, 'perpetual': 6528, 'dd': 6529, 'pract': 6530, 'flung': 6531, 'justbeen': 6532, 'overa': 6533, 'brains': 6534, 'mush': 6535, 'tunde': 6536, 'missions': 6537, '20m12aq': 6538, '\\x89ûï': 6539, 'eh74rr': 6540, 'avo': 6541, 'crashed': 6542, 'cuddled': 6543, 'chachi': 6544, 'pl': 6545, 'tiz': 6546, 'kanagu': 6547, 'prices': 6548, 'ringing': 6549, 'houseful': 6550, 'brats': 6551, 'pulling': 6552, 'derp': 6553, 'abusers': 6554, 'lipo': 6555, 'netflix': 6556, 'clash': 6557, 'arr': 6558, 'oscar': 6559, 'rebtel': 6560, 'firefox': 6561, '69969': 6562, 'bcmsfwc1n3xx': 6563, 'impressed': 6564, 'funs': 6565, 'footy': 6566, 'stadium': 6567, 'large': 6568, 'coca': 6569, 'cola': 6570, 'teenager': 6571, 'replacing': 6572, 'mittelschmertz': 6573, 'paracetamol': 6574, 'arrived': 6575, 'cthen': 6576, 'conclusion': 6577, 'references': 6578, 'u\\x89ûªve': 6579, 'instant': 6580, '08715203028': 6581, '9th': 6582, 'rugby': 6583, 'affidavit': 6584, 'twiggs': 6585, 'courtroom': 6586, 'showers': 6587, 'possessiveness': 6588, 'poured': 6589, 'golden': 6590, 'lasting': 6591, 'mobs': 6592, 'breathe1': 6593, 'crazyin': 6594, 'sleepingwith': 6595, 'finest': 6596, 'ymca': 6597, 'pobox365o4w45wq': 6598, 'wtc': 6599, 'weiyi': 6600, \"åòit's\": 6601, 'flowers': 6602, '505060': 6603, 'paining': 6604, 'romcapspam': 6605, 'presence': 6606, 'outgoing': 6607, 'maggi': 6608, 'mee': 6609, '08712103738': 6610, 'cough': 6611, '09058099801': 6612, 'b4190604': 6613, '7876150ppm': 6614, 'pooja': 6615, 'sweatter': 6616, 'ambitious': 6617, 'miiiiiiissssssssss': 6618, 'tunji': 6619, 'misscall': 6620, 'frndz': 6621, '6missed': 6622, 'mad1': 6623, 'mad2': 6624, 'tall': 6625, 'robs': 6626, 'avenge': 6627, 'japanese': 6628, 'proverb': 6629, \"fren's\": 6630, 'choices': 6631, 'toss': 6632, 'gudni8': 6633, 'dancin': 6634, 'explicitly': 6635, 'nora': 6636, 'gayle': 6637, 'crucify': 6638, 'butting': 6639, 'vs': 6640, 'cedar': 6641, 'durham': 6642, 'reserved': 6643, '69855': 6644, 'stopbcm': 6645, 'sf': 6646, 'wall': 6647, 'printer': 6648, 'groovy': 6649, 'groovying': 6650, \"harish's\": 6651, 'transfred': 6652, 'acnt': 6653, 'showrooms': 6654, 'shaping': 6655, 'attending': 6656, 'doinat': 6657, 'callon': 6658, \"ron's\": 6659, 'pdate': 6660, 'yhl': 6661, 'configure': 6662, 'i\\x89ûªm': 6663, 'isn\\x89ûªt': 6664, 'anal': 6665, 'pears': 6666, 'helloooo': 6667, 'welcomes': 6668, 'such': 6669, 'oooooh': 6670, '09058094454': 6671, '54': 6672, 'resubmit': 6673, 'expiry': 6674, 'weåõve': 6675, 'mint': 6676, 'humans': 6677, 'studyn': 6678, 'everyboy': 6679, 'xxxxxxxx': 6680, \"hi'\": 6681, \"'xam\": 6682, '1thing': 6683, 'answr': 6684, 'liquor': 6685, 'loko': 6686, '730': 6687, 'lined': 6688, \"tm'ing\": 6689, 'laughs': 6690, 'fireplace': 6691, 'icon': 6692, '08712400200': 6693, 'fifth': 6694, 'woozles': 6695, 'weasels': 6696, '08718723815': 6697, 'machines': 6698, 'fucks': 6699, 'ignorant': 6700, 'mys': 6701, 'downs': 6702, 'fletcher': 6703, '08714714011': 6704, 'bowls': 6705, 'cozy': 6706, 'buzzzz': 6707, 'vibrator': 6708, 'shake': 6709, 'trends': 6710, 'pros': 6711, 'cons': 6712, 'description': 6713, 'nuclear': 6714, 'fusion': 6715, 'iter': 6716, 'jet': 6717, 'nowhere': 6718, 'ikno': 6719, 'doesdiscount': 6720, 'shitinnit': 6721, 'jabo': 6722, 'slower': 6723, 'maniac': 6724, 'sapna': 6725, 'manege': 6726, \"y'day\": 6727, 'hogidhe': 6728, 'chinnu': 6729, 'swalpa': 6730, 'agidhane': 6731, 'footbl': 6732, 'crckt': 6733, 'swell': 6734, 'tim': 6735, 'bollox': 6736, 'tol': 6737, 'ingredients': 6738, 'pocy': 6739, 'non': 6740, '4qf2': 6741, 'senor': 6742, 'giggle': 6743, 'possibly': 6744, 'person2die': 6745, 'nvq': 6746, 'professional': 6747, 'tiger': 6748, 'woods': 6749, 'grinder': 6750, 'pt2': 6751, 'buyers': 6752, 'figuring': 6753, 'entirely': 6754, 'disconnected': 6755, 'onluy': 6756, 'matters': 6757, 'offcampus': 6758, \"riley's\": 6759, 'ew': 6760, 'wesley': 6761, \"how've\": 6762, 'lingo': 6763, '400mins': 6764, 'j5q': 6765, \"l'm\": 6766, '69200': 6767, 'chrgd': 6768, '2exit': 6769, 'approaching': 6770, 'sankranti': 6771, 'republic': 6772, 'shivratri': 6773, 'ugadi': 6774, 'fools': 6775, 'independence': 6776, 'teachers': 6777, 'childrens': 6778, 'festival': 6779, 'dasara': 6780, 'mornings': 6781, 'afternoons': 6782, 'rememberi': 6783, \"your's\": 6784, 'joys': 6785, 'lifeis': 6786, 'daywith': 6787, 'somewheresomeone': 6788, 'tosend': 6789, 'greeting': 6790, 'selflessness': 6791, 'initiate': 6792, 'tallent': 6793, 'wasting': 6794, 'portal': 6795, \"don't4get2text\": 6796, 'lennon': 6797, 'bothering': 6798, 'fox': 6799, 'frndsship': 6800, 'dwn': 6801, 'slaaaaave': 6802, 'summon': 6803, 'appendix': 6804, 'slob': 6805, 'smiled': 6806, 'webpage': 6807, 'yeesh': 6808, 'unsubscribed': 6809, 'hunks': 6810, 'gotbabes': 6811, 'subscriptions': 6812, 'gopalettan': 6813, 'participate': 6814, 'abroad': 6815, 'xxsp': 6816, 'stopcost': 6817, '08712400603': 6818, 'agent': 6819, 'goodies': 6820, 'mat': 6821, 'ay': 6822, 'steal': 6823, 'isaiah': 6824, 'expert': 6825, 'thinl': 6826, 'importantly': 6827, 'tightly': 6828, \"'wnevr\": 6829, 'fal': 6830, 'fals': 6831, 'yen': 6832, 'madodu': 6833, 'nav': 6834, 'pretsorginta': 6835, 'nammanna': 6836, 'pretsovru': 6837, 'alwa': 6838, 'lord': 6839, 'rings': 6840, 'soundtrack': 6841, 'stdtxtrate': 6842, 'sg': 6843, 'phyhcmk': 6844, 'pc1323': 6845, 'emigrated': 6846, 'hopeful': 6847, 'olol': 6848, 'stagwood': 6849, 'winterstone': 6850, 'victors': 6851, 'jp': 6852, 'mofo': 6853, 'pathaya': 6854, 'enketa': 6855, 'maraikara': 6856, \"pa'\": 6857, 'priest': 6858, 'reserves': 6859, 'intrude': 6860, 'walkabout': 6861, 'cashed': 6862, 'announced': 6863, 'blog': 6864, '28th': 6865, 'footie': 6866, 'phil': 6867, 'neville': 6868, 'abbey': 6869, 'returning': 6870, 'punj': 6871, 'str8': 6872, 'classic': 6873, '200p': 6874, 'sacked': 6875, 'clip': 6876, '35p': 6877, 'mmsto': 6878, '32323': 6879, 'barred': 6880, 'twat': 6881, 'dungerees': 6882, 'decking': 6883, 'punch': 6884, 'mentionned': 6885, 'vat': 6886, 'hogolo': 6887, 'kodstini': 6888, 'madstini': 6889, 'hogli': 6890, 'mutai': 6891, 'eerulli': 6892, 'kodthini': 6893, 'thasa': 6894, 'messed': 6895, 'tex': 6896, 'mecause': 6897, 'werebored': 6898, 'okden': 6899, 'uin': 6900, 'soundåõs': 6901, 'likeyour': 6902, 'gr8fun': 6903, 'updat': 6904, 'countinlots': 6905, 'tagged': 6906, 'hdd': 6907, 'casing': 6908, 'opened': 6909, 'describe': 6910, '09053750005': 6911, '310303': 6912, '08718725756': 6913, '140ppm': 6914, 'asus': 6915, 'reformat': 6916, 'plumbers': 6917, 'wrench': 6918, 'bcum': 6919, 'appeal': 6920, 'thriller': 6921, 'director': 6922, 'elephant': 6923, 'shove': 6924, 'um': 6925, 'cr': 6926, 'pookie': 6927, 'nri': 6928, '08712101358': 6929, 'x2': 6930, 'deserve': 6931, 'diddy': 6932, 'neighbor': 6933, 'toothpaste': 6934, 'poking': 6935, 'coccooning': 6936, 'mus': 6937, 'newquay': 6938, '1im': 6939, 'talkin': 6940, 'windy': 6941, '09066358361': 6942, 'y87': 6943, 'tirunelvai': 6944, 'dusk': 6945, 'puzzles': 6946, 'x29': 6947, '09065989180': 6948, 'stairs': 6949, 'phews': 6950, 'luvs': 6951, 'recycling': 6952, 'earning': 6953, 'toledo': 6954, 'tai': 6955, 'feng': 6956, 'reservations': 6957, 'swimsuit': 6958, 'squeeeeeze': 6959, 'frndshp': 6960, 'luvd': 6961, 'volcanoes': 6962, 'erupt': 6963, 'arise': 6964, 'hurricanes': 6965, 'sway': 6966, 'aroundn': 6967, 'disasters': 6968, 'lighters': 6969, 'lasagna': 6970, 'chickened': 6971, 'woould': 6972, '08718726978': 6973, '44': 6974, '7732584351': 6975, 'raviyog': 6976, 'peripherals': 6977, 'bhayandar': 6978, 'sunoco': 6979, 'musical': 6980, 'plate': 6981, 'leftovers': 6982, 'starving': 6983, 'fatty': 6984, 'badrith': 6985, 'owe': 6986, 'checkin': 6987, 'armenia': 6988, 'swann': 6989, '09058097189': 6990, '330': 6991, '1120': 6992, '1205': 6993, 'justify': 6994, 'hunt': 6995, '5226': 6996, 'hava': 6997, '1131': 6998, \"rct'\": 6999, 'thnq': 7000, 'adrian': 7001, 'vatian': 7002, 'everyones': 7003, 'babysitting': 7004, \"it'll\": 7005, 'gonnamissu': 7006, 'buttheres': 7007, 'aboutas': 7008, 'merememberin': 7009, 'asthere': 7010, 'ofsi': 7011, 'breakin': 7012, 'yaxx': 7013, 'poortiyagi': 7014, 'odalebeku': 7015, 'hanumanji': 7016, 'hanuman': 7017, 'bajarangabali': 7018, 'maruti': 7019, 'pavanaputra': 7020, 'sankatmochan': 7021, 'ramaduth': 7022, 'mahaveer': 7023, 'janarige': 7024, 'ivatte': 7025, 'kalisidare': 7026, 'olage': 7027, 'ondu': 7028, 'keluviri': 7029, 'maretare': 7030, 'inde': 7031, 'dodda': 7032, 'problum': 7033, 'nalli': 7034, 'siguviri': 7035, 'idu': 7036, 'matra': 7037, 'neglet': 7038, 'ijust': 7039, 'talked': 7040, 'opps': 7041, \"tt's\": 7042, 'gei': 7043, 'tron': 7044, 'dl': 7045, 'spiffing': 7046, 'workage': 7047, 'craving': 7048, 'supose': 7049, 'babysit': 7050, 'spaces': 7051, 'embassy': 7052, 'lightly': 7053, 'checkboxes': 7054, 'batsman': 7055, \"yetty's\": 7056, '09050000928': 7057, 'reverse': 7058, 'cheating': 7059, 'mathematics': 7060, 'emailed': 7061, 'yifeng': 7062, \"they'll\": 7063, 'slurp': 7064, '3miles': 7065, 'ing': 7066, 'brainless': 7067, 'doll': 7068, 'vehicle': 7069, 'sariyag': 7070, 'madoke': 7071, 'barolla': 7072, '07090201529': 7073, 'postponed': 7074, 'stocked': 7075, 'tiime': 7076, 'tears': 7077, 'afternon': 7078, 'interviews': 7079, 'resizing': 7080, '09066364349': 7081, 'box434sk38wp150ppm18': 7082, 'opposed': 7083, 'shortcode': 7084, '83332': 7085, '08081263000': 7086, 'refunded': 7087, 'somerset': 7088, 'overtime': 7089, 'nigpun': 7090, 'dismissial': 7091, 'screwd': 7092, '08712402972': 7093, 'bull': 7094, 'floating': 7095, '09058095201': 7096, 'heehee': 7097, 'arithmetic': 7098, 'percentages': 7099, \"'an\": 7100, \"quote''\": 7101, 'chillaxin': 7102, 'das': 7103, 'iknow': 7104, 'wellda': 7105, 'peril': 7106, 'studentfinancial': 7107, 'monster': 7108, 'ias': 7109, 'obey': 7110, 'uhhhhrmm': 7111, '600': 7112, '400': 7113, 'deltomorrow': 7114, '09066368470': 7115, '24m': 7116, 'smartcall': 7117, '68866': 7118, 'subscriptn3gbp': 7119, '08448714184': 7120, 'landlineonly': 7121, 'å£s': 7122, 'orno': 7123, 'fink': 7124, '09099726553': 7125, 'promised': 7126, 'carlie': 7127, 'minmobsmore': 7128, 'lkpobox177hp51fl': 7129, 'youphone': 7130, 'athome': 7131, 'youwanna': 7132, 'jack': 7133, 'helpful': 7134, 'pretend': 7135, 'hypotheticalhuagauahahuagahyuhagga': 7136, 'brainy': 7137, 'occasion': 7138, 'celebrated': 7139, 'reflection': 7140, 'values': 7141, 'affections': 7142, 'traditions': 7143, 'cantdo': 7144, 'anythingtomorrow': 7145, 'myparents': 7146, 'aretaking': 7147, 'outfor': 7148, 'katexxx': 7149, 'level': 7150, 'gate': 7151, '89105': 7152, 'lingerie': 7153, 'bridal': 7154, 'petticoatdreams': 7155, 'weddingfriend': 7156, 'board': 7157, 'overheating': 7158, 'reslove': 7159, 'inst': 7160, \"8'o\": 7161, 'western': 7162, 'notixiquating': 7163, 'laxinorficated': 7164, 'bambling': 7165, 'entropication': 7166, 'oblisingately': 7167, 'opted': 7168, 'masteriastering': 7169, 'amplikater': 7170, 'fidalfication': 7171, 'champlaxigating': 7172, 'atrocious': 7173, 'wotz': 7174, 'junna': 7175, 'knickers': 7176, '01223585236': 7177, 'nikiyu4': 7178, 'a30': 7179, 'divert': 7180, 'wadebridge': 7181, 'vill': 7182, 'orc': 7183, '447797706009': 7184, 'careers': 7185, 'seeking': 7186, \"wherre's\": 7187, 'phone750': 7188, 'resolution': 7189, 'frank': 7190, 'logoff': 7191, 'parkin': 7192, 'asa': 7193, '09050000878': 7194, 'wan2': 7195, 'westlife': 7196, 'm8': 7197, 'unbreakable': 7198, 'untamed': 7199, 'unkempt': 7200, '83049': 7201, 'charming': 7202, 'mention': 7203, 'served': 7204, 'arnt': 7205, 'xxxxxxxxxxxxxx': 7206, 'dorothy': 7207, 'kiefer': 7208, 'alle': 7209, 'mone': 7210, 'eppolum': 7211, 'allalo': 7212, 'fundamentals': 7213, '1mega': 7214, 'pixels': 7215, '3optical': 7216, '5digital': 7217, 'dooms': 7218, 'noiåõm': 7219, 'js': 7220, 'burgundy': 7221, 'captaining': 7222, 'amrita': 7223, 'profile': 7224, 'bpo': 7225, 'nighters': 7226, 'persevered': 7227, 'regretted': 7228, 'wasnåõt': 7229, 'spouse': 7230, 'pmt': 7231, '4give': 7232, 'shldxxxx': 7233, \"that'd\": 7234, 'scenario': 7235, 'spun': 7236, 'wrld': 7237, '09071517866': 7238, '150ppmpobox10183bhamb64xe': 7239, 'pounded': 7240, 'broadband': 7241, 'installation': 7242, 'tensed': 7243, 'coughing': 7244, 'warned': 7245, 'sprint': 7246, 'gower': 7247, 'åômorrow': 7248, 'chik': 7249, \"100's\": 7250, 'filth': 7251, 'saristar': 7252, 'e14': 7253, '9yt': 7254, '08701752560': 7255, '450p': 7256, 'stop2': 7257, '420': 7258, '9061100010': 7259, 'wire3': 7260, '1st4terms': 7261, 'mobcudb': 7262, 'sabarish': 7263, 'jaya': 7264, '09050000460': 7265, 'j89': 7266, 'box245c2150pm': 7267, 'inpersonation': 7268, 'flea': 7269, 'banneduk': 7270, 'highest': 7271, 'å£54': 7272, 'maximum': 7273, 'å£71': 7274, \"ny's\": 7275, 'taj': 7276, 'lesser': 7277, 'known': 7278, 'facts': 7279, \"shahjahan's\": 7280, 'wifes': 7281, 'shahjahan': 7282, 'arises': 7283, 'hari': 7284, \"valentine's\": 7285, '69101': 7286, 'rtf': 7287, 'sphosting': 7288, 'webadres': 7289, 'geting': 7290, 'incredible': 7291, 'o2fwd': 7292, '18p': 7293, 'maturity': 7294, 'passport': 7295, 'multiply': 7296, 'independently': 7297, 'showed': 7298, 'twins': 7299, 'strt': 7300, 'ltdhelpdesk': 7301, '02085076972': 7302, 'equally': 7303, 'uneventful': 7304, 'pesky': 7305, 'cyclists': 7306, 'adi': 7307, 'entey': 7308, 'nattil': 7309, 'kittum': 7310, 'kavalan': 7311, 'hire': 7312, 'hitman': 7313, '09066660100': 7314, '2309': 7315, 'cps': 7316, 'outages': 7317, 'conserve': 7318, 'voted': 7319, 'epi': 7320, 'bare': 7321, 'bhaskar': 7322, 'gong': 7323, 'kaypoh': 7324, 'basketball': 7325, 'outdoors': 7326, 'interfued': 7327, 'listed': 7328, 'apology': 7329, 'hustle': 7330, 'forth': 7331, 'harlem': 7332, 'workout': 7333, 'fats': 7334, 'zac': 7335, 'tonights': 7336, 'hui': 7337, 'xin': 7338, 'versus': 7339, 'underdtand': 7340, 'muchxxlove': 7341, 'locaxx': 7342, '07090298926': 7343, '9307622': 7344, 'skateboarding': 7345, 'thrown': 7346, 'winds': 7347, 'bandages': 7348, 'html': 7349, 'gbp4': 7350, 'mfl': 7351, 'hectic': 7352, 'wamma': 7353, 'doggin': 7354, 'dogs': 7355, 'virtual': 7356, 'apnt': 7357, 'pants': 7358, 'go2sri': 7359, 'lanka': 7360, 'merely': 7361, 'relationship': 7362, 'wherevr': 7363, 'gudnyt': 7364, 'plum': 7365, 'smacks': 7366, '50s': 7367, 'alot': 7368, 'formatting': 7369, 'attracts': 7370, 'promotion': 7371, '8714714': 7372, 'lancaster': 7373, 'neway': 7374, 'couldnåõt': 7375, 'soc': 7376, 'bsn': 7377, 'advising': 7378, 'lobby': 7379, 'showered': 7380, \"er'ything\": 7381, 'lubly': 7382, '087147123779am': 7383, 'catches': 7384, 'specify': 7385, 'domain': 7386, 'nusstu': 7387, 'bari': 7388, 'hudgi': 7389, 'yorge': 7390, 'pataistha': 7391, 'ertini': 7392, 'hasbro': 7393, 'jump': 7394, 'hoops': 7395, 'ummifying': 7396, 'associate': 7397, 'rip': 7398, 'uterus': 7399, 'jacuzzi': 7400, 'txtstar': 7401, '2nights': 7402, 'uve': 7403, 'wildest': 7404, 'aldrine': 7405, 'rtm': 7406, 'sources': 7407, 'unhappiness': 7408, 'necesity': 7409, 'witout': 7410, \"hw'd\": 7411, 'colleg': 7412, \"wat'll\": 7413, 'wth': 7414, 'functions': 7415, 'events': 7416, \"espe'll\": 7417, 'irritated': 7418, '4wrd': 7419, 'wthout': 7420, 'takecare': 7421, 'univ': 7422, 'rajas': 7423, 'burrito': 7424, 'disconnect': 7425, \"'terrorist'\": 7426, 'confirmd': 7427, 'verified': 7428, 'cnn': 7429, 'ibn': 7430, 'stitch': 7431, 'trouser': 7432, '146tf150p': 7433, 'cheetos': 7434, 'synced': 7435, 'shangela': 7436, 'hppnss': 7437, 'sorrow': 7438, 'goodfriend': 7439, 'passes': 7440, '08704439680': 7441, 'poo': 7442, 'gloucesterroad': 7443, 'uup': 7444, 'ouch': 7445, 'forgiveness': 7446, 'glo': 7447, '09058095107': 7448, 's3xy': 7449, 'wlcome': 7450, 'timi': 7451, 'mila': 7452, 'age23': 7453, 'blonde': 7454, 'mtalk': 7455, '69866': 7456, '30pp': 7457, '5free': 7458, 'increments': 7459, 'help08718728876': 7460, 'fishrman': 7461, 'sack': 7462, 'strtd': 7463, 'throwin': 7464, '1stone': 7465, \"mrng''\": 7466, '08717895698': 7467, 'mobstorequiz10ppm': 7468, 'physics': 7469, 'praveesh': 7470, 'delicious': 7471, 'salad': 7472, 'beers': 7473, 'whore': 7474, 'funk': 7475, 'tones2u': 7476, 'twinks': 7477, 'scallies': 7478, 'skins': 7479, 'jocks': 7480, '08712466669': 7481, 'flood': 7482, 'beads': 7483, 'wishlist': 7484, 'section': 7485, 'nitro': 7486, \"'need'\": 7487, \"'comfort'\": 7488, \"'luxury'\": 7489, 'sold': 7490, \"armand's\": 7491, 'creative': 7492, 'reffering': 7493, 'getiing': 7494, 'weirdy': 7495, 'brownies': 7496, '09061701851': 7497, 'k61': 7498, '12hours': 7499, 'restrict': 7500, 'audrey': 7501, '74355': 7502, 'greece': 7503, 'protect': 7504, 'sib': 7505, 'sensitive': 7506, 'passwords': 7507, 'recorded': 7508, 'someday': 7509, 'grandfather': 7510, 'november': 7511, '09061104276': 7512, 'costå£3': 7513, '75max': 7514, 'yuou': 7515, 'spot': 7516, 'bunch': 7517, 'lotto': 7518, 'purchases': 7519, 'authorise': 7520, '45pm': 7521, 'gimmi': 7522, 'goss': 7523, 'ystrday': 7524, 'chile': 7525, 'subletting': 7526, 'ammae': 7527, 'steering': 7528, \"anything's\": 7529, 'sleeps': 7530, 'rounder': 7531, 'required': 7532, 'lambu': 7533, 'ji': 7534, 'batchlor': 7535, 'zoom': 7536, '62220cncl': 7537, 'stopcs': 7538, '08717890890å£1': 7539, 'åòharry': 7540, '1b6a5ecef91ff9': 7541, '37819': 7542, 'true18': 7543, '0430': 7544, 'jul': 7545, 'xafter': 7546, 'cst': 7547, 'chg': 7548, 'pure': 7549, 'hearted': 7550, 'enemies': 7551, 'smiley': 7552, 'gail': 7553, 'l8tr': 7554, 'yaxxx': 7555, 'theoretically': 7556, 'hooked': 7557, 'formally': 7558, 'multimedia': 7559, 'vague': 7560, 'accounting': 7561, 'delayed': 7562, 'housing': 7563, 'agency': 7564, 'renting': 7565, 'presents': 7566, 'nicky': 7567, \"gumby's\": 7568, 'alto18': 7569, '44345': 7570, 'sized': 7571, 'tarpon': 7572, 'springs': 7573, 'cab': 7574, 'steps': 7575, 'limited': 7576, 'hf8': 7577, '08719181259': 7578, 'radiator': 7579, 'proper': 7580, 'tongued': 7581, 'shorts': 7582, 'qi': 7583, 'suddenly': 7584, 'flurries': 7585, 'real1': 7586, 'pushbutton': 7587, 'dontcha': 7588, 'babygoodbye': 7589, 'golddigger': 7590, 'webeburnin': 7591, 'perform': 7592, 'cards': 7593, 'rebooting': 7594, 'nigh': 7595, 'nooooooo': 7596, 'cable': 7597, 'outage': 7598, 'sos': 7599, 'playin': 7600, 'guoyang': 7601, 'rahul': 7602, 'dengra': 7603, 'antelope': 7604, 'toplay': 7605, 'fieldof': 7606, 'selfindependence': 7607, 'contention': 7608, 'gnarls': 7609, 'barkleys': 7610, 'borderline': 7611, '545': 7612, 'nightnight': 7613, 'possibility': 7614, 'grooved': 7615, 'mising': 7616, 'secured': 7617, 'unsecured': 7618, '195': 7619, '6669': 7620, 'lanre': 7621, \"fakeye's\": 7622, 'eckankar': 7623, '3000': 7624, 'degrees': 7625, 'dodgey': 7626, 'seing': 7627, 'asssssholeeee': 7628, 'ceri': 7629, 'rebel': 7630, 'dreamz': 7631, 'buddy': 7632, 'blokes': 7633, '84484': 7634, 'nationwide': 7635, 'newport': 7636, 'juliana': 7637, 'nachos': 7638, 'dizzamn': 7639, 'suitemates': 7640, 'nimbomsons': 7641, 'continent': 7642, 'housewives': 7643, '0871750': 7644, '77': 7645, 'landlines': 7646, '087104711148': 7647, 'emerging': 7648, 'fiend': 7649, 'impede': 7650, 'hesitant': 7651, '60': 7652, '400thousad': 7653, 'nose': 7654, 'essay': 7655, 'tram': 7656, 'vic': 7657, 'coherently': 7658, 'triple': 7659, 'echo': 7660, 'gran': 7661, 'onlyfound': 7662, 'afew': 7663, 'cusoon': 7664, 'honi': 7665, 'bx526': 7666, 'southern': 7667, 'rayan': 7668, 'macleran': 7669, 'balls': 7670, 'olave': 7671, 'mandara': 7672, 'trishul': 7673, 'woo': 7674, 'hoo': 7675, 'panties': 7676, 'thout': 7677, '09066364311': 7678, 'flatter': 7679, 'pints': 7680, 'carlin': 7681, 'ciao': 7682, 'starve': 7683, 'impression': 7684, 'motivate': 7685, 'darkness': 7686, 'wknd': 7687, 'yalrigu': 7688, 'heltini': 7689, 'iyo': 7690, 'shared': 7691, 'uttered': 7692, 'trusting': 7693, 'noice': 7694, 'esaplanade': 7695, 'accessible': 7696, '08709501522': 7697, '139': 7698, 'la3': 7699, '2wu': 7700, 'occurs': 7701, 'enna': 7702, 'kalaachutaarama': 7703, 'coco': 7704, 'sporadically': 7705, '09064017305': 7706, 'pobox75ldns7': 7707, 'tbs': 7708, 'persolvo': 7709, 'forå£38': 7710, 'kath': 7711, 'manchester': 7712, 'youåõre': 7713, 'burden': 7714, 'noworriesloans': 7715, '08717111821': 7716, 'harder': 7717, 'nbme': 7718, 'sickness': 7719, 'villa': 7720, 'gam': 7721, 'smash': 7722, 'religiously': 7723, 'heroes': 7724, 'tips': 7725, '07973788240': 7726, '08715203649': 7727, 'muhommad': 7728, 'penny': 7729, 'fiting': 7730, 'load': 7731, 'mj': 7732, 'unconvinced': 7733, 'elaborate': 7734, 'willpower': 7735, 'absence': 7736, 'answerin': 7737, 'åè10': 7738, 'evey': 7739, 'prin': 7740, 'gsoh': 7741, 'spam': 7742, 'gigolo': 7743, 'mens': 7744, 'oncall': 7745, 'mjzgroup': 7746, '08714342399': 7747, '50rcvd': 7748, 'ashwini': 7749, '08707500020': 7750, 'ukp': 7751, '09061790125': 7752, 'thet': 7753, 'skinny': 7754, 'casting': 7755, 'elections': 7756, 'shouldn\\x89û÷t': 7757, '116': 7758, 'hlday': 7759, 'camp': 7760, 'amrca': 7761, 'serena': 7762, 'prescribed': 7763, 'meatballs': 7764, 'approve': 7765, 'panalam': 7766, 'spjanuary': 7767, 'fortune': 7768, 'allday': 7769, 'perf': 7770, 'outsider': 7771, 'receipts\\x89ûówell': 7772, 'what\\x89û÷s': 7773, '98321561': 7774, 'familiar': 7775, 'depression': 7776, 'infact': 7777, 'simpsons': 7778, 'band': 7779, 'canåõt': 7780, 'isnåõt': 7781, 'shite': 7782, 'kip': 7783, 'hont': 7784, 'amanda': 7785, 'regard': 7786, 'renewing': 7787, 'upgrading': 7788, 'subject': 7789, 'nannys': 7790, 'puts': 7791, 'perspective': 7792, 'conveying': 7793, 'debating': 7794, 'wtlp': 7795, 'jb': 7796, \"joke's\": 7797, 'florida': 7798, 'hidden': 7799, 'teams': 7800, 'swhrt': 7801, '0906346330': 7802, '47': 7803, 'po19': 7804, '2ez': 7805, 'general': 7806, 'jetton': 7807, 'cmon': 7808, 'replies': 7809, 'dealer': 7810, 'lunsford': 7811, 'enjoying': 7812, '0796xxxxxx': 7813, 'prizeawaiting': 7814, 'kfc': 7815, 'meals': 7816, 'gravy': 7817, '07008009200': 7818, 'attended': 7819, 'mw': 7820, 'tuth': 7821, \"mine's\": 7822, 'eviction': 7823, 'spiral': 7824, 'michael': 7825, 'riddance': 7826, 'suffers': 7827, 'raglan': 7828, 'edward': 7829, 'cricket': 7830, 'closeby': 7831, 'skye': 7832, 'bookedthe': 7833, 'hut': 7834, 'drastic': 7835, '3750': 7836, 'garments': 7837, 'sez': 7838, 'arab': 7839, 'evry1': 7840, 'eshxxxxxxxxxxx': 7841, 'lay': 7842, 'bimbo': 7843, \"ugo's\": 7844, '3lions': 7845, 'portege': 7846, 'm100': 7847, 'semiobscure': 7848, 'gprs': 7849, 'loosu': 7850, 'careless': 7851, 'freaking': 7852, 'myspace': 7853, 'logged': 7854, \"partner's\": 7855, 'method': 7856, 'jewelry': 7857, 'breaker': 7858, 'deluxe': 7859, 'features': 7860, 'graphics': 7861, 'bbdeluxe': 7862, 'fumbling': 7863, 'stone': 7864, 'weekdays': 7865, 'nails': 7866, \"nobody's\": 7867, 'asia': 7868, 'greatest': 7869, 'courage': 7870, 'bear': 7871, 'defeat': 7872, 'stil': 7873, 'tobed': 7874, '430': 7875, 'natalja': 7876, 'nat27081980': 7877, 'asthma': 7878, 'attack': 7879, 'ball': 7880, 'spin': 7881, 'haiyoh': 7882, 'million': 7883, \"aunty's\": 7884, 'prsn': 7885, 'saves': 7886, 'audiitions': 7887, 'relocate': 7888, 'pocked': 7889, 'motivating': 7890, 'brison': 7891, 'spelled': 7892, 'caps': 7893, 'bullshit': 7894, 'motherfucker': 7895, 'kit': 7896, 'strip': 7897, '1013': 7898, 'ig11': 7899, 'oja': 7900, '08712402578': 7901, 'thesmszone': 7902, 'anonymous': 7903, 'masked': 7904, 'abuse': 7905, 'woodland': 7906, 'avenue': 7907, 'parish': 7908, 'magazine': 7909, 'billy': 7910, 'awww': 7911, 'useless': 7912, 'loo': 7913, 'ed': 7914, 'shelf': 7915, 'swollen': 7916, 'glands': 7917, 'bcaz': 7918, 'stu': 7919, 'truble': 7920, 'evone': 7921, 'hates': 7922, 'view': 7923, 'gays': 7924, 'dual': 7925, 'hostile': 7926, 'haircut': 7927, 'breezy': 7928, '09061744553': 7929, 'polyh': 7930, '1apple': 7931, '1tulsi': 7932, 'leaf': 7933, '1lemon': 7934, '1cup': 7935, 'problms': 7936, 'litres': 7937, 'watr': 7938, 'diseases': 7939, 'snd': 7940, 'lavender': 7941, 'manky': 7942, 'scouse': 7943, 'travelling': 7944, 'inmind': 7945, 'recreation': 7946, 'mesages': 7947, 'judgemental': 7948, 'fridays': 7949, 'waheeda': 7950, 'bot': 7951, 'notes': 7952, 'eventually': 7953, 'tolerance': 7954, 'hits': 7955, '0789xxxxxxx': 7956, 'hellogorgeous': 7957, 'nitw': 7958, 'texd': 7959, 'hopeu': 7960, '4ward': 7961, 'jaz': 7962, '09058091870': 7963, 'exorcism': 7964, 'emily': 7965, 'emotion': 7966, 'prayrs': 7967, 'othrwise': 7968, 'ujhhhhhhh': 7969, 'sandiago': 7970, 'parantella': 7971, 'hugging': 7972, 'sweater': 7973, 'mango': 7974, 'involved': 7975, 'å£600': 7976, 'landmark': 7977, 'bob': 7978, 'barry': 7979, '83738': 7980, 'absolutly': 7981, 'consent': 7982, 'tonexs': 7983, 'renewed': 7984, 'clubzed': 7985, 'billing': 7986, 'can\\x89û÷t': 7987, 'mathews': 7988, 'tait': 7989, 'edwards': 7990, 'anderson': 7991, 'haunt': 7992, 'promoting': 7993, 'hex': 7994, 'crowd': 7995, '8000930705': 7996, 'snowboarding': 7997, 'christmassy': 7998, 'recpt': 7999, 'baaaaaaaabe': 8000, 'ignoring': 8001, 'shola': 8002, 'sagamu': 8003, 'lautech': 8004, 'vital': 8005, 'completes': 8006, 'education': 8007, 'zealand': 8008, 'qet': 8009, 'browser': 8010, 'surf': 8011, 'subscribers': 8012, 'conversations': 8013, 'senses': 8014, 'overemphasise': 8015, 'headset': 8016, 'adp': 8017, 'internal': 8018, 'extract': 8019, 'immed': 8020, 'skint': 8021, 'fancied': 8022, 'bevies': 8023, 'waz': 8024, 'othrs': 8025, 'spoon': 8026, 'watchng': 8027, 'comfey': 8028, 'quitting': 8029, 'least5times': 8030, \"wudn't\": 8031, \"ìï'll\": 8032, \"i'ma\": 8033, 'frequently': 8034, 'cupboard': 8035, 'route': 8036, '2mro': 8037, 'risk': 8038, 'grasp': 8039, 'flavour': 8040, 'laready': 8041, 'denying': 8042, 'dom': 8043, 'ffffuuuuuuu': 8044, 'julianaland': 8045, 'oblivious': 8046, 'dehydrated': 8047, 'mapquest': 8048, 'dogwood': 8049, 'archive': 8050, 'lengths': 8051, 'behalf': 8052, 'stunning': 8053, 'visa': 8054, 'gucci': 8055, \"shit's\": 8056, 'sozi': 8057, 'culdnt': 8058, 'talkbut': 8059, 'wannatell': 8060, 'wenwecan': 8061, 'smsing': 8062, 'efficient': 8063, '15pm': 8064, 'erutupalam': 8065, 'thandiyachu': 8066, 'invention': 8067, 'lyrics': 8068, 'nevr': 8069, 'unrecognized': 8070, 'somone': 8071, 'valuing': 8072, 'definitly': 8073, 'undrstnd': 8074, 'ger': 8075, 'toking': 8076, 'syd': 8077, 'khelate': 8078, 'kintu': 8079, 'opponenter': 8080, 'dhorte': 8081, 'lage': 8082, 'fried': 8083, 'spares': 8084, 'looovvve': 8085, 'warwick': 8086, 'tmw': 8087, 'canceled': 8088, \"havn't\": 8089, 'tops': 8090, 'grandma': 8091, 'parade': 8092, 'proze': 8093, 'norcorp': 8094, 'posting': 8095, '7cfca1a': 8096, 'grumble': 8097, 'linear': 8098, 'algebra': 8099, 'decorating': 8100, 'wining': 8101, '946': 8102, 'roomate': 8103, 'graduated': 8104, 'adjustable': 8105, 'cooperative': 8106, 'allows': 8107, 'nottingham': 8108, '63miles': 8109, '40mph': 8110, 'mornin': 8111, 'thanku': 8112, 'guessed': 8113, \"hubby's\": 8114, '89938': 8115, 'strings': 8116, '50ea': 8117, 'otbox': 8118, '731': 8119, 'la1': 8120, '7ws': 8121, 'beside': 8122, 'brisk': 8123, 'walks': 8124, 'sexiest': 8125, 'dirtiest': 8126, 'tellmiss': 8127, \"party's\": 8128, 'contribute': 8129, 'greatly': 8130, 'urgh': 8131, 'coach': 8132, 'smells': 8133, 'duvet': 8134, 'predictive': 8135, 'w8in': 8136, '4utxt': 8137, '24th': 8138, 'beverage': 8139, 'pist': 8140, 'surrender': 8141, 'symptoms': 8142, 'rdy': 8143, 'backwards': 8144, 'abstract': 8145, 'africa': 8146, 'avin': 8147, 'chit': 8148, 'logon': 8149, '8883': 8150, '4217': 8151, 'w1a': 8152, '6zf': 8153, '118p': 8154, 'quiteamuzing': 8155, 'thatåõscool': 8156, 'å£1000call': 8157, '09071512432': 8158, '300603t': 8159, 'callcost150ppmmobilesvary': 8160, 'rows': 8161, 'engagement': 8162, 'fixd': 8163, 'njan': 8164, 'vilikkam': 8165, 'sudn': 8166, 'maths': 8167, 'chapter': 8168, 'chop': 8169, 'noooooooo': 8170, '08718727870150ppm': 8171, 'firsg': 8172, 'split': 8173, 'wasnt': 8174, 'heat': 8175, 'applyed': 8176, 'sumfing': 8177, 'hiphop': 8178, 'oxygen': 8179, 'resort': 8180, 'roller': 8181, 'recorder': 8182, 'canname': 8183, 'australia': 8184, 'mquiz': 8185, 'showr': 8186, 'upon': 8187, 'ceiling': 8188, 'presnts': 8189, 'bcz': 8190, 'jeevithathile': 8191, 'irulinae': 8192, 'neekunna': 8193, 'prakasamanu': 8194, 'sneham': 8195, 'prakasam': 8196, 'ennal': 8197, \"'that\": 8198, 'mns': 8199, \"is'love'\": 8200, 'blowing': 8201, '7634': 8202, '7684': 8203, 'firmware': 8204, 'vijaykanth': 8205, 'anythiing': 8206, 'ripped': 8207, 'clubmoby': 8208, '08717509990': 8209, 'keypad': 8210, 'btwn': 8211, 'decades': 8212, 'goverment': 8213, 'expects': 8214, 'spice': 8215, 'prasanth': 8216, 'ettans': 8217, '08718738002': 8218, '48922': 8219, 'appy': 8220, 'fizz': 8221, 'contains': 8222, 'genus': 8223, 'robinson': 8224, 'outs': 8225, 'soz': 8226, 'imat': 8227, 'mums': 8228, 'sometext': 8229, '07099833605': 8230, '9280114': 8231, 'chloe': 8232, 'wewa': 8233, '130': 8234, 'iriver': 8235, '255': 8236, '128': 8237, 'bw': 8238, 'surly': 8239, '07808726822': 8240, '9758': 8241, 'mmmmmmm': 8242, 'snuggles': 8243, 'contented': 8244, 'whispers': 8245, 'healthy': 8246, '2bold': 8247, 'brother\\x89û÷s': 8248, 'scraped': 8249, 'barrel': 8250, 'misfits': 8251, 'sections': 8252, 'clearer': 8253, 'peach': 8254, 'tasts': 8255, 'rayman': 8256, 'golf': 8257, 'activ8': 8258, 'termsapply': 8259, \"there'll\": 8260, 'shindig': 8261, 'phonebook': 8262, 'rocking': 8263, 'ashes': 8264, \"xin's\": 8265, 'shijutta': 8266, 'offense': 8267, 'dvg': 8268, 'vinobanagar': 8269, 'ovulate': 8270, '3wks': 8271, 'woah': 8272, 'realising': 8273, 'orh': 8274, 'hides': 8275, 'secrets': 8276, 'n8': 8277, 'axel': 8278, 'akon': 8279, 'eyed': 8280, 'canteen': 8281, 'stressfull': 8282, 'adds': 8283, 'continued': 8284, 'president': 8285, '140': 8286, 'ìä': 8287, '180': 8288, 'pleasured': 8289, 'providing': 8290, 'assistance': 8291, 'whens': 8292, '1172': 8293, 'watever': 8294, 'built': 8295, 'lonlines': 8296, 'lotz': 8297, 'memories': 8298, 'gailxx': 8299, 'complacent': 8300, 'mina': 8301, 'miwa': 8302, '09066649731from': 8303, 'opposite': 8304, 'heavily': 8305, 'dolls': 8306, 'patrick': 8307, 'swayze': 8308, '09077818151': 8309, 'calls1': 8310, '50ppm': 8311, '30s': 8312, 'santacalling': 8313, 'quarter': 8314, 'fired': 8315, 'limping': 8316, 'aa': 8317, '078498': 8318, '08719180219': 8319, 'oga': 8320, 'poorly': 8321, 'punishment': 8322, 'brb': 8323, 'kill': 8324, 'predicte': 8325, 'situations': 8326, 'loosing': 8327, 'smaller': 8328, 'capacity': 8329, 'videos': 8330, 'shsex': 8331, 'netun': 8332, 'fgkslpopw': 8333, 'fgkslpo': 8334, '0871277810710p': 8335, 'defer': 8336, 'admission': 8337, 'checkmate': 8338, 'chess': 8339, 'persian': 8340, 'phrase': 8341, 'shah': 8342, 'maat': 8343, 'rats': 8344, 'themes': 8345, 'photoshop': 8346, 'manageable': 8347, '08715203652': 8348, '42810': 8349, 'ashley': 8350, 'increase': 8351, 'north': 8352, 'carolina': 8353, 'texas': 8354, 'gre': 8355, 'bomb': 8356, 'breathing': 8357, 'powerful': 8358, 'weapon': 8359, \"'heart'\": 8360, 'lovly': 8361, 'msgrcvd': 8362, 'customercare': 8363, 'clas': 8364, 'lit': 8365, 'loooooool': 8366, 'couch': 8367, 'rents': 8368, 'swashbuckling': 8369, 'terror': 8370, 'cruel': 8371, 'decent': 8372, 'joker': 8373, \"dip's\": 8374, 'gek1510': 8375, 'lyricalladie': 8376, 'hmmross': 8377, \"world's\": 8378, 'happiest': 8379, 'characters': 8380, 'differences': 8381, 'lists': 8382, \"tyler's\": 8383, 'antibiotic': 8384, 'abdomen': 8385, 'gynae': 8386, '6times': 8387, 'exposed': 8388, 'chastity': 8389, 'device': 8390, 'beatings': 8391, 'uses': 8392, 'gut': 8393, 'wrenching': 8394, \"fuck's\": 8395, 'tallahassee': 8396, 'ou': 8397, 'taka': 8398, 'pobox202': 8399, 'nr31': 8400, '7zs': 8401, '450pw': 8402, 'ritten': 8403, 'fold': 8404, '83118': 8405, 'colin': 8406, 'farrell': 8407, 'swat': 8408, 'mre': 8409, 'solihull': 8410, 'nhs': 8411, '2b': 8412, 'terminated': 8413, 'inconvenience': 8414, 'dentists': 8415, 'yards': 8416, 'bergkamp': 8417, 'margin': 8418, '78': 8419, \"it'snot\": 8420, \"child's\": 8421, 'unintentional': 8422, 'nonetheless': 8423, 'hooch': 8424, 'toaday': 8425, 'splat': 8426, 'grazed': 8427, 'knees': 8428, 'deny': 8429, 'hearin': 8430, 'yah': 8431, 'torture': 8432, 'hopeing': 8433, 'wasn\\x89û÷t': 8434, 'sisters': 8435, 'sexychat': 8436, 'lips': 8437, 'congratulation': 8438, 'court': 8439, 'chapel': 8440, 'frontierville': 8441, 'mountain': 8442, 'deer': 8443, 'mailed': 8444, 'varma': 8445, 'secure': 8446, 'parties': 8447, 'farting': 8448, 'ortxt': 8449, 'trained': 8450, 'advisors': 8451, 'dialling': 8452, '402': 8453, 'stuffing': 8454, 'ahhhh': 8455, 'experiencehttp': 8456, 'vouch4me': 8457, 'etlp': 8458, 'kaila': 8459, '09058094507': 8460, \"unicef's\": 8461, 'asian': 8462, 'tsunami': 8463, 'disaster': 8464, 'fund': 8465, '864233': 8466, 'hos': 8467, 'collapsed': 8468, 'cumming': 8469, 'jade': 8470, 'paul': 8471, 'barmed': 8472, 'thinkthis': 8473, 'dangerous': 8474, 'rushing': 8475, 'coulda': 8476, 'phony': 8477, 'okday': 8478, 'hmph': 8479, 'baller': 8480, 'punto': 8481, 'ayo': 8482, 'travelled': 8483, 'å£125': 8484, 'freeentry': 8485, 'xt': 8486, 'toyota': 8487, 'camry': 8488, \"olayiwola's\": 8489, 'mileage': 8490, 'landing': 8491, 'clover': 8492, 'achan': 8493, 'amma': 8494, \"'rencontre'\": 8495, 'mountains': 8496, '08714712412': 8497, 'nìâte': 8498, 'puppy': 8499, 'noise': 8500, 'meg': 8501, '08715203685': 8502, '4xx26': 8503, 'crossing': 8504, 'deepest': 8505, 'darkest': 8506, '09094646631': 8507, 'inconvenient': 8508, 'adsense': 8509, 'approved': 8510, 'dudette': 8511, 'perumbavoor': 8512, 'stage': 8513, 'clarify': 8514, 'preponed': 8515, 'natalie': 8516, 'natalie2k9': 8517, 'younger': 8518, '08701213186': 8519, 'liver': 8520, 'opener': 8521, 'guides': 8522, 'watched': 8523, 'loneliness': 8524, 'skyving': 8525, \"dad's\": 8526, 'onwords': 8527, 'mtnl': 8528, 'mumbai': 8529, '83039': 8530, '62735': 8531, 'å£450': 8532, 'accommodationvouchers': 8533, 'mustprovide': 8534, '15541': 8535, 'rajitha': 8536, 'ranju': 8537, 'styles': 8538, 'tscs08714740323': 8539, '1winawk': 8540, '50perweeksub': 8541, 'slp': 8542, 'muah': 8543, '09066361921': 8544, 'disagreeable': 8545, 'afterwards': 8546, 'uawake': 8547, 'feellikw': 8548, 'justfound': 8549, 'aletter': 8550, 'thatmum': 8551, 'gotmarried': 8552, '4thnov': 8553, 'ourbacks': 8554, 'fuckinnice': 8555, 'rearrange': 8556, 'dormitory': 8557, 'astronomer': 8558, 'starer': 8559, 'election': 8560, 'recount': 8561, 'hitler': 8562, 'eleven': 8563, 'worms': 8564, 'suffering': 8565, 'dysentry': 8566, 'andre': 8567, \"virgil's\": 8568, 'gokila': 8569, 'shanil': 8570, 'exchanged': 8571, 'uncut': 8572, 'diamond': 8573, 'dino': 8574, 'kotees': 8575, 'panther': 8576, 'sugababes': 8577, 'zebra': 8578, 'animation': 8579, 'badass': 8580, 'hoody': 8581, 'resent': 8582, 'queries': 8583, 'customersqueries': 8584, 'netvision': 8585, 'hassling': 8586, 'andres': 8587, 'haughaighgtujhyguj': 8588, 'fassyole': 8589, 'blacko': 8590, 'londn': 8591, 'responsibilities': 8592, '08715205273': 8593, 'vco': 8594, 'humanities': 8595, 'reassurance': 8596, 'aslamalaikkum': 8597, 'tohar': 8598, 'beeen': 8599, 'muht': 8600, 'albi': 8601, 'mufti': 8602, 'mahfuuz': 8603, '078': 8604, 'enufcredeit': 8605, 'tocall': 8606, 'ileave': 8607, 'treats': 8608, 'okors': 8609, 'ibored': 8610, 'adding': 8611, 'zeros': 8612, 'savings': 8613, 'goigng': 8614, 'perfume': 8615, 'sday': 8616, 'grocers': 8617, 'pubs': 8618, 'frankie': 8619, 'bennys': 8620, 'changing': 8621, 'diapers': 8622, 'owed': 8623, 'unlike': 8624, 'patients': 8625, 'turkeys': 8626, 'helens': 8627, 'princes': 8628, 'unintentionally': 8629, 'garden': 8630, 'bulbs': 8631, 'seeds': 8632, 'scotsman': 8633, 'go2': 8634, 'notxt': 8635, 'wenever': 8636, 'stability': 8637, 'tranquility': 8638, 'vibrant': 8639, 'colourful': 8640, 'bawling': 8641, 'failure': 8642, 'failing': 8643, 'velusamy': 8644, \"sir's\": 8645, 'facilities': 8646, 'karnan': 8647, 'bluray': 8648, 'i\\x89û÷ve': 8649, 'salt': 8650, 'wounds': 8651, 'logging': 8652, 'geoenvironmental': 8653, 'implications': 8654, 'fuuuuck': 8655, 'salmon': 8656, 'uploaded': 8657, 'wrkin': 8658, 'ree': 8659, 'compensation': 8660, 'awkward': 8661, 'splash': 8662, 'leg': 8663, 'musta': 8664, 'overdid': 8665, 'telediscount': 8666, 'gastroenteritis': 8667, 'replace': 8668, 'reduce': 8669, 'limiting': 8670, 'illness': 8671, 'foned': 8672, 'chuck': 8673, 'port': 8674, 'stuffs': 8675, 'juswoke': 8676, 'boatin': 8677, 'docks': 8678, 'spinout': 8679, '08715203656': 8680, '42049': 8681, 'uworld': 8682, 'qbank': 8683, 'assessment': 8684, 'someonone': 8685, '09064015307': 8686, 'tke': 8687, 'temales': 8688, 'finishd': 8689, 'dull': 8690, 'studies': 8691, 'anyones': 8692, 'treadmill': 8693, 'craigslist': 8694, 'absolutely': 8695, 'swan': 8696, 'lamp': 8697, 'foward': 8698, '09061790126': 8699, 'misundrstud': 8700, '2u2': 8701, 'genes': 8702, 'com1win150ppmx3age16subscription': 8703, 'resuming': 8704, 'reapply': 8705, \"treatin'\": 8706, 'treacle': 8707, 'mumhas': 8708, 'beendropping': 8709, 'theplace': 8710, 'adress': 8711, 'oyster': 8712, 'sashimi': 8713, 'rumbling': 8714, 'marandratha': 8715, 'correctly': 8716, 'alaikkum': 8717, 'heaven': 8718, 'pisces': 8719, 'aquarius': 8720, '2yrs': 8721, 'steyn': 8722, 'wicket': 8723, 'sterm': 8724, 'resolved': 8725, 'jam': 8726, 'hannaford': 8727, 'wheat': 8728, 'chex': 8729, 'grownup': 8730, 'costume': 8731, 'jerk': 8732, 'stink': 8733, 'follows': 8734, 'subsequent': 8735, 'openings': 8736, 'upcharge': 8737, 'guai': 8738, 'astrology': 8739, \"ryan's\": 8740, 'slacking': 8741, 'mentor': 8742, 'percent': 8743, '09095350301': 8744, 'erotic': 8745, 'ecstacy': 8746, 'dept': 8747, '08717507382': 8748, 'coincidence': 8749, 'sane': 8750, 'helping': 8751, 'leading': 8752, '151': 8753, 'pause': 8754, '8800': 8755, 'psp': 8756, 'spacebucks': 8757, \"weather's\": 8758, '083': 8759, '6089': 8760, 'squeezed': 8761, 'maintaining': 8762, 'dreading': 8763, 'thou': 8764, 'suggestion': 8765, 'lands': 8766, 'helps': 8767, 'forgt': 8768, 'ajith': 8769, 'ooooooh': 8770, 'yoville': 8771, 'asda': 8772, 'counts': 8773, 'officer': 8774, 'bffs': 8775, 'carly': 8776, 'seperated': 8777, '\\x8eö´\\x89ó': 8778, '\\x8bû¬ud': 8779, 'brolly': 8780, 'franxx': 8781, 'prometazine': 8782, 'syrup': 8783, '5mls': 8784, 'feed': 8785, 'singapore': 8786, 'victoria': 8787, 'pocay': 8788, 'wocay': 8789, '2morrowxxxx': 8790, 'broth': 8791, 'ramen': 8792, 'fowler': 8793, 'tats': 8794, 'flew': 8795, '09058094583': 8796, 'attention': 8797, 'tix': 8798, \"biola's\": 8799, 'fne': 8800, 'youdoing': 8801, 'worc': 8802, 'foregate': 8803, 'shrub': 8804, 'get4an18th': 8805, '32000': 8806, 'legitimat': 8807, 'efreefone': 8808, 'receipts': 8809, 'pendent': 8810, 'toilet': 8811, 'stolen': 8812, 'cops': 8813, 'hu': 8814, 'navigate': 8815, 'choosing': 8816, 'require': 8817, 'guidance': 8818, 'chick': 8819, 'boobs': 8820, 'revealing': 8821, 'sparkling': 8822, 'breaks': 8823, '45': 8824, '0121': 8825, '2025050': 8826, 'shortbreaks': 8827, 'org': 8828, 'gyno': 8829, 'belong': 8830, 'gamb': 8831, 'treasure': 8832, '820554ad0a1705572711': 8833, 'trueåác': 8834, 'ringtoneåá': 8835, '09050000332': 8836, \"mummy's\": 8837, 'positive': 8838, 'negative': 8839, 'hmmmm': 8840, 'command': 8841, 'stressful': 8842, 'holby': 8843, '09064017295': 8844, 'li': 8845, 'lecturer': 8846, 'repeating': 8847, 'yeovil': 8848, 'motor': 8849, 'max': 8850, 'rhode': 8851, 'bong': 8852, 'ofcourse': 8853, '08448350055': 8854, 'planettalkinstant': 8855, 'marvel': 8856, 'ultimate': 8857, '83338': 8858, '8ball': 8859, 'tamilnadu': 8860, 'tip': 8861, '07808247860': 8862, '08719899229': 8863, '40411': 8864, 'identification': 8865, 'limit': 8866, 'boundaries': 8867, 'endless': 8868, 'reassuring': 8869, 'young': 8870, 'referin': 8871, \"mei's\": 8872, 'saibaba': 8873, 'colany': 8874, 'chic': 8875, 'declare': 8876, '49557': 8877, 'disappointment': 8878, 'irritation': 8879, \"tantrum's\": 8880, 'compliments': 8881, 'adventuring': 8882, 'chief': 8883, 'gsex': 8884, '2667': 8885, 'wc1n': 8886, '3xx': 8887, '3mobile': 8888, 'chatlines': 8889, 'inclu': 8890, 'servs': 8891, 'l8er': 8892, 'bailiff': 8893, 'mouse': 8894, 'desk': 8895, 'childporn': 8896, 'jumpers': 8897, 'hat': 8898, 'belt': 8899, 'cribbs': 8900, 'spiritual': 8901, 'barring': 8902, 'sudden': 8903, 'influx': 8904, 'kane': 8905, 'shud': 8906, 'pshew': 8907, 'units': 8908, 'accent': 8909, '4years': 8910, 'dental': 8911, 'nmde': 8912, 'dump': 8913, 'heap': 8914, 'lowes': 8915, 'salesman': 8916, 'å£750': 8917, '087187272008': 8918, 'now1': 8919, 'pity': 8920, 'suggestions': 8921, 'bitching': 8922, 'welcome <unk> uk mobile date this msg is free giving you free calling <unk> 08719839835 future mgs billed at 150p daily <unk> cancel send go stop <unk> 89123': 8923}\n"
     ]
    }
   ],
   "source": [
    "word_to_index = tokenizer.word_index\n",
    "print(word_to_index)"
   ]
  },
  {
   "cell_type": "code",
   "execution_count": 353,
   "metadata": {},
   "outputs": [
    {
     "name": "stdout",
     "output_type": "stream",
     "text": [
      "등장 빈도가 1번 이하인 희귀 단어의 수: 4908\n",
      "단어 집합(vocabulary)에서 희귀 단어의 비율: 55.02242152466368\n",
      "전체 등장 빈도에서 희귀 단어 등장 빈도 비율: 6.082538108811501\n"
     ]
    }
   ],
   "source": [
    "threshold = 2\n",
    "total_cnt = len(word_to_index) # 단어의 수\n",
    "rare_cnt = 0 # 등장 빈도수가 threshold보다 작은 단어의 개수를 카운트\n",
    "total_freq = 0 # 훈련 데이터의 전체 단어 빈도수 총 합\n",
    "rare_freq = 0 # 등장 빈도수가 threshold보다 작은 단어의 등장 빈도수의 총 합\n",
    "\n",
    "# 단어와 빈도수의 쌍(pair)을 key와 value로 받는다.\n",
    "for key, value in tokenizer.word_counts.items():\n",
    "    total_freq = total_freq + value\n",
    "\n",
    "    # 단어의 등장 빈도수가 threshold보다 작으면\n",
    "    if(value < threshold):\n",
    "        rare_cnt = rare_cnt + 1\n",
    "        rare_freq = rare_freq + value\n",
    "\n",
    "print('등장 빈도가 %s번 이하인 희귀 단어의 수: %s'%(threshold - 1, rare_cnt))\n",
    "print(\"단어 집합(vocabulary)에서 희귀 단어의 비율:\", (rare_cnt / total_cnt)*100)\n",
    "print(\"전체 등장 빈도에서 희귀 단어 등장 빈도 비율:\", (rare_freq / total_freq)*100)"
   ]
  },
  {
   "cell_type": "code",
   "execution_count": 354,
   "metadata": {},
   "outputs": [
    {
     "name": "stdout",
     "output_type": "stream",
     "text": [
      "단어 집합의 크기: 8921\n"
     ]
    }
   ],
   "source": [
    "vocab_size = len(word_to_index) + 1\n",
    "print('단어 집합의 크기: {}'.format((vocab_size)))"
   ]
  },
  {
   "cell_type": "code",
   "execution_count": 355,
   "metadata": {},
   "outputs": [
    {
     "name": "stdout",
     "output_type": "stream",
     "text": [
      "훈련 데이터의 개수 : 4135\n",
      "테스트 데이터의 개수: 1034\n"
     ]
    }
   ],
   "source": [
    "n_of_train = int(len(sequences) * 0.8)\n",
    "n_of_test = int(len(sequences) - n_of_train)\n",
    "print('훈련 데이터의 개수 :',n_of_train)\n",
    "print('테스트 데이터의 개수:',n_of_test)"
   ]
  },
  {
   "cell_type": "code",
   "execution_count": 356,
   "metadata": {},
   "outputs": [
    {
     "name": "stdout",
     "output_type": "stream",
     "text": [
      "메일의 최대 길이 : 189\n",
      "메일의 평균 길이 : 15.610370\n"
     ]
    },
    {
     "data": {
      "image/png": "[encoded data removed]",
      "text/plain": [
       "<Figure size 432x288 with 1 Axes>"
      ]
     },
     "metadata": {
      "needs_background": "light"
     },
     "output_type": "display_data"
    }
   ],
   "source": [
    "X_data = sequences\n",
    "print('메일의 최대 길이 : %d' % max(len(l) for l in X_data))\n",
    "print('메일의 평균 길이 : %f' % (sum(map(len, X_data))/len(X_data)))\n",
    "plt.hist([len(s) for s in X_data], bins=50)\n",
    "plt.xlabel('length of samples')\n",
    "plt.ylabel('number of samples')\n",
    "plt.show()"
   ]
  },
  {
   "cell_type": "code",
   "execution_count": 357,
   "metadata": {},
   "outputs": [
    {
     "name": "stdout",
     "output_type": "stream",
     "text": [
      "훈련 데이터의 크기(shape):  (5169, 189)\n"
     ]
    }
   ],
   "source": [
    "max_len = 189\n",
    "# 전체 데이터셋의 길이는 max_len으로 맞춥니다.\n",
    "data = pad_sequences(X_data, maxlen = max_len)\n",
    "print(\"훈련 데이터의 크기(shape): \", data.shape)"
   ]
  },
  {
   "cell_type": "code",
   "execution_count": 358,
   "metadata": {},
   "outputs": [],
   "source": [
    "X_test = data[n_of_train:] #X_data 데이터 중에서 뒤의 1034개의 데이터만 저장\n",
    "y_test = np.array(y_data[n_of_train:]) #y_data 데이터 중에서 뒤의 1034개의 데이터만 저장\n",
    "X_train = data[:n_of_train] #X_data 데이터 중에서 앞의 4135개의 데이터만 저장\n",
    "y_train = np.array(y_data[:n_of_train]) #y_data 데이터 중에서 앞의 4135개의 데이터만 저장"
   ]
  },
  {
   "cell_type": "code",
   "execution_count": 359,
   "metadata": {},
   "outputs": [
    {
     "data": {
      "text/plain": [
       "array([0, 0, 0, ..., 0, 0, 0], dtype=int64)"
      ]
     },
     "execution_count": 359,
     "metadata": {},
     "output_type": "execute_result"
    }
   ],
   "source": [
    "y_test"
   ]
  },
  {
   "cell_type": "code",
   "execution_count": 360,
   "metadata": {},
   "outputs": [],
   "source": [
    "from tensorflow.keras.layers import SimpleRNN, Embedding, Dense\n",
    "from tensorflow.keras.models import Sequential\n",
    "from tensorflow.keras.callbacks import EarlyStopping, ModelCheckpoint\n",
    "from tensorflow.keras.models import load_model"
   ]
  },
  {
   "cell_type": "code",
   "execution_count": 361,
   "metadata": {},
   "outputs": [
    {
     "name": "stdout",
     "output_type": "stream",
     "text": [
      "Epoch 1/4\n",
      "52/52 [==============================] - ETA: 0s - loss: 0.4211 - acc: 0.8525\n",
      "Epoch 00001: val_acc improved from -inf to 0.87304, saving model to best_model_spam.h5\n",
      "52/52 [==============================] - 3s 66ms/step - loss: 0.4211 - acc: 0.8525 - val_loss: 0.3158 - val_acc: 0.8730\n",
      "Epoch 2/4\n",
      "52/52 [==============================] - ETA: 0s - loss: 0.1719 - acc: 0.9498- ETA: 0s - loss: 0.1\n",
      "Epoch 00002: val_acc improved from 0.87304 to 0.96614, saving model to best_model_spam.h5\n",
      "52/52 [==============================] - 3s 65ms/step - loss: 0.1719 - acc: 0.9498 - val_loss: 0.1236 - val_acc: 0.9661\n",
      "Epoch 3/4\n",
      "52/52 [==============================] - ETA: 0s - loss: 0.0690 - acc: 0.9843- ETA: 0s - loss: 0.0710 - acc: \n",
      "Epoch 00003: val_acc improved from 0.96614 to 0.97582, saving model to best_model_spam.h5\n",
      "52/52 [==============================] - 3s 63ms/step - loss: 0.0690 - acc: 0.9843 - val_loss: 0.0759 - val_acc: 0.9758\n",
      "Epoch 4/4\n",
      "52/52 [==============================] - ETA: 0s - loss: 0.0462 - acc: 0.9888\n",
      "Epoch 00004: val_acc improved from 0.97582 to 0.98065, saving model to best_model_spam.h5\n",
      "52/52 [==============================] - 3s 67ms/step - loss: 0.0462 - acc: 0.9888 - val_loss: 0.0664 - val_acc: 0.9807\n"
     ]
    }
   ],
   "source": [
    "model = Sequential()\n",
    "model.add(Embedding(vocab_size, 32)) # 임베딩 벡터의 차원은 32\n",
    "model.add(SimpleRNN(32)) # RNN 셀의 hidden_size는 32\n",
    "model.add(Dense(1, activation='sigmoid'))\n",
    "\n",
    "es = EarlyStopping(monitor='val_loss', mode='min', verbose=1, patience=4)\n",
    "mc = ModelCheckpoint('best_model_spam.h5', monitor='val_acc', mode='max', verbose=1, save_best_only=True)\n",
    "\n",
    "model.compile(optimizer='adam', loss='binary_crossentropy', metrics=['acc'])\n",
    "history = model.fit(X_train, y_train, epochs=4, callbacks=[es, mc], batch_size=64, validation_split=0.2)"
   ]
  },
  {
   "cell_type": "code",
   "execution_count": 362,
   "metadata": {},
   "outputs": [
    {
     "name": "stdout",
     "output_type": "stream",
     "text": [
      "33/33 [==============================] - 0s 12ms/step - loss: 0.0684 - acc: 0.9826\n",
      "\n",
      " 테스트 정확도: 0.9826\n"
     ]
    }
   ],
   "source": [
    "loaded_model = load_model('best_model_spam.h5')\n",
    "print(\"\\n 테스트 정확도: %.4f\" % (loaded_model.evaluate(X_test, y_test)[1]))"
   ]
  },
  {
   "cell_type": "code",
   "execution_count": 294,
   "metadata": {},
   "outputs": [
    {
     "name": "stdout",
     "output_type": "stream",
     "text": [
      "14\n",
      "35\n",
      "46\n",
      "48\n",
      "71\n",
      "72\n",
      "77\n",
      "85\n",
      "97\n",
      "104\n",
      "112\n",
      "137\n",
      "140\n",
      "143\n",
      "144\n",
      "145\n",
      "151\n",
      "164\n",
      "178\n",
      "190\n",
      "202\n",
      "205\n",
      "209\n",
      "214\n",
      "228\n",
      "231\n",
      "249\n",
      "275\n",
      "278\n",
      "298\n",
      "300\n",
      "305\n",
      "313\n",
      "329\n",
      "340\n",
      "341\n",
      "350\n",
      "362\n",
      "364\n",
      "375\n",
      "382\n",
      "386\n",
      "402\n",
      "414\n",
      "428\n",
      "432\n",
      "434\n",
      "437\n",
      "445\n",
      "459\n",
      "476\n",
      "480\n",
      "490\n",
      "492\n",
      "493\n",
      "509\n",
      "515\n",
      "528\n",
      "536\n",
      "542\n",
      "551\n",
      "552\n",
      "554\n",
      "563\n",
      "565\n",
      "579\n",
      "587\n",
      "590\n",
      "592\n",
      "594\n",
      "597\n",
      "617\n",
      "621\n",
      "626\n",
      "628\n",
      "631\n",
      "636\n",
      "652\n",
      "661\n",
      "688\n",
      "697\n",
      "698\n",
      "703\n",
      "707\n",
      "710\n",
      "727\n",
      "734\n",
      "745\n",
      "762\n",
      "771\n",
      "782\n",
      "784\n",
      "829\n",
      "849\n",
      "850\n",
      "852\n",
      "854\n",
      "859\n",
      "860\n",
      "863\n",
      "905\n",
      "921\n",
      "927\n",
      "934\n",
      "937\n",
      "941\n",
      "942\n",
      "953\n",
      "958\n",
      "961\n",
      "969\n",
      "992\n",
      "1002\n",
      "1004\n",
      "1011\n",
      "1028\n",
      "1029\n"
     ]
    }
   ],
   "source": [
    "count = []\n",
    "\n",
    "for i in range(len(y_test)):\n",
    "    if(y_test[i] == 1):\n",
    "        print(i)\n",
    "        count.append(i)\n"
   ]
  },
  {
   "cell_type": "code",
   "execution_count": 297,
   "metadata": {},
   "outputs": [
    {
     "data": {
      "text/plain": [
       "14"
      ]
     },
     "execution_count": 297,
     "metadata": {},
     "output_type": "execute_result"
    }
   ],
   "source": [
    "count[0]"
   ]
  },
  {
   "cell_type": "code",
   "execution_count": 34,
   "metadata": {},
   "outputs": [],
   "source": [
    "index_to_word={}\n",
    "for key, value in word_to_index.items():\n",
    "    index_to_word[value] = key"
   ]
  },
  {
   "cell_type": "code",
   "execution_count": 485,
   "metadata": {},
   "outputs": [
    {
     "name": "stdout",
     "output_type": "stream",
     "text": [
      "<pad> <pad> <pad> <pad> <pad> <pad> <pad> <pad> <pad> <pad> <pad> <pad> <pad> <pad> <pad> <pad> <pad> <pad> <pad> <pad> <pad> <pad> <pad> <pad> <pad> <pad> <pad> <pad> <pad> <pad> <pad> <pad> <pad> <pad> <pad> <pad> <pad> <pad> <pad> <pad> <pad> <pad> <pad> <pad> <pad> <pad> <pad> <pad> <pad> <pad> <pad> <pad> <pad> <pad> <pad> <pad> <pad> <pad> <pad> <pad> <pad> <pad> <pad> <pad> <pad> <pad> <pad> <pad> <pad> <pad> <pad> <pad> <pad> <pad> <pad> <pad> <pad> <pad> <pad> <pad> <pad> <pad> <pad> <pad> <pad> <pad> <pad> <pad> <pad> <pad> <pad> <pad> <pad> <pad> <pad> <pad> <pad> <pad> <pad> <pad> <pad> <pad> <pad> <pad> <pad> <pad> <pad> <pad> <pad> <pad> <pad> <pad> <pad> <pad> <pad> <pad> <pad> <pad> <pad> <pad> <pad> <pad> <pad> <pad> <pad> <pad> <pad> <pad> <pad> <pad> <pad> <pad> <pad> <pad> <pad> <pad> <pad> <pad> <pad> <pad> <pad> <pad> <pad> <pad> <pad> <pad> <pad> <pad> <pad> <pad> <pad> <pad> <pad> <pad> <pad> <pad> <pad> <pad> <pad> <pad> <pad> <pad> <pad> <pad> <pad> <pad> don't b floppy b snappy happy only gay chat service with photo upload call 08718730666 10p min 2 stop our texts call 08712460324\n"
     ]
    }
   ],
   "source": [
    "for index, token in enumerate((\"<pad>\", \"<sos>\", \"<unk>\")):\n",
    "    index_to_word[index] = token\n",
    "\n",
    "print(' '.join([index_to_word[index] for index in X_test[14]]))"
   ]
  },
  {
   "cell_type": "code",
   "execution_count": 482,
   "metadata": {},
   "outputs": [
    {
     "data": {
      "text/plain": [
       "array([   0,    0,    0,    0,    0,    0,    0,    0,    0,    0,    0,\n",
       "          0,    0,    0,    0,    0,    0,    0,    0,    0,    0,    0,\n",
       "          0,    0,    0,    0,    0,    0,    0,    0,    0,    0,    0,\n",
       "          0,    0,    0,    0,    0,    0,    0,    0,    0,    0,    0,\n",
       "          0,    0,    0,    0,    0,    0,    0,    0,    0,    0,    0,\n",
       "          0,    0,    0,    0,    0,    0,    0,    0,    0,    0,    0,\n",
       "          0,    0,    0,    0,    0,    0,    0,    0,    0,    0,    0,\n",
       "          0,    0,    0,    0,    0,    0,    0,    0,    0,    0,    0,\n",
       "          0,    0,    0,    0,    0,    0,    0,    0,    0,    0,    0,\n",
       "          0,    0,    0,    0,    0,    0,    0,    0,    0,    0,    0,\n",
       "          0,    0,    0,    0,    0,    0,    0,    0,    0,    0,    0,\n",
       "          0,    0,    0,    0,    0,    0,    0,    0,    0,    0,    0,\n",
       "          0,    0,    0,    0,    0,    0,    0,    0,    0,    0,    0,\n",
       "          0,    0,    0,    0,    0,    0,    0,    0,    0,    0,    0,\n",
       "          0,    0,    0,    0,    0,    0,    0,    0,    0,    0,    0,\n",
       "          0,    0,    0,    0,    0,    0,    0,    0,    0,    0,    0,\n",
       "          0,    0,    0,    0,    0,  168,    3,   16, 2028,   13,  103,\n",
       "        719,  305])"
      ]
     },
     "execution_count": 482,
     "metadata": {},
     "output_type": "execute_result"
    }
   ],
   "source": [
    "X_test[46]"
   ]
  },
  {
   "cell_type": "code",
   "execution_count": 476,
   "metadata": {},
   "outputs": [
    {
     "data": {
      "text/plain": [
       "1"
      ]
     },
     "execution_count": 476,
     "metadata": {},
     "output_type": "execute_result"
    }
   ],
   "source": [
    "y_test[14]"
   ]
  },
  {
   "cell_type": "code",
   "execution_count": 467,
   "metadata": {},
   "outputs": [],
   "source": [
    "def sentiment_predict(new_sentence):\n",
    "  print(new_sentence)\n",
    "  tokenizer.fit_on_texts(X_data) # 5169개의 행을 가진 X의 각 행에 토큰화를 수행\n",
    "  encoded = tokenizer.texts_to_sequences(new_sentence) # 정수 인코딩\n",
    "  print(encoded)\n",
    "  pad_new = pad_sequences(encoded, maxlen = max_len) # 패딩\n",
    "  print(pad_new)\n",
    "  score = float(loaded_model.predict(pad_new)) # 예측\n",
    "  print(score)\n",
    "  if(score > 0.5):\n",
    "    print(\"{:.2f}% 확률로 스팸입니다.\\n\".format(score * 100))\n",
    "  else:\n",
    "    print(\"{:.2f}% 스팸이 아닙니다.\\n\".format((1 - score) * 100))"
   ]
  },
  {
   "cell_type": "code",
   "execution_count": 419,
   "metadata": {},
   "outputs": [],
   "source": [
    "def sentiment_predict2(new_sentence):\n",
    "  score = float(loaded_model.predict(new_sentence)) # 예측 \n",
    "  print(score)\n",
    "  if(score > 0.5):\n",
    "    print(\"{:.2f}% 확률로 스팸입니다.\\n\".format(score * 100))\n",
    "  else:\n",
    "    print(\"{:.2f}% 스팸이 아닙니다.\\n\".format((1 - score) * 100))"
   ]
  },
  {
   "cell_type": "code",
   "execution_count": 489,
   "metadata": {},
   "outputs": [
    {
     "name": "stdout",
     "output_type": "stream",
     "text": [
      "[\"you've won please confirm receipt\"]\n",
      "[[796, 210, 102, 882, 1687]]\n",
      "[[   0    0    0    0    0    0    0    0    0    0    0    0    0    0\n",
      "     0    0    0    0    0    0    0    0    0    0    0    0    0    0\n",
      "     0    0    0    0    0    0    0    0    0    0    0    0    0    0\n",
      "     0    0    0    0    0    0    0    0    0    0    0    0    0    0\n",
      "     0    0    0    0    0    0    0    0    0    0    0    0    0    0\n",
      "     0    0    0    0    0    0    0    0    0    0    0    0    0    0\n",
      "     0    0    0    0    0    0    0    0    0    0    0    0    0    0\n",
      "     0    0    0    0    0    0    0    0    0    0    0    0    0    0\n",
      "     0    0    0    0    0    0    0    0    0    0    0    0    0    0\n",
      "     0    0    0    0    0    0    0    0    0    0    0    0    0    0\n",
      "     0    0    0    0    0    0    0    0    0    0    0    0    0    0\n",
      "     0    0    0    0    0    0    0    0    0    0    0    0    0    0\n",
      "     0    0    0    0    0    0    0    0    0    0    0    0    0    0\n",
      "     0    0  796  210  102  882 1687]]\n",
      "0.04304087534546852\n",
      "95.70% 스팸이 아닙니다.\n",
      "\n"
     ]
    }
   ],
   "source": [
    "sentiment_predict([\"you've won please confirm receipt\"])"
   ]
  },
  {
   "cell_type": "code",
   "execution_count": 394,
   "metadata": {},
   "outputs": [
    {
     "name": "stdout",
     "output_type": "stream",
     "text": [
      "0.9890089631080627\n",
      "98.90% 확률로 스팸입니다.\n",
      "\n",
      "0.973050057888031\n",
      "97.31% 확률로 스팸입니다.\n",
      "\n",
      "0.07033126801252365\n",
      "92.97% 스팸이 아닙니다.\n",
      "\n",
      "0.028246218338608742\n",
      "97.18% 스팸이 아닙니다.\n",
      "\n",
      "0.9892581105232239\n",
      "98.93% 확률로 스팸입니다.\n",
      "\n",
      "0.9820443391799927\n",
      "98.20% 확률로 스팸입니다.\n",
      "\n",
      "0.11059824377298355\n",
      "88.94% 스팸이 아닙니다.\n",
      "\n",
      "0.017781730741262436\n",
      "98.22% 스팸이 아닙니다.\n",
      "\n",
      "0.980486273765564\n",
      "98.05% 확률로 스팸입니다.\n",
      "\n",
      "0.9766576290130615\n",
      "97.67% 확률로 스팸입니다.\n",
      "\n",
      "0.978411078453064\n",
      "97.84% 확률로 스팸입니다.\n",
      "\n",
      "0.9671887755393982\n",
      "96.72% 확률로 스팸입니다.\n",
      "\n",
      "0.9847368597984314\n",
      "98.47% 확률로 스팸입니다.\n",
      "\n",
      "0.9882010221481323\n",
      "98.82% 확률로 스팸입니다.\n",
      "\n",
      "0.9777801632881165\n",
      "97.78% 확률로 스팸입니다.\n",
      "\n",
      "0.9844225645065308\n",
      "98.44% 확률로 스팸입니다.\n",
      "\n",
      "0.9815635681152344\n",
      "98.16% 확률로 스팸입니다.\n",
      "\n",
      "0.9756861329078674\n",
      "97.57% 확률로 스팸입니다.\n",
      "\n",
      "0.860342800617218\n",
      "86.03% 확률로 스팸입니다.\n",
      "\n",
      "0.9886442422866821\n",
      "98.86% 확률로 스팸입니다.\n",
      "\n",
      "0.9818752408027649\n",
      "98.19% 확률로 스팸입니다.\n",
      "\n",
      "0.9888954162597656\n",
      "98.89% 확률로 스팸입니다.\n",
      "\n",
      "0.9862180352210999\n",
      "98.62% 확률로 스팸입니다.\n",
      "\n",
      "0.9876552224159241\n",
      "98.77% 확률로 스팸입니다.\n",
      "\n",
      "0.18776261806488037\n",
      "81.22% 스팸이 아닙니다.\n",
      "\n",
      "0.8113397359848022\n",
      "81.13% 확률로 스팸입니다.\n",
      "\n",
      "0.9824271202087402\n",
      "98.24% 확률로 스팸입니다.\n",
      "\n",
      "0.9461951851844788\n",
      "94.62% 확률로 스팸입니다.\n",
      "\n",
      "0.977163553237915\n",
      "97.72% 확률로 스팸입니다.\n",
      "\n",
      "0.5282717347145081\n",
      "52.83% 확률로 스팸입니다.\n",
      "\n",
      "0.6230809688568115\n",
      "62.31% 확률로 스팸입니다.\n",
      "\n",
      "0.9875035881996155\n",
      "98.75% 확률로 스팸입니다.\n",
      "\n",
      "0.9302472472190857\n",
      "93.02% 확률로 스팸입니다.\n",
      "\n",
      "0.9832789301872253\n",
      "98.33% 확률로 스팸입니다.\n",
      "\n",
      "0.988007664680481\n",
      "98.80% 확률로 스팸입니다.\n",
      "\n",
      "0.9841600060462952\n",
      "98.42% 확률로 스팸입니다.\n",
      "\n",
      "0.985742449760437\n",
      "98.57% 확률로 스팸입니다.\n",
      "\n",
      "0.042744532227516174\n",
      "95.73% 스팸이 아닙니다.\n",
      "\n",
      "0.9869464039802551\n",
      "98.69% 확률로 스팸입니다.\n",
      "\n",
      "0.9799846410751343\n",
      "98.00% 확률로 스팸입니다.\n",
      "\n",
      "0.9861187934875488\n",
      "98.61% 확률로 스팸입니다.\n",
      "\n",
      "0.9883854389190674\n",
      "98.84% 확률로 스팸입니다.\n",
      "\n",
      "0.9892676472663879\n",
      "98.93% 확률로 스팸입니다.\n",
      "\n",
      "0.9843935370445251\n",
      "98.44% 확률로 스팸입니다.\n",
      "\n",
      "0.9880651831626892\n",
      "98.81% 확률로 스팸입니다.\n",
      "\n",
      "0.9864809513092041\n",
      "98.65% 확률로 스팸입니다.\n",
      "\n",
      "0.9694325923919678\n",
      "96.94% 확률로 스팸입니다.\n",
      "\n",
      "0.9786607027053833\n",
      "97.87% 확률로 스팸입니다.\n",
      "\n",
      "0.9771780967712402\n",
      "97.72% 확률로 스팸입니다.\n",
      "\n",
      "0.984123170375824\n",
      "98.41% 확률로 스팸입니다.\n",
      "\n",
      "0.024181796237826347\n",
      "97.58% 스팸이 아닙니다.\n",
      "\n",
      "0.9850954413414001\n",
      "98.51% 확률로 스팸입니다.\n",
      "\n",
      "0.9843307137489319\n",
      "98.43% 확률로 스팸입니다.\n",
      "\n",
      "0.9895311594009399\n",
      "98.95% 확률로 스팸입니다.\n",
      "\n",
      "0.9833672046661377\n",
      "98.34% 확률로 스팸입니다.\n",
      "\n",
      "0.9841582775115967\n",
      "98.42% 확률로 스팸입니다.\n",
      "\n",
      "0.9894100427627563\n",
      "98.94% 확률로 스팸입니다.\n",
      "\n",
      "0.9893494844436646\n",
      "98.93% 확률로 스팸입니다.\n",
      "\n",
      "0.9897146821022034\n",
      "98.97% 확률로 스팸입니다.\n",
      "\n",
      "0.984840452671051\n",
      "98.48% 확률로 스팸입니다.\n",
      "\n",
      "0.9805657863616943\n",
      "98.06% 확률로 스팸입니다.\n",
      "\n",
      "0.9865698218345642\n",
      "98.66% 확률로 스팸입니다.\n",
      "\n",
      "0.9855052828788757\n",
      "98.55% 확률로 스팸입니다.\n",
      "\n",
      "0.9850966334342957\n",
      "98.51% 확률로 스팸입니다.\n",
      "\n",
      "0.98456871509552\n",
      "98.46% 확률로 스팸입니다.\n",
      "\n",
      "0.9860995411872864\n",
      "98.61% 확률로 스팸입니다.\n",
      "\n",
      "0.9786524772644043\n",
      "97.87% 확률로 스팸입니다.\n",
      "\n",
      "0.9826698303222656\n",
      "98.27% 확률로 스팸입니다.\n",
      "\n",
      "0.9864713549613953\n",
      "98.65% 확률로 스팸입니다.\n",
      "\n",
      "0.9882627129554749\n",
      "98.83% 확률로 스팸입니다.\n",
      "\n",
      "0.9897331595420837\n",
      "98.97% 확률로 스팸입니다.\n",
      "\n",
      "0.9727391004562378\n",
      "97.27% 확률로 스팸입니다.\n",
      "\n",
      "0.9760790467262268\n",
      "97.61% 확률로 스팸입니다.\n",
      "\n",
      "0.33711522817611694\n",
      "66.29% 스팸이 아닙니다.\n",
      "\n",
      "0.9868350625038147\n",
      "98.68% 확률로 스팸입니다.\n",
      "\n",
      "0.9861940741539001\n",
      "98.62% 확률로 스팸입니다.\n",
      "\n",
      "0.04179137572646141\n",
      "95.82% 스팸이 아닙니다.\n",
      "\n",
      "0.9825339913368225\n",
      "98.25% 확률로 스팸입니다.\n",
      "\n",
      "0.9826299548149109\n",
      "98.26% 확률로 스팸입니다.\n",
      "\n",
      "0.9828631281852722\n",
      "98.29% 확률로 스팸입니다.\n",
      "\n",
      "0.9808870553970337\n",
      "98.09% 확률로 스팸입니다.\n",
      "\n",
      "0.9881373047828674\n",
      "98.81% 확률로 스팸입니다.\n",
      "\n",
      "0.9827678799629211\n",
      "98.28% 확률로 스팸입니다.\n",
      "\n",
      "0.9866836667060852\n",
      "98.67% 확률로 스팸입니다.\n",
      "\n",
      "0.9825002551078796\n",
      "98.25% 확률로 스팸입니다.\n",
      "\n",
      "0.9819583296775818\n",
      "98.20% 확률로 스팸입니다.\n",
      "\n",
      "0.9874037504196167\n",
      "98.74% 확률로 스팸입니다.\n",
      "\n",
      "0.9845177531242371\n",
      "98.45% 확률로 스팸입니다.\n",
      "\n",
      "0.9811986684799194\n",
      "98.12% 확률로 스팸입니다.\n",
      "\n",
      "0.9877527952194214\n",
      "98.78% 확률로 스팸입니다.\n",
      "\n",
      "0.9829543232917786\n",
      "98.30% 확률로 스팸입니다.\n",
      "\n",
      "0.9889845848083496\n",
      "98.90% 확률로 스팸입니다.\n",
      "\n",
      "0.9871619343757629\n",
      "98.72% 확률로 스팸입니다.\n",
      "\n",
      "0.9748092293739319\n",
      "97.48% 확률로 스팸입니다.\n",
      "\n",
      "0.9862180352210999\n",
      "98.62% 확률로 스팸입니다.\n",
      "\n",
      "0.9832012057304382\n",
      "98.32% 확률로 스팸입니다.\n",
      "\n",
      "0.03692501038312912\n",
      "96.31% 스팸이 아닙니다.\n",
      "\n",
      "0.15988600254058838\n",
      "84.01% 스팸이 아닙니다.\n",
      "\n",
      "0.9845716953277588\n",
      "98.46% 확률로 스팸입니다.\n",
      "\n",
      "0.2212774157524109\n",
      "77.87% 스팸이 아닙니다.\n",
      "\n",
      "0.9412698149681091\n",
      "94.13% 확률로 스팸입니다.\n",
      "\n",
      "0.8064202070236206\n",
      "80.64% 확률로 스팸입니다.\n",
      "\n",
      "0.06594429910182953\n",
      "93.41% 스팸이 아닙니다.\n",
      "\n",
      "0.9819650053977966\n",
      "98.20% 확률로 스팸입니다.\n",
      "\n",
      "0.9823153614997864\n",
      "98.23% 확률로 스팸입니다.\n",
      "\n",
      "0.08292663842439651\n",
      "91.71% 스팸이 아닙니다.\n",
      "\n",
      "0.9874891638755798\n",
      "98.75% 확률로 스팸입니다.\n",
      "\n",
      "0.9869751930236816\n",
      "98.70% 확률로 스팸입니다.\n",
      "\n",
      "0.9841011166572571\n",
      "98.41% 확률로 스팸입니다.\n",
      "\n",
      "0.8797611594200134\n",
      "87.98% 확률로 스팸입니다.\n",
      "\n",
      "0.9890331029891968\n",
      "98.90% 확률로 스팸입니다.\n",
      "\n",
      "0.9863860607147217\n",
      "98.64% 확률로 스팸입니다.\n",
      "\n",
      "0.20785833895206451\n",
      "79.21% 스팸이 아닙니다.\n",
      "\n",
      "0.015070914290845394\n",
      "98.49% 스팸이 아닙니다.\n",
      "\n",
      "0.9777801632881165\n",
      "97.78% 확률로 스팸입니다.\n",
      "\n",
      "0.9791841506958008\n",
      "97.92% 확률로 스팸입니다.\n",
      "\n",
      "0.9862441420555115\n",
      "98.62% 확률로 스팸입니다.\n",
      "\n"
     ]
    }
   ],
   "source": [
    "for i in range(len(count)):  \n",
    "    sentiment_predict2(X_test[[count[i]]])"
   ]
  },
  {
   "cell_type": "code",
   "execution_count": 327,
   "metadata": {},
   "outputs": [
    {
     "data": {
      "text/plain": [
       "46"
      ]
     },
     "execution_count": 327,
     "metadata": {},
     "output_type": "execute_result"
    }
   ],
   "source": [
    "count[2]"
   ]
  },
  {
   "cell_type": "code",
   "execution_count": null,
   "metadata": {},
   "outputs": [],
   "source": []
  }
 ],
 "metadata": {
  "kernelspec": {
   "display_name": "Python 3",
   "language": "python",
   "name": "python3"
  },
  "language_info": {
   "codemirror_mode": {
    "name": "ipython",
    "version": 3
   },
   "file_extension": ".py",
   "mimetype": "text/x-python",
   "name": "python",
   "nbconvert_exporter": "python",
   "pygments_lexer": "ipython3",
   "version": "3.7.7"
  }
 },
 "nbformat": 4,
 "nbformat_minor": 4
}
